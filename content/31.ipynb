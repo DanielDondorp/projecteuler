{
 "cells": [
  {
   "cell_type": "markdown",
   "id": "98738ad6-df62-4d0e-b06a-77842087ba39",
   "metadata": {},
   "source": [
    "## Problem 31\n",
    "<p>In the United Kingdom the currency is made up of pound (£) and pence (p). There are eight coins in general circulation:</p>\n",
    "<blockquote>1p, 2p, 5p, 10p, 20p, 50p, £1 (100p), and £2 (200p).</blockquote>\n",
    "<p>It is possible to make £2 in the following way:</p>\n",
    "<blockquote>1×£1 + 1×50p + 2×20p + 1×5p + 1×2p + 3×1p</blockquote>\n",
    "<p>How many different ways can £2 be made using any number of coins?</p>\n"
   ]
  },
  {
   "cell_type": "code",
   "execution_count": 9,
   "id": "a0dd977a-fada-48b8-b299-b20d1b1bf5d6",
   "metadata": {},
   "outputs": [],
   "source": [
    "coins = [200, 100, 50, 20, 10, 5, 2, 1]\n",
    "target = 200\n",
    "#try a recursive approach\n",
    "def combinations(target, coins):\n",
    "    if target == 0: # if zero, there are no ways, so return list of 0 combinations\n",
    "        return [[]]\n",
    "    if target < 0 or not coins: # if under target or no coins left, return empty list with no combinations\n",
    "        return []\n",
    "    \n",
    "    #we either use the current coin in reaching the target, or we do not, so we run two recursive scenarios:\n",
    "    #Combinations of using the current coin:\n",
    "    combinations_with_current_coin = combinations(target - coins[0], coins)\n",
    "    \n",
    "    #combinations without using the current coin\n",
    "    combinations_without_current_coin = combinations(target, coins[1:])\n",
    "    \n",
    "    #add the current coin to all combinations that make use of it\n",
    "    all_combinations = [[coins[0]] + combi for combi in combinations_with_current_coin]\n",
    "    \n",
    "    #finally return all combinations with current coin, and the ones without the current coin\n",
    "    return all_combinations + combinations_without_current_coin"
   ]
  },
  {
   "cell_type": "code",
   "execution_count": 12,
   "id": "a221d294-310d-4790-b9dc-c92479efde1c",
   "metadata": {},
   "outputs": [
    {
     "name": "stdout",
     "output_type": "stream",
     "text": [
      "73682\n"
     ]
    }
   ],
   "source": [
    "result = combinations(target, coins)\n",
    "print(len(result))"
   ]
  },
  {
   "cell_type": "code",
   "execution_count": 124,
   "id": "3cd4a0d2-fc31-40d1-a2b9-a6f0b9daccef",
   "metadata": {},
   "outputs": [
    {
     "name": "stdout",
     "output_type": "stream",
     "text": [
      "73682\n"
     ]
    }
   ],
   "source": [
    "#What if we try to look at all ways to make combinations for all values up to 200 pennies?\n",
    "#There is one way to make 0, by using no coins. There is 1 way to make 1, by using 1 penny.\n",
    "#There are two ways to make 2, by using 2 pennies and by using 1 2 penny.\n",
    "\n",
    "#empty array to store combinations for all values up to 200, including 0 is 201 long\n",
    "combinations = np.zeros(201, dtype=np.int32)\n",
    "coins = [1,2,5,10,20,50,100,200]\n",
    "#start with combination for value 0, which is one.\n",
    "combinations[0] = 1\n",
    "\n",
    "#for every coin\n",
    "for coin in coins:\n",
    "    #for the value of the coin to the max amount of combinations:\n",
    "    for i in range(coin, 201):\n",
    "        # update how many ways we can reach that value with the given coin \n",
    "        # by adding the current number of combinations to the amount of ways we got \n",
    "        # here with the previous coins\n",
    "        combinations[i] += combinations[i-coin]\n",
    "#we want to know how many ways there are to make 200:\n",
    "print(combinations[-1])"
   ]
  },
  {
   "cell_type": "code",
   "execution_count": 108,
   "id": "ae1f5916-865a-4c7d-b6f2-7b330a9c3c7e",
   "metadata": {},
   "outputs": [
    {
     "data": {
      "text/plain": [
       "201"
      ]
     },
     "execution_count": 108,
     "metadata": {},
     "output_type": "execute_result"
    }
   ],
   "source": [
    "len([0]*201)"
   ]
  },
  {
   "cell_type": "code",
   "execution_count": 96,
   "id": "e6a9648f-0f5e-40cc-81ed-0cd8ad8e5c1c",
   "metadata": {},
   "outputs": [
    {
     "name": "stdout",
     "output_type": "stream",
     "text": [
      "73682\n"
     ]
    }
   ],
   "source": [
    "ways = [0]*201\n",
    "ways[0] = 1\n",
    "for x in [1,2,5,10,20,50,100,200]:\n",
    "    for i in range(x, 201):\n",
    "        ways[i] += ways[i-x]\n",
    "print(ways[200])\n"
   ]
  }
 ],
 "metadata": {
  "kernelspec": {
   "display_name": "Python 3 (ipykernel)",
   "language": "python",
   "name": "python3"
  },
  "language_info": {
   "codemirror_mode": {
    "name": "ipython",
    "version": 3
   },
   "file_extension": ".py",
   "mimetype": "text/x-python",
   "name": "python",
   "nbconvert_exporter": "python",
   "pygments_lexer": "ipython3",
   "version": "3.10.6"
  }
 },
 "nbformat": 4,
 "nbformat_minor": 5
}
