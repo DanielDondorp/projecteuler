{
 "cells": [
  {
   "cell_type": "markdown",
   "id": "98738ad6-df62-4d0e-b06a-77842087ba39",
   "metadata": {},
   "source": [
    "## Problem 31\n",
    "<p>In the United Kingdom the currency is made up of pound (£) and pence (p). There are eight coins in general circulation:</p>\n",
    "<blockquote>1p, 2p, 5p, 10p, 20p, 50p, £1 (100p), and £2 (200p).</blockquote>\n",
    "<p>It is possible to make £2 in the following way:</p>\n",
    "<blockquote>1×£1 + 1×50p + 2×20p + 1×5p + 1×2p + 3×1p</blockquote>\n",
    "<p>How many different ways can £2 be made using any number of coins?</p>\n"
   ]
  },
  {
   "cell_type": "code",
   "execution_count": 9,
   "id": "a0dd977a-fada-48b8-b299-b20d1b1bf5d6",
   "metadata": {},
   "outputs": [],
   "source": [
    "coins = [200, 100, 50, 20, 10, 5, 2, 1]\n",
    "target = 200\n",
    "#try a recursive approach\n",
    "def combinations(target, coins):\n",
    "    if target == 0: # if zero, there are no ways, so return list of 0 combinations\n",
    "        return [[]]\n",
    "    if target < 0 or not coins: # if under target or no coins left, return empty list with no combinations\n",
    "        return []\n",
    "    \n",
    "    #we either use the current coin in reaching the target, or we do not, so we run two recursive scenarios:\n",
    "    #Combinations of using the current coin:\n",
    "    combinations_with_current_coin = combinations(target - coins[0], coins)\n",
    "    \n",
    "    #combinations without using the current coin\n",
    "    combinations_without_current_coin = combinations(target, coins[1:])\n",
    "    \n",
    "    #add the current coin to all combinations that make use of it\n",
    "    all_combinations = [[coins[0]] + combi for combi in combinations_with_current_coin]\n",
    "    \n",
    "    #finally return all combinations with current coin, and the ones without the current coin\n",
    "    return all_combinations + combinations_without_current_coin"
   ]
  },
  {
   "cell_type": "code",
   "execution_count": 12,
   "id": "a221d294-310d-4790-b9dc-c92479efde1c",
   "metadata": {},
   "outputs": [
    {
     "name": "stdout",
     "output_type": "stream",
     "text": [
      "73682\n"
     ]
    }
   ],
   "source": [
    "result = combinations(target, coins)\n",
    "print(len(result))"
   ]
  },
  {
   "cell_type": "code",
   "execution_count": 124,
   "id": "3cd4a0d2-fc31-40d1-a2b9-a6f0b9daccef",
   "metadata": {},
   "outputs": [
    {
     "name": "stdout",
     "output_type": "stream",
     "text": [
      "73682\n"
     ]
    }
   ],
   "source": [
    "#What if we try to look at all ways to make combinations for all values up to 200 pennies?\n",
    "#There is one way to make 0, by using no coins. There is 1 way to make 1, by using 1 penny.\n",
    "#There are two ways to make 2, by using 2 pennies and by using 1 2 penny.\n",
    "\n",
    "#empty array to store combinations for all values up to 200, including 0 is 201 long\n",
    "combinations = np.zeros(201, dtype=np.int32)\n",
    "coins = [1,2,5,10,20,50,100,200]\n",
    "#start with combination for value 0, which is one.\n",
    "combinations[0] = 1\n",
    "\n",
    "#for every coin\n",
    "for coin in coins:\n",
    "    #for the value of the coin to the max amount of combinations:\n",
    "    for i in range(coin, 201):\n",
    "        # update how many ways we can reach that value with the given coin \n",
    "        # by adding the current number of combinations to the amount of ways we got \n",
    "        # here with the previous coins\n",
    "        combinations[i] += combinations[i-coin]\n",
    "#we want to know how many ways there are to make 200:\n",
    "print(combinations[-1])"
   ]
  },
  {
   "cell_type": "code",
   "execution_count": 108,
   "id": "ae1f5916-865a-4c7d-b6f2-7b330a9c3c7e",
   "metadata": {},
   "outputs": [
    {
     "data": {
      "text/plain": [
       "201"
      ]
     },
     "execution_count": 108,
     "metadata": {},
     "output_type": "execute_result"
    }
   ],
   "source": [
    "len([0]*201)"
   ]
  },
  {
   "cell_type": "code",
   "execution_count": 96,
   "id": "e6a9648f-0f5e-40cc-81ed-0cd8ad8e5c1c",
   "metadata": {},
   "outputs": [
    {
     "name": "stdout",
     "output_type": "stream",
     "text": [
      "73682\n"
     ]
    }
   ],
   "source": [
    "ways = [0]*201\n",
    "ways[0] = 1\n",
    "for x in [1,2,5,10,20,50,100,200]:\n",
    "    for i in range(x, 201):\n",
    "        ways[i] += ways[i-x]\n",
    "print(ways[200])\n"
   ]
  },
  {
   "cell_type": "markdown",
   "id": "66452b8d-0e88-47b3-99c0-7d498423348c",
   "metadata": {},
   "source": [
    "## problem 28\n",
    "\n",
    "<p>Starting with the number $1$ and moving to the right in a clockwise direction a $5$ by $5$ spiral is formed as follows:</p>\n",
    "<p class=\"monospace center\"><span class=\"red\"><b>21</b></span> 22 23 24 <span class=\"red\"><b>25</b></span><br>\n",
    "20  <span class=\"red\"><b>7</b></span>  8  <span class=\"red\"><b>9</b></span> 10<br>\n",
    "19  6  <span class=\"red\"><b>1</b></span>  2 11<br>\n",
    "18  <span class=\"red\"><b>5</b></span>  4  <span class=\"red\"><b>3</b></span> 12<br><span class=\"red\"><b>17</b></span> 16 15 14 <span class=\"red\"><b>13</b></span></p>\n",
    "<p>It can be verified that the sum of the numbers on the diagonals is $101$.</p>\n",
    "<p>What is the sum of the numbers on the diagonals in a $1001$ by $1001$ spiral formed in the same way?</p>\n"
   ]
  },
  {
   "cell_type": "code",
   "execution_count": 15,
   "id": "7864501d-9f3e-4d26-b5de-2dc7484c911d",
   "metadata": {},
   "outputs": [],
   "source": [
    "import numpy as np"
   ]
  },
  {
   "cell_type": "code",
   "execution_count": 68,
   "id": "97b0c693-3a61-47f6-9a9e-21350a493f1a",
   "metadata": {},
   "outputs": [],
   "source": [
    "total_spiral_flat = np.arange(1, 1001*1001, 1)"
   ]
  },
  {
   "cell_type": "code",
   "execution_count": 69,
   "id": "37dd63bf-d11b-4107-a775-498c20e09de4",
   "metadata": {},
   "outputs": [],
   "source": [
    "five = np.arange(1, 26, 1)"
   ]
  },
  {
   "cell_type": "code",
   "execution_count": 70,
   "id": "a93be0b6-4a91-428d-8410-6bc637186378",
   "metadata": {},
   "outputs": [
    {
     "data": {
      "text/plain": [
       "array([ 1,  2,  3,  4,  5,  6,  7,  8,  9, 10, 11, 12, 13, 14, 15, 16, 17,\n",
       "       18, 19, 20, 21, 22, 23, 24, 25])"
      ]
     },
     "execution_count": 70,
     "metadata": {},
     "output_type": "execute_result"
    }
   ],
   "source": [
    "five"
   ]
  },
  {
   "cell_type": "code",
   "execution_count": 78,
   "id": "0cc8167c-ea61-4693-83da-66ca2c839071",
   "metadata": {},
   "outputs": [],
   "source": [
    "indices = [0]\n",
    "i = 0\n",
    "step = 1\n",
    "while i < len(total_spiral_flat):\n",
    "    for _ in range(4):\n",
    "        if i >= len(total_spiral_flat):\n",
    "            break\n",
    "        i += step + 1\n",
    "        indices.append(i)\n",
    "    step+=2\n"
   ]
  },
  {
   "cell_type": "code",
   "execution_count": 79,
   "id": "087f89de-681e-41c1-9842-749c162d45e0",
   "metadata": {},
   "outputs": [
    {
     "data": {
      "text/plain": [
       "668169000"
      ]
     },
     "execution_count": 79,
     "metadata": {},
     "output_type": "execute_result"
    }
   ],
   "source": [
    "np.sum(total_spiral_flat[indices[:-1]])"
   ]
  },
  {
   "cell_type": "code",
   "execution_count": 82,
   "id": "8ca6289e-0117-49d0-bd5b-4278fd742532",
   "metadata": {},
   "outputs": [
    {
     "data": {
      "text/plain": [
       "1001000"
      ]
     },
     "execution_count": 82,
     "metadata": {},
     "output_type": "execute_result"
    }
   ],
   "source": [
    "indices[-2]"
   ]
  },
  {
   "cell_type": "code",
   "execution_count": null,
   "id": "743dd3ce-a142-4a7a-ab1a-232681393c97",
   "metadata": {},
   "outputs": [],
   "source": []
  }
 ],
 "metadata": {
  "kernelspec": {
   "display_name": "Python 3 (ipykernel)",
   "language": "python",
   "name": "python3"
  },
  "language_info": {
   "codemirror_mode": {
    "name": "ipython",
    "version": 3
   },
   "file_extension": ".py",
   "mimetype": "text/x-python",
   "name": "python",
   "nbconvert_exporter": "python",
   "pygments_lexer": "ipython3",
   "version": "3.10.6"
  }
 },
 "nbformat": 4,
 "nbformat_minor": 5
}
