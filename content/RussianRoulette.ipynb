{
 "cells": [
  {
   "cell_type": "code",
   "execution_count": 7,
   "id": "ad1dcece-a972-40ea-a984-8feff4bc5d20",
   "metadata": {},
   "outputs": [
    {
     "name": "stdout",
     "output_type": "stream",
     "text": [
      "Note: you may need to restart the kernel to use updated packages.\n",
      "Note: you may need to restart the kernel to use updated packages.\n"
     ]
    }
   ],
   "source": [
    "import numpy as np\n",
    "import matplotlib.pyplot as plt\n",
    "%pip install -q ipywidgets\n",
    "%pip install -q ipympl\n",
    "import ipywidgets as widgets\n",
    "from IPython.display import display"
   ]
  },
  {
   "cell_type": "code",
   "execution_count": null,
   "id": "f5ea3e1f-9c3e-45a0-b71f-2fbc992c8f88",
   "metadata": {},
   "outputs": [],
   "source": [
    "class Roulette:\n",
    "    def __init__(self, n_chambers = 6, print_stats = False):\n",
    "        self.print_stats = print_stats\n",
    "        self.n_chambers = n_chambers\n",
    "        self.spin_cylinder(data = \"\")\n",
    "        self.current_chamber = 0\n",
    "        self.setup_ui()\n",
    "    \n",
    "    def spin_cylinder(self, data):\n",
    "        self.bullet_location = np.random.randint(0,self.n_chambers)\n",
    "        self.current_chamber = 0\n",
    "        print(\"Spinning Cylinder, resetting your odds.\")\n",
    "        \n",
    "    def pull_trigger(self, data):\n",
    "        if self.current_chamber == self.bullet_location:\n",
    "            print(\"BANG!\")\n",
    "        else:\n",
    "            print(\"You live to try again.\")\n",
    "            self.current_chamber+=1\n",
    "        if self.print_stats:\n",
    "            self.print_status()\n",
    "            \n",
    "        \n",
    "    def print_status(self):\n",
    "        print(f\"Current Chamber: {self.current_chamber}, Bullet Location: {self.bullet_location}\")\n",
    "            \n",
    "    def setup_ui(self):\n",
    "        self.trigger = widgets.Button(description = 'Trigger')\n",
    "        self.trigger.on_click(self.pull_trigger)\n",
    "        self.spin = widgets.Button(description = 'Spin Cylinder')\n",
    "        self.spin.on_click(self.spin_cylinder)\n",
    "        self.ui = widgets.HBox([self.trigger, self.spin])\n",
    "        display(self.ui)\n",
    "        if self.print_stats:\n",
    "            self.print_status()"
   ]
  },
  {
   "cell_type": "code",
   "execution_count": null,
   "id": "874ad2af-b632-4c98-920b-27c4cf9e4ffb",
   "metadata": {
    "scrolled": true
   },
   "outputs": [],
   "source": [
    "Roulette(print_stats=True)"
   ]
  },
  {
   "cell_type": "code",
   "execution_count": null,
   "id": "8d23feb5",
   "metadata": {},
   "outputs": [],
   "source": []
  }
 ],
 "metadata": {
  "kernelspec": {
   "display_name": "Python 3 (ipykernel)",
   "language": "python",
   "name": "python3"
  },
  "language_info": {
   "codemirror_mode": {
    "name": "ipython",
    "version": 3
   },
   "file_extension": ".py",
   "mimetype": "text/x-python",
   "name": "python",
   "nbconvert_exporter": "python",
   "pygments_lexer": "ipython3",
   "version": "3.10.6"
  }
 },
 "nbformat": 4,
 "nbformat_minor": 5
}
