{
 "cells": [
  {
   "cell_type": "code",
   "execution_count": 1,
   "id": "ad1dcece-a972-40ea-a984-8feff4bc5d20",
   "metadata": {},
   "outputs": [
    {
     "name": "stdout",
     "output_type": "stream",
     "text": [
      "Note: you may need to restart the kernel to use updated packages.\n",
      "Note: you may need to restart the kernel to use updated packages.\n"
     ]
    }
   ],
   "source": [
    "import numpy as np\n",
    "import matplotlib.pyplot as plt\n",
    "%pip install -q ipywidgets\n",
    "%pip install -q ipympl\n",
    "import ipywidgets as widgets\n",
    "from IPython.display import display"
   ]
  },
  {
   "cell_type": "code",
   "execution_count": 18,
   "id": "f5ea3e1f-9c3e-45a0-b71f-2fbc992c8f88",
   "metadata": {},
   "outputs": [],
   "source": [
    "class Roulette:\n",
    "    def __init__(self, n_chambers = 6, print_stats = False):\n",
    "        self.n_chambers = n_chambers\n",
    "        self.spin_cylinder(data = \"\")\n",
    "        self.current_chamber = 0\n",
    "        self.setup_ui()\n",
    "    \n",
    "    def spin_cylinder(self, data):\n",
    "        self.bullet_location = np.random.randint(0,self.n_chambers)\n",
    "        self.current_chamber = 0\n",
    "        print(\"Spinning Cylinder, resetting your odds.\")\n",
    "        \n",
    "    def pull_trigger(self, data):\n",
    "        if self.current_chamber == self.bullet_location:\n",
    "            print(\"BANG!\")\n",
    "        else:\n",
    "            print(\"You live to try again.\")\n",
    "            self.current_chamber+=1\n",
    "        if self.print_stats:\n",
    "            \n",
    "        \n",
    "    def print_status(self):\n",
    "        print(f\"Current Chamber: {self.current_chamber}, Bullet Location: {self.bullet_location}\")\n",
    "            \n",
    "    def setup_ui(self):\n",
    "        self.trigger = widgets.Button(description = 'Trigger')\n",
    "        self.trigger.on_click(self.pull_trigger)\n",
    "        self.spin = widgets.Button(description = 'Spin Cylinder')\n",
    "        self.spin.on_click(self.spin_cylinder)\n",
    "        self.ui = widgets.HBox([self.trigger, self.spin])\n",
    "        display(self.ui)"
   ]
  },
  {
   "cell_type": "code",
   "execution_count": 19,
   "id": "874ad2af-b632-4c98-920b-27c4cf9e4ffb",
   "metadata": {},
   "outputs": [
    {
     "name": "stdout",
     "output_type": "stream",
     "text": [
      "Spinning Cylinder, resetting your odds.\n"
     ]
    },
    {
     "data": {
      "application/vnd.jupyter.widget-view+json": {
       "model_id": "d02a13e8c991441d8a6f92aaa2ec322d",
       "version_major": 2,
       "version_minor": 0
      },
      "text/plain": [
       "HBox(children=(Button(description='Trigger', style=ButtonStyle()), Button(description='Spin Cylinder', style=B…"
      ]
     },
     "metadata": {},
     "output_type": "display_data"
    },
    {
     "data": {
      "text/plain": [
       "<__main__.Roulette at 0x7fce8dca57e0>"
      ]
     },
     "execution_count": 19,
     "metadata": {},
     "output_type": "execute_result"
    },
    {
     "name": "stdout",
     "output_type": "stream",
     "text": [
      "Spinning Cylinder, resetting your odds.\n",
      "You live to try again.\n",
      "You live to try again.\n",
      "You live to try again.\n",
      "BANG!\n",
      "BANG!\n",
      "BANG!\n",
      "Spinning Cylinder, resetting your odds.\n",
      "BANG!\n",
      "Spinning Cylinder, resetting your odds.\n",
      "You live to try again.\n",
      "You live to try again.\n",
      "You live to try again.\n",
      "You live to try again.\n",
      "BANG!\n",
      "Spinning Cylinder, resetting your odds.\n",
      "You live to try again.\n",
      "You live to try again.\n",
      "You live to try again.\n",
      "You live to try again.\n",
      "BANG!\n",
      "Spinning Cylinder, resetting your odds.\n",
      "You live to try again.\n",
      "You live to try again.\n",
      "You live to try again.\n",
      "You live to try again.\n",
      "You live to try again.\n",
      "BANG!\n",
      "Spinning Cylinder, resetting your odds.\n",
      "BANG!\n",
      "BANG!\n",
      "BANG!\n",
      "Spinning Cylinder, resetting your odds.\n",
      "You live to try again.\n",
      "You live to try again.\n",
      "You live to try again.\n",
      "You live to try again.\n",
      "You live to try again.\n",
      "BANG!\n",
      "Spinning Cylinder, resetting your odds.\n",
      "Spinning Cylinder, resetting your odds.\n"
     ]
    }
   ],
   "source": [
    "Roulette()"
   ]
  },
  {
   "cell_type": "code",
   "execution_count": null,
   "id": "8d23feb5",
   "metadata": {},
   "outputs": [],
   "source": []
  }
 ],
 "metadata": {
  "kernelspec": {
   "display_name": "Python 3 (ipykernel)",
   "language": "python",
   "name": "python3"
  },
  "language_info": {
   "codemirror_mode": {
    "name": "ipython",
    "version": 3
   },
   "file_extension": ".py",
   "mimetype": "text/x-python",
   "name": "python",
   "nbconvert_exporter": "python",
   "pygments_lexer": "ipython3",
   "version": "3.10.6"
  }
 },
 "nbformat": 4,
 "nbformat_minor": 5
}
