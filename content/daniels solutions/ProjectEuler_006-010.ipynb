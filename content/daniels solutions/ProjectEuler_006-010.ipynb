{
  "metadata": {
    "kernelspec": {
      "name": "python",
      "display_name": "Python (Pyodide)",
      "language": "python"
    },
    "language_info": {
      "codemirror_mode": {
        "name": "python",
        "version": 3
      },
      "file_extension": ".py",
      "mimetype": "text/x-python",
      "name": "python",
      "nbconvert_exporter": "python",
      "pygments_lexer": "ipython3",
      "version": "3.8"
    }
  },
  "nbformat_minor": 5,
  "nbformat": 4,
  "cells": [
    {
      "cell_type": "markdown",
      "source": "# Problem 6 to 10\n\n[![project euler](https://projecteuler.net/themes/logo_default.png)](https://www.projecteuler.net)",
      "metadata": {},
      "id": "6510699d"
    },
    {
      "cell_type": "code",
      "source": "import numpy as np",
      "metadata": {
        "trusted": true
      },
      "execution_count": 1,
      "outputs": [],
      "id": "bcb3382d-adb9-4bbb-999a-51fd6c6c0a35"
    },
    {
      "cell_type": "markdown",
      "source": "## Problem 6 - Sum Square Difference\n\n<p>The sum of the squares of the first ten natural numbers is,</p>\n$$1^2 + 2^2 + ... + 10^2 = 385.$$\n<p>The square of the sum of the first ten natural numbers is,</p>\n$$(1 + 2 + ... + 10)^2 = 55^2 = 3025.$$\n<p>Hence the difference between the sum of the squares of the first ten natural numbers and the square of the sum is $3025 - 385 = 2640$.</p>\n<p>Find the difference between the sum of the squares of the first one hundred natural numbers and the square of the sum.</p>",
      "metadata": {},
      "id": "065cd15b"
    },
    {
      "cell_type": "code",
      "source": "def difference(lim):\n    numbers = np.arange(1, lim+1)\n    ssq = np.sum(numbers**2)\n    sqs = np.sum(numbers)**2\n    return sqs-ssq",
      "metadata": {
        "trusted": true
      },
      "execution_count": 2,
      "outputs": [],
      "id": "ae501669"
    },
    {
      "cell_type": "code",
      "source": "difference(100)",
      "metadata": {
        "trusted": true
      },
      "execution_count": 3,
      "outputs": [
        {
          "execution_count": 3,
          "output_type": "execute_result",
          "data": {
            "text/plain": "25164150"
          },
          "metadata": {}
        }
      ],
      "id": "cd512b7a-1afb-4ec9-a829-bdd4641039b2"
    },
    {
      "cell_type": "markdown",
      "source": "## Problem 7 - 10001st prime\n\n<p>By listing the first six prime numbers: $2, 3, 5, 7, 11$, and $13$, we can see that the $6$th prime is $13$.</p>\n<p>What is the $10\\,001$st prime number?</p>\n",
      "metadata": {},
      "id": "7eae9903"
    },
    {
      "cell_type": "code",
      "source": "#try remembering the sieve of that greek dude\n\ndef find_primes(lim):\n    numbers = np.arange(2, lim+1)\n    primes = np.array([], dtype = np.int32)\n    #first prime is 2\n    p = 2\n    while p <= lim+1:\n        #eliminate all multiples of p:\n        numbers = numbers[numbers>=p]\n        numbers = numbers[numbers%p!=0]\n        primes = np.append(primes, p)\n        if len(numbers)<1:\n            return primes\n        \n        p = numbers[0]\n        numbers = np.append(np.unique(primes), numbers)\n    return primes\n        ",
      "metadata": {
        "trusted": true
      },
      "execution_count": 4,
      "outputs": [],
      "id": "110cf6c6"
    },
    {
      "cell_type": "code",
      "source": "primes = find_primes(110000)",
      "metadata": {
        "trusted": true
      },
      "execution_count": 5,
      "outputs": [],
      "id": "b0c875a5-282d-41f4-b211-322a1c565cf1"
    },
    {
      "cell_type": "code",
      "source": "primes[10000] #10001st prime ",
      "metadata": {
        "trusted": true
      },
      "execution_count": 6,
      "outputs": [
        {
          "execution_count": 6,
          "output_type": "execute_result",
          "data": {
            "text/plain": "104743"
          },
          "metadata": {}
        }
      ],
      "id": "2fac3ec0-7d99-47c6-8449-c78536a289d3"
    },
    {
      "cell_type": "code",
      "source": "primes[-1]",
      "metadata": {
        "trusted": true
      },
      "execution_count": 7,
      "outputs": [
        {
          "execution_count": 7,
          "output_type": "execute_result",
          "data": {
            "text/plain": "109987"
          },
          "metadata": {}
        }
      ],
      "id": "54fdbedf-fd1d-4d17-806d-6a401b29be3c"
    },
    {
      "cell_type": "code",
      "source": "len(primes)",
      "metadata": {
        "trusted": true
      },
      "execution_count": 8,
      "outputs": [
        {
          "execution_count": 8,
          "output_type": "execute_result",
          "data": {
            "text/plain": "10453"
          },
          "metadata": {}
        }
      ],
      "id": "38b98243-8a3b-4caa-b814-ad685d929803"
    },
    {
      "cell_type": "markdown",
      "source": "This solution annoys me in its inexactness of the limit I have to supply. We are calculating a bunch of primes extra for free here.",
      "metadata": {},
      "id": "d23ac107-382f-42ec-88a2-8094544c69c3"
    },
    {
      "cell_type": "markdown",
      "source": "## Problem 8 - Largest product in a series\n\n<p>The four adjacent digits in the $1000$-digit number that have the greatest product are $9 \\times 9 \\times 8 \\times 9 = 5832$.</p>\n<p class=\"monospace center\">\n73167176531330624919225119674426574742355349194934<br>\n96983520312774506326239578318016984801869478851843<br>\n85861560789112949495459501737958331952853208805511<br>\n12540698747158523863050715693290963295227443043557<br>\n66896648950445244523161731856403098711121722383113<br>\n62229893423380308135336276614282806444486645238749<br>\n30358907296290491560440772390713810515859307960866<br>\n70172427121883998797908792274921901699720888093776<br>\n65727333001053367881220235421809751254540594752243<br>\n52584907711670556013604839586446706324415722155397<br>\n53697817977846174064955149290862569321978468622482<br>\n83972241375657056057490261407972968652414535100474<br>\n82166370484403199890008895243450658541227588666881<br>\n16427171479924442928230863465674813919123162824586<br>\n17866458359124566529476545682848912883142607690042<br>\n24219022671055626321111109370544217506941658960408<br>\n07198403850962455444362981230987879927244284909188<br>\n84580156166097919133875499200524063689912560717606<br>\n05886116467109405077541002256983155200055935729725<br>\n71636269561882670428252483600823257530420752963450<br></p>\n<p>Find the thirteen adjacent digits in the $1000$-digit number that have the greatest product. What is the value of this product?</p>",
      "metadata": {},
      "id": "7953fcd3"
    },
    {
      "cell_type": "code",
      "source": "#put the series in a variable\nseries = 7316717653133062491922511967442657474235534919493496983520312774506326239578318016984801869478851843858615607891129494954595017379583319528532088055111254069874715852386305071569329096329522744304355766896648950445244523161731856403098711121722383113622298934233803081353362766142828064444866452387493035890729629049156044077239071381051585930796086670172427121883998797908792274921901699720888093776657273330010533678812202354218097512545405947522435258490771167055601360483958644670632441572215539753697817977846174064955149290862569321978468622482839722413756570560574902614079729686524145351004748216637048440319989000889524345065854122758866688116427171479924442928230863465674813919123162824586178664583591245665294765456828489128831426076900422421902267105562632111110937054421750694165896040807198403850962455444362981230987879927244284909188845801561660979191338754992005240636899125607176060588611646710940507754100225698315520005593572972571636269561882670428252483600823257530420752963450",
      "metadata": {
        "trusted": true
      },
      "execution_count": 9,
      "outputs": [],
      "id": "f5867eda"
    },
    {
      "cell_type": "code",
      "source": "#sanity check\nseries = str(series)\nlen(series)",
      "metadata": {
        "trusted": true
      },
      "execution_count": 10,
      "outputs": [
        {
          "execution_count": 10,
          "output_type": "execute_result",
          "data": {
            "text/plain": "1000"
          },
          "metadata": {}
        }
      ],
      "id": "77b4ac0f-f36d-4e53-a05d-ba7c7838ad9d"
    },
    {
      "cell_type": "code",
      "source": "#simple solution\nlargest_product = 0\nfor i in range(len(series)-12):\n    digits = series[i:i+13]\n    product = 1\n    for d in digits:\n        product *= int(d)\n    largest_product = np.max([product, largest_product])\nprint(largest_product)\n    ",
      "metadata": {
        "trusted": true
      },
      "execution_count": 11,
      "outputs": [
        {
          "name": "stdout",
          "text": "23514624000\n",
          "output_type": "stream"
        }
      ],
      "id": "8086507a-bb10-450a-b6b5-4ab63ca98026"
    },
    {
      "cell_type": "code",
      "source": "#vectorized approach\n\n#make 1dim array:\narr = np.array(list(series), dtype = np.int64)\n#sanity check\nprint(arr.shape)\n\ndef find_largest_product_of_window(series, window = 4):\n    #sliding window:\n    win = np.lib.stride_tricks.sliding_window_view(arr, window)\n    print(win.shape)\n    #calculate the products over the windows\n    prods = np.prod(win, axis = 1)\n    return np.max(prods)",
      "metadata": {
        "trusted": true
      },
      "execution_count": 12,
      "outputs": [
        {
          "name": "stdout",
          "text": "(1000,)\n",
          "output_type": "stream"
        }
      ],
      "id": "4d60cde7-1255-4496-96c5-8c7b81a230b3"
    },
    {
      "cell_type": "code",
      "source": "#check example case:\nprint(find_largest_product_of_window(arr, 4))\n\n#calculate answer\nprint(find_largest_product_of_window(arr, 13))",
      "metadata": {
        "trusted": true
      },
      "execution_count": 13,
      "outputs": [
        {
          "name": "stdout",
          "text": "(997, 4)\n5832\n(988, 13)\n23514624000\n",
          "output_type": "stream"
        }
      ],
      "id": "d3ba58f9-437c-4bbd-a006-3adb9128de21"
    },
    {
      "cell_type": "markdown",
      "source": "## Problem 9 - Special pythagorean triplet\n\n<p>A Pythagorean triplet is a set of three natural numbers, $a \\lt b \\lt c$, for which,\n$$a^2 + b^2 = c^2.$$</p>\n<p>For example, $3^2 + 4^2 = 9 + 16 = 25 = 5^2$.</p>\n<p>There exists exactly one Pythagorean triplet for which $a + b + c = 1000$.<br>Find the product $abc$.</p>\n",
      "metadata": {},
      "id": "73cc344d"
    },
    {
      "cell_type": "code",
      "source": "import time\nimport numpy as np\nimport sys\n\ndef find_triplet():\n    for a in range(1, 1000):\n        for b in range(a, 1000):\n            c = int(np.sqrt(a**2 + b**2))           \n            if a+b+c == 1000 and (a**2+b**2)==c**2:\n                return(a,b,c)\n                \nstart_time = time.time()\na,b,c = find_triplet()\nend_time = time.time()\nprint(f\"product of the special triplet {(a, b, c)} is {a*b*c}, and it took {round(end_time-start_time, 2)} to run this stupid algorithm\")",
      "metadata": {
        "trusted": true
      },
      "execution_count": null,
      "outputs": [
        {
          "name": "stdout",
          "text": " c=6200",
          "output_type": "stream"
        }
      ],
      "id": "22858446"
    },
    {
      "cell_type": "markdown",
      "source": "## Problem 10 - Summation of primes\n\n<p>The sum of the primes below $10$ is $2 + 3 + 5 + 7 = 17$.</p>\n<p>Find the sum of all the primes below two million.</p>\n\n",
      "metadata": {},
      "id": "52199750"
    },
    {
      "cell_type": "code",
      "source": "primes = find_primes(2e6)",
      "metadata": {
        "trusted": true
      },
      "execution_count": 33,
      "outputs": [],
      "id": "871f3f30"
    },
    {
      "cell_type": "code",
      "source": "np.sum(primes)",
      "metadata": {
        "trusted": true
      },
      "execution_count": 34,
      "outputs": [
        {
          "execution_count": 34,
          "output_type": "execute_result",
          "data": {
            "text/plain": "142913828922.0"
          },
          "metadata": {}
        }
      ],
      "id": "6e3c08a9-a985-45c4-980e-4bccc5d730af"
    },
    {
      "cell_type": "code",
      "source": "primes",
      "metadata": {
        "trusted": true
      },
      "execution_count": 35,
      "outputs": [
        {
          "execution_count": 35,
          "output_type": "execute_result",
          "data": {
            "text/plain": "array([2.000000e+00, 3.000000e+00, 5.000000e+00, ..., 1.999969e+06,\n       1.999979e+06, 1.999993e+06])"
          },
          "metadata": {}
        }
      ],
      "id": "a79a8b3c-56d6-417a-aa2f-c83331d75edb"
    }
  ]
}