{
 "cells": [
  {
   "cell_type": "markdown",
   "id": "6510699d",
   "metadata": {},
   "source": [
    "# Problem 6 to 10\n",
    "\n",
    "[![project euler](https://projecteuler.net/themes/logo_default.png)](https://www.projecteuler.net)"
   ]
  },
  {
   "cell_type": "markdown",
   "id": "065cd15b",
   "metadata": {},
   "source": [
    "## Problem 6 - Sum Square Difference\n",
    "\n",
    "<p>The sum of the squares of the first ten natural numbers is,</p>\n",
    "$$1^2 + 2^2 + ... + 10^2 = 385.$$\n",
    "<p>The square of the sum of the first ten natural numbers is,</p>\n",
    "$$(1 + 2 + ... + 10)^2 = 55^2 = 3025.$$\n",
    "<p>Hence the difference between the sum of the squares of the first ten natural numbers and the square of the sum is $3025 - 385 = 2640$.</p>\n",
    "<p>Find the difference between the sum of the squares of the first one hundred natural numbers and the square of the sum.</p>"
   ]
  },
  {
   "cell_type": "code",
   "execution_count": null,
   "id": "ae501669",
   "metadata": {},
   "outputs": [],
   "source": []
  },
  {
   "cell_type": "markdown",
   "id": "7eae9903",
   "metadata": {},
   "source": [
    "## Problem 7 - 10001st prime\n",
    "\n",
    "<p>By listing the first six prime numbers: $2, 3, 5, 7, 11$, and $13$, we can see that the $6$th prime is $13$.</p>\n",
    "<p>What is the $10\\,001$st prime number?</p>\n"
   ]
  },
  {
   "cell_type": "code",
   "execution_count": null,
   "id": "110cf6c6",
   "metadata": {},
   "outputs": [],
   "source": []
  },
  {
   "cell_type": "markdown",
   "id": "7953fcd3",
   "metadata": {},
   "source": [
    "## Problem 8 - Largest product in a series\n",
    "\n",
    "<p>The four adjacent digits in the $1000$-digit number that have the greatest product are $9 \\times 9 \\times 8 \\times 9 = 5832$.</p>\n",
    "<p class=\"monospace center\">\n",
    "73167176531330624919225119674426574742355349194934<br>\n",
    "96983520312774506326239578318016984801869478851843<br>\n",
    "85861560789112949495459501737958331952853208805511<br>\n",
    "12540698747158523863050715693290963295227443043557<br>\n",
    "66896648950445244523161731856403098711121722383113<br>\n",
    "62229893423380308135336276614282806444486645238749<br>\n",
    "30358907296290491560440772390713810515859307960866<br>\n",
    "70172427121883998797908792274921901699720888093776<br>\n",
    "65727333001053367881220235421809751254540594752243<br>\n",
    "52584907711670556013604839586446706324415722155397<br>\n",
    "53697817977846174064955149290862569321978468622482<br>\n",
    "83972241375657056057490261407972968652414535100474<br>\n",
    "82166370484403199890008895243450658541227588666881<br>\n",
    "16427171479924442928230863465674813919123162824586<br>\n",
    "17866458359124566529476545682848912883142607690042<br>\n",
    "24219022671055626321111109370544217506941658960408<br>\n",
    "07198403850962455444362981230987879927244284909188<br>\n",
    "84580156166097919133875499200524063689912560717606<br>\n",
    "05886116467109405077541002256983155200055935729725<br>\n",
    "71636269561882670428252483600823257530420752963450<br></p>\n",
    "<p>Find the thirteen adjacent digits in the $1000$-digit number that have the greatest product. What is the value of this product?</p>"
   ]
  },
  {
   "cell_type": "code",
   "execution_count": null,
   "id": "f5867eda",
   "metadata": {},
   "outputs": [],
   "source": []
  },
  {
   "cell_type": "markdown",
   "id": "73cc344d",
   "metadata": {},
   "source": [
    "## Problem 9 - Special pythagorean triplet\n",
    "\n",
    "<p>A Pythagorean triplet is a set of three natural numbers, $a \\lt b \\lt c$, for which,\n",
    "$$a^2 + b^2 = c^2.$$</p>\n",
    "<p>For example, $3^2 + 4^2 = 9 + 16 = 25 = 5^2$.</p>\n",
    "<p>There exists exactly one Pythagorean triplet for which $a + b + c = 1000$.<br>Find the product $abc$.</p>\n"
   ]
  },
  {
   "cell_type": "code",
   "execution_count": null,
   "id": "22858446",
   "metadata": {},
   "outputs": [],
   "source": []
  },
  {
   "cell_type": "markdown",
   "id": "52199750",
   "metadata": {},
   "source": [
    "## Problem 10 - Summation of primes\n",
    "\n",
    "<p>The sum of the primes below $10$ is $2 + 3 + 5 + 7 = 17$.</p>\n",
    "<p>Find the sum of all the primes below two million.</p>\n",
    "\n"
   ]
  },
  {
   "cell_type": "code",
   "execution_count": null,
   "id": "871f3f30",
   "metadata": {},
   "outputs": [],
   "source": []
  }
 ],
 "metadata": {
  "kernelspec": {
   "display_name": "Python 3 (ipykernel)",
   "language": "python",
   "name": "python3"
  },
  "language_info": {
   "codemirror_mode": {
    "name": "ipython",
    "version": 3
   },
   "file_extension": ".py",
   "mimetype": "text/x-python",
   "name": "python",
   "nbconvert_exporter": "python",
   "pygments_lexer": "ipython3",
   "version": "3.10.12"
  }
 },
 "nbformat": 4,
 "nbformat_minor": 5
}
