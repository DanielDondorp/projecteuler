{
 "cells": [
  {
   "cell_type": "markdown",
   "id": "c16c3b31-21f0-453d-8159-a01bf7057868",
   "metadata": {},
   "source": [
    "## 21 Amicable Numbers\n",
    "\n",
    "<p>Let $d(n)$ be defined as the sum of proper divisors of $n$ (numbers less than $n$ which divide evenly into $n$).<br>\n",
    "If $d(a) = b$ and $d(b) = a$, where $a \\ne b$, then $a$ and $b$ are an amicable pair and each of $a$ and $b$ are called amicable numbers.</p>\n",
    "<p>For example, the proper divisors of $220$ are $1, 2, 4, 5, 10, 11, 20, 22, 44, 55$ and $110$; therefore $d(220) = 284$. The proper divisors of $284$ are $1, 2, 4, 71$ and $142$; so $d(284) = 220$.</p>\n",
    "<p>Evaluate the sum of all the amicable numbers under $10000$.</p>"
   ]
  },
  {
   "cell_type": "code",
   "execution_count": null,
   "id": "78e336f2-ed10-43a2-b0b6-83c981d37d7e",
   "metadata": {},
   "outputs": [],
   "source": []
  },
  {
   "cell_type": "markdown",
   "id": "1770ad89-406f-4e93-826f-31395a82a20a",
   "metadata": {},
   "source": [
    "## 22 Name Scores\n",
    "\n",
    "<p>Using <a href=\"resources/documents/0022_names.txt\">names.txt</a> (right click and 'Save Link/Target As...'), a 46K text file containing over five-thousand first names, begin by sorting it into alphabetical order. Then working out the alphabetical value for each name, multiply this value by its alphabetical position in the list to obtain a name score.</p>\n",
    "<p>For example, when the list is sorted into alphabetical order, COLIN, which is worth $3 + 15 + 12 + 9 + 14 = 53$, is the $938$th name in the list. So, COLIN would obtain a score of $938 \\times 53 = 49714$.</p>\n",
    "<p>What is the total of all the name scores in the file?</p>\n"
   ]
  },
  {
   "cell_type": "code",
   "execution_count": 18,
   "id": "2e47d073-fc72-40d2-b13f-20770069f0f5",
   "metadata": {},
   "outputs": [],
   "source": [
    "import urllib.request\n",
    "namestxt_url = \"https://projecteuler.net/resources/documents/0022_names.txt\"\n",
    "name_file = urllib.request.urlopen(namestxt_url)\n",
    "#decode all lines\n",
    "name_file = [line.decode(\"utf-8\") for line in name_file]\n",
    "#parse line of names to list\n",
    "names = [x.replace('\"', '') for line in name_file for x in line[1:-1].split(\",\")]"
   ]
  },
  {
   "cell_type": "code",
   "execution_count": 22,
   "id": "d4c7ab22-eccc-4e62-a045-590b83396688",
   "metadata": {},
   "outputs": [
    {
     "name": "stdout",
     "output_type": "stream",
     "text": [
      "We have parsed 5163 names\n"
     ]
    }
   ],
   "source": [
    "print(f\"We have parsed {len(names)} names\")"
   ]
  },
  {
   "cell_type": "code",
   "execution_count": null,
   "id": "605b8c24-b74f-4173-a0de-70ccb9a117f9",
   "metadata": {},
   "outputs": [],
   "source": []
  },
  {
   "cell_type": "markdown",
   "id": "e924c444-c793-4065-a090-9ed0103b7951",
   "metadata": {},
   "source": [
    "## 23 Non-Abundant sums\n",
    "\n",
    "<p>A perfect number is a number for which the sum of its proper divisors is exactly equal to the number. For example, the sum of the proper divisors of $28$ would be $1 + 2 + 4 + 7 + 14 = 28$, which means that $28$ is a perfect number.</p>\r\n",
    "<p>A number $n$ is called deficient if the sum of its proper divisors is less than $n$ and it is called abundant if this sum exceeds $n$.</p>\r\n",
    "\r\n",
    "<p>As $12$ is the smallest abundant number, $1 + 2 + 3 + 4 + 6 = 16$, the smallest number that can be written as the sum of two abundant numbers is $24$. By mathematical analysis, it can be shown that all integers greater than $28123$ can be written as the sum of two abundant numbers. However, this upper limit cannot be reduced any further by analysis even though it is known that the greatest number that cannot be expressed as the sum of two abundant numbers is less than this limit.</p>\r\n",
    "<p>Find the sum of all the positive integers which cannot be written as the sum of two abundant numbers.</p>\r\n"
   ]
  },
  {
   "cell_type": "code",
   "execution_count": null,
   "id": "e90476e1-f352-4159-b5bb-772a6eed3887",
   "metadata": {},
   "outputs": [],
   "source": []
  },
  {
   "cell_type": "markdown",
   "id": "b931e869-f17b-4869-a7b9-caa6ed8305e9",
   "metadata": {},
   "source": [
    "## 24 Lexicographic permutations\n",
    "\n",
    "<p>A permutation is an ordered arrangement of objects. For example, 3124 is one possible permutation of the digits 1, 2, 3 and 4. If all of the permutations are listed numerically or alphabetically, we call it lexicographic order. The lexicographic permutations of 0, 1 and 2 are:</p>\r\n",
    "<p class=\"center\">012   021   102   120   201   210</p>\r\n",
    "<p>What is the millionth lexicographic permutation of the digits 0, 1, 2, 3, 4, 5, 6, 7, 8 and 9?</p>\r\n"
   ]
  },
  {
   "cell_type": "code",
   "execution_count": null,
   "id": "bf85a0f2-3629-4fe1-a4e5-f038acf57d02",
   "metadata": {},
   "outputs": [],
   "source": []
  }
 ],
 "metadata": {
  "kernelspec": {
   "display_name": "Python 3 (ipykernel)",
   "language": "python",
   "name": "python3"
  },
  "language_info": {
   "codemirror_mode": {
    "name": "ipython",
    "version": 3
   },
   "file_extension": ".py",
   "mimetype": "text/x-python",
   "name": "python",
   "nbconvert_exporter": "python",
   "pygments_lexer": "ipython3",
   "version": "3.10.6"
  }
 },
 "nbformat": 4,
 "nbformat_minor": 5
}
