{
 "cells": [
  {
   "cell_type": "code",
   "execution_count": null,
   "id": "ad1dcece-a972-40ea-a984-8feff4bc5d20",
   "metadata": {},
   "outputs": [],
   "source": [
    "import numpy as np\n",
    "import matplotlib.pyplot as plt\n",
    "import ipywidgets as widgets\n",
    "%matplotlib widget\n",
    "\n",
    "grid = np.zeros([20,20], dtype=np.int32)\n",
    "fig, ax = plt.subplots()\n",
    "img = ax.imshow(grid, cmap = \"gray\")\n",
    "\n",
    "@widgets.interact\n",
    "def show_select(x = (0,19,1), y = (0,19,1)):\n",
    "    ax.set_title(f\"{x}, {y}\")\n",
    "    ax.clear()\n",
    "    new_grid = grid.copy()\n",
    "    if y<=16:\n",
    "        new_grid[y:y+4, x] = 8\n",
    "    if x<=16:\n",
    "        new_grid[y, x:x+4] = 8\n",
    "    if x<=16 and y<= 16:\n",
    "        new_grid[[y+i for i in range(4)],[x+i for i in range(4)]] = 10\n",
    "    img = ax.imshow(new_grid, cmap = \"gray\")\n",
    "    fig.canvas.draw()"
   ]
  },
  {
   "cell_type": "code",
   "execution_count": 19,
   "id": "f5ea3e1f-9c3e-45a0-b71f-2fbc992c8f88",
   "metadata": {},
   "outputs": [
    {
     "data": {
      "text/plain": [
       "<matplotlib.image.AxesImage at 0x7f88711b8190>"
      ]
     },
     "execution_count": 19,
     "metadata": {},
     "output_type": "execute_result"
    }
   ],
   "source": [
    "x = 5\n",
    "y = 10\n",
    "new_grid = grid.copy()\n",
    "new_grid[x:x+4, y] = 255\n",
    "plt.imshow(new_grid)"
   ]
  },
  {
   "cell_type": "code",
   "execution_count": null,
   "id": "874ad2af-b632-4c98-920b-27c4cf9e4ffb",
   "metadata": {},
   "outputs": [],
   "source": []
  }
 ],
 "metadata": {
  "kernelspec": {
   "display_name": "Python 3 (ipykernel)",
   "language": "python",
   "name": "python3"
  },
  "language_info": {
   "codemirror_mode": {
    "name": "ipython",
    "version": 3
   },
   "file_extension": ".py",
   "mimetype": "text/x-python",
   "name": "python",
   "nbconvert_exporter": "python",
   "pygments_lexer": "ipython3",
   "version": "3.10.6"
  }
 },
 "nbformat": 4,
 "nbformat_minor": 5
}
