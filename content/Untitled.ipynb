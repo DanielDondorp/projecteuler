{
 "cells": [
  {
   "cell_type": "code",
   "execution_count": 1,
   "id": "cc58f5a9-6c30-41bd-b767-2edce9742906",
   "metadata": {},
   "outputs": [],
   "source": [
    "import numpy as np"
   ]
  },
  {
   "cell_type": "code",
   "execution_count": 49,
   "id": "9b9787fb-4d78-4ce6-877e-87aa8b786e55",
   "metadata": {},
   "outputs": [],
   "source": [
    "def simple_roulette(bet):\n",
    "    spin = np.random.randint(0, 37)\n",
    "    if spin == 0 or spin % 2 == 0:\n",
    "        return 0\n",
    "    else: return bet*2\n",
    "        "
   ]
  },
  {
   "cell_type": "code",
   "execution_count": 181,
   "id": "d74522c6-5392-411d-9980-e715b2e4965d",
   "metadata": {},
   "outputs": [
    {
     "name": "stdout",
     "output_type": "stream",
     "text": [
      " Oi! after 225 games you do not have enough to recoup your losses'''''''''''''''''''''''''''''''''''''''''''''''''''''''''''''''''''''"
     ]
    }
   ],
   "source": [
    "import sys\n",
    "import time\n",
    "bet= 10\n",
    "n_games = 0\n",
    "start_capital = 1000\n",
    "capital = start_capital\n",
    "while capital > 0:\n",
    "    time.sleep(0.1)\n",
    "    capital -= bet\n",
    "    round_payout = simple_roulette(bet)\n",
    "    n_games += 1\n",
    "    sys.stdout.write(f\"'\\r after {n_games} games you have {capital + round_payout} money, betting {bet} last\")\n",
    "    if round_payout:\n",
    "        capital += round_payout\n",
    "        bet = 10\n",
    "    bet *= 2\n",
    "    if bet > capital:\n",
    "        sys.stdout.write(f\"\\r Oi! after {n_games} games you do not have enough to recoup your losses\")\n",
    "        break\n",
    "    if capital == 2*start_capital:\n",
    "        sys.stdout.write(f\"\\r you win for the night, you doubled your winnings\")\n",
    "        break\n",
    "    # if n_games >= 25:\n",
    "    #     print(f\"you dont want to play more than {n_games} games. Go home with {capital}\")\n",
    "    #     break\n",
    "\n",
    "       \n",
    "    "
   ]
  },
  {
   "cell_type": "code",
   "execution_count": 460,
   "id": "fc7dc574-98f5-4ea2-aca4-2706b4e46007",
   "metadata": {},
   "outputs": [],
   "source": [
    "def game(start_capital=1000, min_bet = 10, win_limit = 1.1, print = False, max_rounds = 100):\n",
    "    capital = start_capital\n",
    "    bet = min_bet\n",
    "    n_rounds = 0\n",
    "    while capital >= 0 and n_rounds <= max_rounds:\n",
    "        n_rounds+=1\n",
    "        if capital >= start_capital * win_limit or bet > capital:\n",
    "            break\n",
    "        capital -= bet #bet money\n",
    "        winnings = simple_roulette(bet)\n",
    "        capital += winnings\n",
    "        if winnings:\n",
    "            bet = min_bet # reset bet amount\n",
    "        else:\n",
    "            bet *= 2 # double the bet to recoup losses\n",
    "        if print:\n",
    "            sys.stdout.write(f\"\\r {n_rounds=}, {capital=}, {bet=}\")\n",
    "            time.sleep(0.1)\n",
    "    return capital-start_capital\n",
    "    "
   ]
  },
  {
   "cell_type": "code",
   "execution_count": 461,
   "id": "cad1d60f-1666-46f1-9db9-2630a4670571",
   "metadata": {},
   "outputs": [
    {
     "name": "stdout",
     "output_type": "stream",
     "text": [
      " n_rounds=101, capital=1520, bet=10"
     ]
    },
    {
     "data": {
      "text/plain": [
       "520"
      ]
     },
     "execution_count": 461,
     "metadata": {},
     "output_type": "execute_result"
    }
   ],
   "source": [
    "game(win_limit = 2, print = True)"
   ]
  },
  {
   "cell_type": "code",
   "execution_count": 462,
   "id": "9c3d1fa5-a2ad-4a2c-9f83-e8c6845aa874",
   "metadata": {},
   "outputs": [
    {
     "name": "stdout",
     "output_type": "stream",
     "text": [
      " n_rounds=101, capital=1490, bet=40"
     ]
    },
    {
     "data": {
      "text/plain": [
       "490"
      ]
     },
     "execution_count": 462,
     "metadata": {},
     "output_type": "execute_result"
    }
   ],
   "source": [
    "game(print=True, win_limit = 2)"
   ]
  },
  {
   "cell_type": "code",
   "execution_count": null,
   "id": "d1330ff7-0a72-4381-aa37-e8bed3c91c39",
   "metadata": {},
   "outputs": [],
   "source": [
    "simulations = [np.vstack([[np.sum([game(win_limit = win_limit, max_rounds = 500) for _ in range(n_games)]) for n_games in range(1, 50)] for _ in range(50)]) for win_limit in [1.5, 2, 3]]"
   ]
  },
  {
   "cell_type": "code",
   "execution_count": null,
   "id": "97d4e05e-10ab-4357-bf8e-b3985e49180b",
   "metadata": {},
   "outputs": [],
   "source": [
    "median = np.median(simulation, axis = 0)\n",
    "err = np.std(simulation, axis = 0)"
   ]
  },
  {
   "cell_type": "code",
   "execution_count": null,
   "id": "065fa94a-8a28-400d-83c0-2397dcd35c83",
   "metadata": {},
   "outputs": [],
   "source": [
    "import matplotlib.pyplot as plt\n",
    "fig, axes = plt.subplots(1,3, figsize = (15,5), constrained_layout = True)\n",
    "for ax, simulation, wl in zip(axes, simulations, [1.1,1.5,2]):\n",
    "    for s in simulation:\n",
    "        ax.scatter(range(len(s)), s, c = \"gray\", alpha = 0.1)\n",
    "    median = np.median(simulation, axis = 0)\n",
    "    err = np.std(simulation, axis = 0)\n",
    "    ax.plot(median, c = \"r\" , lw = 0.5, label = \"Gemiddelde winst\")\n",
    "    ax.fill_between(range(len(err)), median-err, median+err, alpha = 0.5)\n",
    "    ax.set_xlabel(\"gespeelde spelletjes\")\n",
    "    ax.set_ylabel(\"winst\")\n",
    "    ax.hlines([0, 0], 0, len(err), ls = \":\")\n",
    "    ax.set_title(f\"exit_limit = {int(100*(wl-1))}%\")\n",
    "    ax.set_ylim(-15000, 10000)"
   ]
  },
  {
   "cell_type": "code",
   "execution_count": 515,
   "id": "e5babd39-9705-475f-993f-90018deb188f",
   "metadata": {},
   "outputs": [
    {
     "data": {
      "text/plain": [
       "-3840100"
      ]
     },
     "execution_count": 515,
     "metadata": {},
     "output_type": "execute_result"
    }
   ],
   "source": [
    "np.sum(simulation)"
   ]
  },
  {
   "cell_type": "code",
   "execution_count": 467,
   "id": "fd78aa0c-ebdb-497f-b2ef-63388fa3f26e",
   "metadata": {},
   "outputs": [
    {
     "data": {
      "text/plain": [
       "8490"
      ]
     },
     "execution_count": 467,
     "metadata": {},
     "output_type": "execute_result"
    }
   ],
   "source": [
    "np.max(simulation)"
   ]
  },
  {
   "cell_type": "code",
   "execution_count": 246,
   "id": "993132c7-a8d1-45b8-bdc9-f611af490afc",
   "metadata": {},
   "outputs": [
    {
     "data": {
      "text/plain": [
       "2500000"
      ]
     },
     "execution_count": 246,
     "metadata": {},
     "output_type": "execute_result"
    }
   ],
   "source": [
    "50*50*1000"
   ]
  },
  {
   "cell_type": "code",
   "execution_count": 488,
   "id": "48c36fc1-912a-45f2-80b6-a37cd722b4e9",
   "metadata": {},
   "outputs": [
    {
     "data": {
      "text/plain": [
       "1630"
      ]
     },
     "execution_count": 488,
     "metadata": {},
     "output_type": "execute_result"
    }
   ],
   "source": [
    "np.sum([game() for _ in range(50)])"
   ]
  },
  {
   "cell_type": "code",
   "execution_count": null,
   "id": "d407cb30-84e7-4d8b-bed9-c95f9f3be5be",
   "metadata": {},
   "outputs": [],
   "source": []
  }
 ],
 "metadata": {
  "kernelspec": {
   "display_name": "Python 3 (ipykernel)",
   "language": "python",
   "name": "python3"
  },
  "language_info": {
   "codemirror_mode": {
    "name": "ipython",
    "version": 3
   },
   "file_extension": ".py",
   "mimetype": "text/x-python",
   "name": "python",
   "nbconvert_exporter": "python",
   "pygments_lexer": "ipython3",
   "version": "3.10.6"
  }
 },
 "nbformat": 4,
 "nbformat_minor": 5
}
