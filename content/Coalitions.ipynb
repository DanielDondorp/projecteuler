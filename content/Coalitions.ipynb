{
 "cells": [
  {
   "cell_type": "markdown",
   "id": "fddd0adf-a635-4b9e-9778-09f189a7c7ff",
   "metadata": {},
   "source": [
    "# Coalitions"
   ]
  },
  {
   "cell_type": "code",
   "execution_count": 1,
   "id": "da60869f-d8dd-4811-b4b1-106e5a9a7399",
   "metadata": {},
   "outputs": [],
   "source": [
    "results = {\"pvv\": 37, \n",
    "           \"glpvda\": 25,\n",
    "           \"vvd\": 24,\n",
    "           \"nsc\": 20,\n",
    "           \"d66\": 9,\n",
    "           \"bbb\": 7,\n",
    "           \"cda\": 5, \n",
    "           \"sp\": 5,\n",
    "           \"pvdd\": 3,\n",
    "           \"fvd\": 3,\n",
    "           \"cu\": 3,\n",
    "           \"sgp\": 3,\n",
    "           \"denk\": 3,\n",
    "           \"volt\": 2,\n",
    "           \"ja21\": 1}\n",
    "\n",
    "parties = list(results.keys())"
   ]
  },
  {
   "cell_type": "code",
   "execution_count": 2,
   "id": "03295a5a-09a7-4b38-843a-825cf82ba378",
   "metadata": {},
   "outputs": [],
   "source": [
    "#this is the same as problem 31 in a way\n",
    "def make_coalitions(target, parties):\n",
    "    if target <= 0: #if we are under target we have a coalition already\n",
    "        return [[]]\n",
    "    if not parties: #if we ran out of parties there isnt more we can do\n",
    "        return []\n",
    "    #check all coalitions using the current party\n",
    "    coalitions_with_current_party = make_coalitions(target-results[parties[0]], parties[1:])\n",
    "    #add the current party to all coalitions with current party\n",
    "    coalitions_with_current_party = [[parties[0]] + coalition for coalition in coalitions_with_current_party]\n",
    "    \n",
    "    # check all coalitions without using the current party\n",
    "    coalitions_without_current_party = make_coalitions(target, parties[1:])\n",
    "\n",
    "    return coalitions_with_current_party + coalitions_without_current_party\n"
   ]
  },
  {
   "cell_type": "code",
   "execution_count": 3,
   "id": "8344b872-076f-4e01-ab74-e6ad81f848e6",
   "metadata": {},
   "outputs": [],
   "source": [
    "coalitions = make_coalitions(76, parties)"
   ]
  },
  {
   "cell_type": "code",
   "execution_count": 5,
   "id": "23f6c7e3-3288-4164-8ab1-c497c5f38de9",
   "metadata": {},
   "outputs": [
    {
     "name": "stdout",
     "output_type": "stream",
     "text": [
      "793\n"
     ]
    }
   ],
   "source": [
    "print(len(coalitions))"
   ]
  },
  {
   "cell_type": "code",
   "execution_count": null,
   "id": "de140072-797d-4819-aedd-3e1e9bf7597a",
   "metadata": {},
   "outputs": [],
   "source": []
  }
 ],
 "metadata": {
  "kernelspec": {
   "display_name": "Python 3 (ipykernel)",
   "language": "python",
   "name": "python3"
  },
  "language_info": {
   "codemirror_mode": {
    "name": "ipython",
    "version": 3
   },
   "file_extension": ".py",
   "mimetype": "text/x-python",
   "name": "python",
   "nbconvert_exporter": "python",
   "pygments_lexer": "ipython3",
   "version": "3.10.6"
  }
 },
 "nbformat": 4,
 "nbformat_minor": 5
}
