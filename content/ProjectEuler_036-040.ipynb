{
 "cells": [
  {
   "cell_type": "code",
   "execution_count": null,
   "id": "c2cdab14-356f-4f03-b941-4e14ed17fa8d",
   "metadata": {},
   "outputs": [],
   "source": []
  },
  {
   "cell_type": "markdown",
   "id": "41a40be3-d7ff-4a30-ba47-ac9a10604e99",
   "metadata": {},
   "source": [
    "## Problem 36\n",
    "<p>The decimal number, $585 = 1001001001_2$ (binary), is palindromic in both bases.</p>\n",
    "<p>Find the sum of all numbers, less than one million, which are palindromic in base $10$ and base $2$.</p>\n",
    "<p class=\"smaller\">(Please note that the palindromic number, in either base, may not include leading zeros.)</p>\n"
   ]
  },
  {
   "cell_type": "code",
   "execution_count": null,
   "id": "ec0693fb-211f-4726-9c3a-31d2512126ca",
   "metadata": {},
   "outputs": [],
   "source": []
  }
 ],
 "metadata": {
  "kernelspec": {
   "display_name": "Python 3 (ipykernel)",
   "language": "python",
   "name": "python3"
  },
  "language_info": {
   "codemirror_mode": {
    "name": "ipython",
    "version": 3
   },
   "file_extension": ".py",
   "mimetype": "text/x-python",
   "name": "python",
   "nbconvert_exporter": "python",
   "pygments_lexer": "ipython3",
   "version": "3.10.12"
  }
 },
 "nbformat": 4,
 "nbformat_minor": 5
}
