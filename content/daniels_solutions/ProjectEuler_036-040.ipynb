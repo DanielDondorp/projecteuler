{
 "cells": [
  {
   "cell_type": "markdown",
   "id": "91c4c008-4413-4b71-9bec-1fe5e4b1ca15",
   "metadata": {},
   "source": [
    "## Problem 36\n",
    "The decimal number,  585=10010010012\n",
    "  (binary), is palindromic in both bases.\n",
    "\n",
    "Find the sum of all numbers, less than one million, which are palindromic in base  10\n",
    "  and base  2\n",
    " .\n",
    "\n",
    "(Please note that the palindromic number, in either base, may not include leading zeros.)"
   ]
  },
  {
   "cell_type": "code",
   "execution_count": 141,
   "id": "73083b75-0fbe-41a5-8a68-e3afa36b3006",
   "metadata": {},
   "outputs": [],
   "source": [
    "import numpy as np"
   ]
  },
  {
   "cell_type": "code",
   "execution_count": 142,
   "id": "303704f2-f7fd-49e4-a7c0-fde91b53acfc",
   "metadata": {},
   "outputs": [],
   "source": [
    "def check_palindrome(x):\n",
    "    if type(x) != str:\n",
    "        x = str(x)\n",
    "    if x == x[::-1]:\n",
    "        return True\n",
    "    return False\n",
    "\n",
    "def check_palindrome_base2(x):\n",
    "    base2 = np.base_repr(x, 2)\n",
    "    return check_palindrome(base2)\n",
    "\n",
    "def check(x):\n",
    "    if check_palindrome(x):\n",
    "        if check_palindrom_base2(x):\n",
    "            return True\n",
    "    return False\n"
   ]
  },
  {
   "cell_type": "code",
   "execution_count": 143,
   "id": "65bb6e64-7be7-4cdd-a72b-4a03eb08c313",
   "metadata": {},
   "outputs": [],
   "source": [
    "palindromes = [x for x in range(1000000) if check(x)]"
   ]
  },
  {
   "cell_type": "code",
   "execution_count": 144,
   "id": "4675640b-f5e5-4886-9899-7887f78acc8d",
   "metadata": {},
   "outputs": [
    {
     "data": {
      "text/plain": [
       "872187"
      ]
     },
     "execution_count": 144,
     "metadata": {},
     "output_type": "execute_result"
    }
   ],
   "source": [
    "sum(palindromes)"
   ]
  },
  {
   "cell_type": "code",
   "execution_count": null,
   "id": "2206581d-99c1-499d-a295-1c7401c04779",
   "metadata": {},
   "outputs": [],
   "source": [
    "#the palindrome-first approach\n",
    "\n",
    "def create_palindrome(start, palindromes = []):\n",
    "    if len(start) >= 20:\n",
    "        return []\n",
    "    elif "
   ]
  }
 ],
 "metadata": {
  "kernelspec": {
   "display_name": "Python 3 (ipykernel)",
   "language": "python",
   "name": "python3"
  },
  "language_info": {
   "codemirror_mode": {
    "name": "ipython",
    "version": 3
   },
   "file_extension": ".py",
   "mimetype": "text/x-python",
   "name": "python",
   "nbconvert_exporter": "python",
   "pygments_lexer": "ipython3",
   "version": "3.10.12"
  }
 },
 "nbformat": 4,
 "nbformat_minor": 5
}
