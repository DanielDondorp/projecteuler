{
 "cells": [
  {
   "cell_type": "markdown",
   "id": "91c4c008-4413-4b71-9bec-1fe5e4b1ca15",
   "metadata": {},
   "source": [
    "## Problem 36\n",
    "The decimal number,  585=10010010012\n",
    "  (binary), is palindromic in both bases.\n",
    "\n",
    "Find the sum of all numbers, less than one million, which are palindromic in base  10\n",
    "  and base  2\n",
    " .\n",
    "\n",
    "(Please note that the palindromic number, in either base, may not include leading zeros.)"
   ]
  },
  {
   "cell_type": "code",
   "execution_count": 1,
   "id": "73083b75-0fbe-41a5-8a68-e3afa36b3006",
   "metadata": {},
   "outputs": [],
   "source": [
    "import numpy as np"
   ]
  },
  {
   "cell_type": "code",
   "execution_count": 2,
   "id": "303704f2-f7fd-49e4-a7c0-fde91b53acfc",
   "metadata": {},
   "outputs": [],
   "source": [
    "def check_palindrome(x):\n",
    "    if type(x) != str:\n",
    "        x = str(x)\n",
    "    if x == x[::-1]:\n",
    "        return True\n",
    "    return False\n",
    "\n",
    "def check_palindrome_base2(x):\n",
    "    base2 = np.base_repr(x, 2)\n",
    "    return check_palindrome(base2)\n",
    "\n",
    "def check(x):\n",
    "    if check_palindrome(x):\n",
    "        if check_palindrome_base2(x):\n",
    "            return True\n",
    "    return False\n"
   ]
  },
  {
   "cell_type": "code",
   "execution_count": 3,
   "id": "65bb6e64-7be7-4cdd-a72b-4a03eb08c313",
   "metadata": {},
   "outputs": [],
   "source": [
    "palindromes = [x for x in range(1000000) if check(x)]"
   ]
  },
  {
   "cell_type": "code",
   "execution_count": 4,
   "id": "8c844d91-1fcd-4bf6-88bf-26434c01388e",
   "metadata": {},
   "outputs": [
    {
     "data": {
      "text/plain": [
       "[0,\n",
       " 1,\n",
       " 3,\n",
       " 5,\n",
       " 7,\n",
       " 9,\n",
       " 33,\n",
       " 99,\n",
       " 313,\n",
       " 585,\n",
       " 717,\n",
       " 7447,\n",
       " 9009,\n",
       " 15351,\n",
       " 32223,\n",
       " 39993,\n",
       " 53235,\n",
       " 53835,\n",
       " 73737,\n",
       " 585585]"
      ]
     },
     "execution_count": 4,
     "metadata": {},
     "output_type": "execute_result"
    }
   ],
   "source": [
    "palindromes"
   ]
  },
  {
   "cell_type": "code",
   "execution_count": 5,
   "id": "4675640b-f5e5-4886-9899-7887f78acc8d",
   "metadata": {},
   "outputs": [
    {
     "data": {
      "text/plain": [
       "872187"
      ]
     },
     "execution_count": 5,
     "metadata": {},
     "output_type": "execute_result"
    }
   ],
   "source": [
    "sum(palindromes)"
   ]
  },
  {
   "cell_type": "code",
   "execution_count": 6,
   "id": "2206581d-99c1-499d-a295-1c7401c04779",
   "metadata": {},
   "outputs": [],
   "source": [
    "#the palindrome-first approach\n",
    "def create_base2_strings(last_string):\n",
    "    if len(last_string) > 20:\n",
    "        return []\n",
    "    else:\n",
    "        # Add a one:\n",
    "        next_is_one = last_string + \"1\"\n",
    "        futures_with_one = create_base2_strings(next_is_one)\n",
    "\n",
    "        # Add a zero:\n",
    "        next_is_zero = last_string + \"0\"\n",
    "        futures_with_zero = create_base2_strings(next_is_zero)\n",
    "\n",
    "        # Combine the results\n",
    "        return [last_string] + futures_with_one + futures_with_zero\n",
    "\n",
    "# Start with an empty string\n",
    "result = create_base2_strings(\"\")"
   ]
  },
  {
   "cell_type": "code",
   "execution_count": 7,
   "id": "20230d49-9a06-4ca8-8e35-6899d9cef16d",
   "metadata": {},
   "outputs": [],
   "source": [
    "#drop the ones that end with 0\n",
    "base_strings = [r for r in result if not r.endswith(\"0\") and len(r) > 0]"
   ]
  },
  {
   "cell_type": "code",
   "execution_count": 8,
   "id": "59da82f7-5a95-4519-a48d-b834c1137ed7",
   "metadata": {},
   "outputs": [],
   "source": [
    "#all palindromes in the list and the entire set up to len 10 mirrored on itself\n",
    "base2_palindromes = [x for x in base_strings if check_palindrome(x)] + [x[::-1]+x for x in base_strings if len(x) <= 10]\n",
    "base2_palindromes = np.unique(base2_palindromes)"
   ]
  },
  {
   "cell_type": "code",
   "execution_count": 9,
   "id": "6eb2de26-0e60-4611-96cb-afb0146fd382",
   "metadata": {},
   "outputs": [],
   "source": [
    "dec10 = [int(b, 2) for b in base2_palindromes]"
   ]
  },
  {
   "cell_type": "code",
   "execution_count": 10,
   "id": "4ad08290-fc71-4ccd-aa7a-ab12a4ab51c3",
   "metadata": {},
   "outputs": [],
   "source": [
    "dec10_palindromes = [d for d in dec10 if check_palindrome(d)]"
   ]
  },
  {
   "cell_type": "code",
   "execution_count": 11,
   "id": "08549116-e52f-4017-83f9-c123995585d5",
   "metadata": {},
   "outputs": [
    {
     "data": {
      "text/plain": [
       "872187"
      ]
     },
     "execution_count": 11,
     "metadata": {},
     "output_type": "execute_result"
    }
   ],
   "source": [
    "sum(dec10_palindromes)"
   ]
  }
 ],
 "metadata": {
  "kernelspec": {
   "display_name": "Python 3 (ipykernel)",
   "language": "python",
   "name": "python3"
  },
  "language_info": {
   "codemirror_mode": {
    "name": "ipython",
    "version": 3
   },
   "file_extension": ".py",
   "mimetype": "text/x-python",
   "name": "python",
   "nbconvert_exporter": "python",
   "pygments_lexer": "ipython3",
   "version": "3.10.6"
  }
 },
 "nbformat": 4,
 "nbformat_minor": 5
}
