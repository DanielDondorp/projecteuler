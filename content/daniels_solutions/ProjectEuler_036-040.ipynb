{
 "cells": [
  {
   "cell_type": "markdown",
   "id": "91c4c008-4413-4b71-9bec-1fe5e4b1ca15",
   "metadata": {},
   "source": [
    "## Problem 36\n",
    "The decimal number,  585=10010010012\n",
    "  (binary), is palindromic in both bases.\n",
    "\n",
    "Find the sum of all numbers, less than one million, which are palindromic in base  10\n",
    "  and base  2\n",
    " .\n",
    "\n",
    "(Please note that the palindromic number, in either base, may not include leading zeros.)"
   ]
  },
  {
   "cell_type": "code",
   "execution_count": 1,
   "id": "73083b75-0fbe-41a5-8a68-e3afa36b3006",
   "metadata": {},
   "outputs": [],
   "source": [
    "import numpy as np"
   ]
  },
  {
   "cell_type": "code",
   "execution_count": 2,
   "id": "303704f2-f7fd-49e4-a7c0-fde91b53acfc",
   "metadata": {},
   "outputs": [],
   "source": [
    "def check_palindrome(x):\n",
    "    if type(x) != str:\n",
    "        x = str(x)\n",
    "    if x == x[::-1]:\n",
    "        return True\n",
    "    return False\n",
    "\n",
    "def check_palindrome_base2(x):\n",
    "    base2 = np.base_repr(x, 2)\n",
    "    return check_palindrome(base2)\n",
    "\n",
    "def check(x):\n",
    "    if check_palindrome(x):\n",
    "        if check_palindrome_base2(x):\n",
    "            return True\n",
    "    return False\n"
   ]
  },
  {
   "cell_type": "code",
   "execution_count": 3,
   "id": "65bb6e64-7be7-4cdd-a72b-4a03eb08c313",
   "metadata": {},
   "outputs": [],
   "source": [
    "palindromes = [x for x in range(1000000) if check(x)]"
   ]
  },
  {
   "cell_type": "code",
   "execution_count": 4,
   "id": "4675640b-f5e5-4886-9899-7887f78acc8d",
   "metadata": {},
   "outputs": [
    {
     "data": {
      "text/plain": [
       "872187"
      ]
     },
     "execution_count": 4,
     "metadata": {},
     "output_type": "execute_result"
    }
   ],
   "source": [
    "sum(palindromes)"
   ]
  },
  {
   "cell_type": "code",
   "execution_count": 5,
   "id": "2206581d-99c1-499d-a295-1c7401c04779",
   "metadata": {},
   "outputs": [],
   "source": [
    "#the palindrome-first approach\n",
    "def create_base2_strings(last_string):\n",
    "    if len(last_string) > 20:\n",
    "        return []\n",
    "    else:\n",
    "        # Add a one:\n",
    "        next_is_one = last_string + \"1\"\n",
    "        futures_with_one = create_base2_strings(next_is_one)\n",
    "\n",
    "        # Add a zero:\n",
    "        next_is_zero = last_string + \"0\"\n",
    "        futures_with_zero = create_base2_strings(next_is_zero)\n",
    "\n",
    "        # Combine the results\n",
    "        return [last_string] + futures_with_one + futures_with_zero\n",
    "\n",
    "# Start with an empty string\n",
    "result = create_base2_strings(\"\")"
   ]
  },
  {
   "cell_type": "code",
   "execution_count": 6,
   "id": "20230d49-9a06-4ca8-8e35-6899d9cef16d",
   "metadata": {},
   "outputs": [],
   "source": [
    "#drop the ones that end with 0\n",
    "base_strings = [r for r in result if not r.endswith(\"0\") and len(r) > 0]"
   ]
  },
  {
   "cell_type": "code",
   "execution_count": 7,
   "id": "59da82f7-5a95-4519-a48d-b834c1137ed7",
   "metadata": {},
   "outputs": [],
   "source": [
    "#all palindromes in the list and the entire set up to len 10 mirrored on itself\n",
    "base2_palindromes = [x for x in base_strings if check_palindrome(x)] + [x[::-1]+x for x in base_strings if len(x) <= 10]\n",
    "base2_palindromes = np.unique(base2_palindromes)"
   ]
  },
  {
   "cell_type": "code",
   "execution_count": 8,
   "id": "6eb2de26-0e60-4611-96cb-afb0146fd382",
   "metadata": {},
   "outputs": [],
   "source": [
    "dec10 = [int(b, 2) for b in base2_palindromes]"
   ]
  },
  {
   "cell_type": "code",
   "execution_count": 9,
   "id": "4ad08290-fc71-4ccd-aa7a-ab12a4ab51c3",
   "metadata": {},
   "outputs": [],
   "source": [
    "dec10_palindromes = [d for d in dec10 if check_palindrome(d)]"
   ]
  },
  {
   "cell_type": "code",
   "execution_count": 10,
   "id": "08549116-e52f-4017-83f9-c123995585d5",
   "metadata": {},
   "outputs": [
    {
     "data": {
      "text/plain": [
       "872187"
      ]
     },
     "execution_count": 10,
     "metadata": {},
     "output_type": "execute_result"
    }
   ],
   "source": [
    "sum(dec10_palindromes)"
   ]
  },
  {
   "cell_type": "markdown",
   "id": "35125f6b-2a21-4c13-a023-c84159f7467d",
   "metadata": {},
   "source": [
    "## Problem 37 - Truncatable Primes\n",
    "\n",
    "<p>The number $3797$ has an interesting property. Being prime itself, it is possible to continuously remove digits from left to right, and remain prime at each stage: $3797$, $797$, $97$, and $7$. Similarly we can work from right to left: $3797$, $379$, $37$, and $3$.</p>\n",
    "<p>Find the sum of the only eleven primes that are both truncatable from left to right and right to left.</p>\n",
    "<p class=\"smaller\">NOTE: $2$, $3$, $5$, and $7$ are not considered to be truncatable primes.</p>\n"
   ]
  },
  {
   "cell_type": "code",
   "execution_count": 11,
   "id": "98b1a649-192a-4042-921c-cb65418b2e1b",
   "metadata": {},
   "outputs": [],
   "source": [
    "import numpy as np\n",
    "from sympy import isprime"
   ]
  },
  {
   "cell_type": "code",
   "execution_count": 12,
   "id": "1a62b359-e584-415d-9761-6187b50a3c65",
   "metadata": {},
   "outputs": [],
   "source": [
    "def is_truncatable(input_string):\n",
    "    for i in range(1, len(input_string)):\n",
    "        if not isprime(int(input_string[:i])) or not isprime(int(input_string[i:])):\n",
    "            return False\n",
    "    return True"
   ]
  },
  {
   "cell_type": "code",
   "execution_count": 13,
   "id": "380fc1b0-a8ec-4e40-8bb1-5778985d904e",
   "metadata": {},
   "outputs": [],
   "source": [
    "def recursively_make_primes(input_string):\n",
    "    #if our input string is not prime, we return an empty list\n",
    "    #becasue this line of enquiry is exhausted\n",
    "    if not isprime(int(input_string)):\n",
    "        return []\n",
    "\n",
    "    #If it is prime, we add it to our list of valid results\n",
    "    results = [input_string]\n",
    "\n",
    "    #then we can loop over digits to check appending and prepending options for\n",
    "    for addition in [\"1\", \"3\", \"5\", \"7\", \"9\"]:\n",
    "\n",
    "        #check the line of appending the digit\n",
    "        if not addition == 5: #appending 5 wont ever result in a prime\n",
    "            in_front = addition + input_string\n",
    "            \n",
    "            #Go down the line of this append, which terminates when appending isnt prime\n",
    "            from_in_front_base = recursively_make_primes(in_front)\n",
    "            results.extend(from_in_front_base)\n",
    "            \n",
    "        #check the line of prepending the digit which terminates when prepending isnt prime\n",
    "        behind = input_string + addition\n",
    "        from_behind_base = recursively_make_primes(behind)\n",
    "        results.extend(from_behind_base)\n",
    "    return results"
   ]
  },
  {
   "cell_type": "code",
   "execution_count": 14,
   "id": "b3acfcd7-19c9-4e17-8b89-2e5e2c9874d3",
   "metadata": {},
   "outputs": [],
   "source": [
    "#find the primes\n",
    "primes = []\n",
    "for digit in [str(x) for x in range(1, 10)]:\n",
    "    primes.extend(recursively_make_primes(digit))"
   ]
  },
  {
   "cell_type": "code",
   "execution_count": 15,
   "id": "2d698289-70ae-4175-8266-a990abd28caf",
   "metadata": {},
   "outputs": [],
   "source": [
    "#Get the uniques, because we are finding primes multiple times from different starting points\n",
    "primes = [p for p in np.unique(primes) if int(p) > 10]"
   ]
  },
  {
   "cell_type": "code",
   "execution_count": 16,
   "id": "46fcb109-ad85-4f85-a278-372bc18ddc2c",
   "metadata": {},
   "outputs": [],
   "source": [
    "truncatable_primes = [int(p) for p in primes if is_truncatable(p)]\n",
    "truncatable_primes.sort()"
   ]
  },
  {
   "cell_type": "code",
   "execution_count": 17,
   "id": "10243f11-6796-4470-957e-16e32f0c6cab",
   "metadata": {},
   "outputs": [
    {
     "name": "stdout",
     "output_type": "stream",
     "text": [
      "We have found 11 truncatable primes: [23, 37, 53, 73, 313, 317, 373, 797, 3137, 3797, 739397]\n"
     ]
    }
   ],
   "source": [
    "print(f\"We have found {len(truncatable_primes)} truncatable primes: {truncatable_primes}\")"
   ]
  },
  {
   "cell_type": "code",
   "execution_count": 18,
   "id": "3538f5da-20ca-4301-bad7-3b217ae09ffd",
   "metadata": {},
   "outputs": [
    {
     "data": {
      "text/plain": [
       "748317"
      ]
     },
     "execution_count": 18,
     "metadata": {},
     "output_type": "execute_result"
    }
   ],
   "source": [
    "sum(truncatable_primes)"
   ]
  },
  {
   "cell_type": "markdown",
   "id": "9c82dd86-2707-4897-8a7f-15f7819ab250",
   "metadata": {},
   "source": [
    "## Problem 38 - Pandigital Multiples"
   ]
  },
  {
   "cell_type": "markdown",
   "id": "dc0e61b3-02e9-4e43-851e-609d663b1721",
   "metadata": {},
   "source": [
    "<p>Take the number $192$ and multiply it by each of $1$, $2$, and $3$:</p>\n",
    "\\begin{align}\n",
    "192 \\times 1 = 192\\\\\n",
    "192 \\times 2 = 384\\\\\n",
    "192 \\times 3 = 576\n",
    "\\end{align}\n",
    "<p>By concatenating each product we get the $1$ to $9$ pandigital, $192384576$. We will call $192384576$ the concatenated product of $192$ and $(1,2,3)$.</p>\n",
    "<p>The same can be achieved by starting with $9$ and multiplying by $1$, $2$, $3$, $4$, and $5$, giving the pandigital, $918273645$, which is the concatenated product of $9$ and $(1,2,3,4,5)$.</p>\n",
    "<p>What is the largest $1$ to $9$ pandigital $9$-digit number that can be formed as the concatenated product of an integer with $(1,2, \\dots, n)$ where $n \\gt 1$?</p>\n"
   ]
  },
  {
   "cell_type": "markdown",
   "id": "d950c773-3dfa-49c7-8fbe-9f11e6f8f9be",
   "metadata": {},
   "source": [
    "---\n",
    "So I guess we can infer from the question that the number we are looking for is higher than 918_273_645, and cant be higher than 999_999_999. An added constraint is that there can be no zeros or repeating digits. That reduces the search space considerably. \n",
    "\n",
    "I guess our first number, which will result from the multipication with 1, has to be equal to or larger than the digits found in our lower bound, and we just have to check to the next power of 10 of that digit? So we check 9, 91...98, (99 has repeating digits), 918, 919, 921..987 etc. That also reduces the search space if we start from this angle. There is also a constraint to the max starting candidate, set by the max amount of digits being 9. We cant look for larger than 4 digit numbers because combining the first two options would result in a 10 digit string which is not going to be pandigital. I think that means the max for our candidates is the largest option under 5 digits, 9876. \n",
    "\n",
    "This is beginning to feel like a basic search: \n",
    "\n",
    "Lets say for an integer x, we concatenate x with x*n for n = 2,3,4 etc. As soon as we get repeating digits or a zero we abandon x as a valid option, and check the next valid candidate for x. Lets try to put this into some code."
   ]
  },
  {
   "cell_type": "code",
   "execution_count": 19,
   "id": "566539ae-d9fe-42f4-97a2-866f5400cc54",
   "metadata": {},
   "outputs": [],
   "source": [
    "#we need a function to check if a number is pandigital\n",
    "def is_pandigital(x: int) -> bool:\n",
    "    x = str(x)\n",
    "    if \"0\" not in x and len(np.unique([*x])) == 9:\n",
    "        return True\n",
    "    return False"
   ]
  },
  {
   "cell_type": "code",
   "execution_count": 20,
   "id": "174fc6cd-90f8-49a0-90ed-c39841e9061a",
   "metadata": {},
   "outputs": [],
   "source": [
    "#we need a function to check for doubles and zeros in potential but incomplete pandigitals\n",
    "def has_zeros_or_doubles(x: int) -> bool:\n",
    "    x = str(x)\n",
    "    if \"0\" in x:\n",
    "        return True\n",
    "    else:\n",
    "        for digit in x:\n",
    "            if x.count(digit) > 1:\n",
    "                return True\n",
    "    return False"
   ]
  },
  {
   "cell_type": "code",
   "execution_count": 21,
   "id": "a1399f16-763c-406d-9c09-3aa7a465fb04",
   "metadata": {},
   "outputs": [],
   "source": [
    "#find out if a pandigital can be made by subsequently adding the product and checking conditions\n",
    "def find_pandigital(x: int):\n",
    "    stringx = str(x)\n",
    "    n = 2\n",
    "    while not is_pandigital(stringx):   \n",
    "        new_stringx = stringx + str(x*n)\n",
    "        if has_zeros_or_doubles(new_stringx):\n",
    "            return\n",
    "        else:\n",
    "            n+=1\n",
    "            stringx = new_stringx\n",
    "    return int(stringx)"
   ]
  },
  {
   "cell_type": "code",
   "execution_count": 22,
   "id": "fa7fd895-0046-4a27-b70b-166eaa8f62e7",
   "metadata": {},
   "outputs": [
    {
     "name": "stdout",
     "output_type": "stream",
     "text": [
      "The largest found pandigital is 932718654\n",
      "CPU times: user 12.9 ms, sys: 10.9 ms, total: 23.7 ms\n",
      "Wall time: 22.9 ms\n"
     ]
    }
   ],
   "source": [
    "%%time\n",
    "#our potential candidates for x are all numbers larger than prefixes from the given pandigital in the excercise, and smaller than\n",
    "candidates = [x for x in range(92, 98)] + [x for x in range(921, 9876) if not has_zeros_or_doubles(x)]\n",
    "\n",
    "#find potential pandigitals\n",
    "pds = [find_pandigital(x) for x in candidates]\n",
    "\n",
    "#filter out none vals\n",
    "pds = [p for p in pds if p!=None]\n",
    "\n",
    "#print the largest found pandigital\n",
    "print(f\"The largest found pandigital is {max(pds)}\")"
   ]
  },
  {
   "cell_type": "markdown",
   "id": "656eb97c-a872-4025-a501-9059e485bf6d",
   "metadata": {},
   "source": [
    "## Problem 39 - Integer Right Triangles\n",
    "\n",
    "<p>If $p$ is the perimeter of a right angle triangle with integral length sides, $\\{a, b, c\\}$, there are exactly three solutions for $p = 120$.</p>\n",
    "<p>$\\{20,48,52\\}$, $\\{24,45,51\\}$, $\\{30,40,50\\}$</p>\n",
    "<p>For which value of $p \\le 1000$, is the number of solutions maximised?</p>\n"
   ]
  },
  {
   "cell_type": "code",
   "execution_count": null,
   "id": "108971b4-9f63-4c6b-9e6f-25f4d41d5bc7",
   "metadata": {},
   "outputs": [],
   "source": []
  },
  {
   "cell_type": "code",
   "execution_count": 23,
   "id": "5ed426d9-a693-4673-8b44-f13c0f971905",
   "metadata": {},
   "outputs": [],
   "source": [
    "def make_triplet(n):\n",
    "    return ((n^2)-1, (n^2) +1, 2*n)"
   ]
  },
  {
   "cell_type": "code",
   "execution_count": 49,
   "id": "93336f23-c7a1-4c81-946e-e3c18de34a52",
   "metadata": {},
   "outputs": [],
   "source": [
    "def find_max_p():\n",
    "    solutions = []\n",
    "    for a in range(1, 1000):\n",
    "        for b in range(a, 1000):\n",
    "            c = np.sqrt(a**2 + b**2)\n",
    "            if c>b and int(c) == c and a+b+c < 1000:\n",
    "                solutions.append(int(a+b+c))\n",
    "    return solutions"
   ]
  },
  {
   "cell_type": "code",
   "execution_count": 50,
   "id": "84e07d55-e9d6-4792-bf67-9b564a655dfa",
   "metadata": {},
   "outputs": [],
   "source": [
    "solutions = find_max_p()"
   ]
  },
  {
   "cell_type": "code",
   "execution_count": 51,
   "id": "c4a3ee84-cde9-4138-8279-19817ffa557d",
   "metadata": {},
   "outputs": [],
   "source": [
    "counts = {s: solutions.count(s) for s in np.unique(solutions)}\n",
    "    "
   ]
  },
  {
   "cell_type": "code",
   "execution_count": 52,
   "id": "3ff99a86-ae7d-45a5-a82c-2e7e520ae0bb",
   "metadata": {},
   "outputs": [],
   "source": [
    "maxp = max(counts, key = counts.get)"
   ]
  },
  {
   "cell_type": "code",
   "execution_count": 53,
   "id": "022bfaee-a8f4-4189-808f-5978a86e79f8",
   "metadata": {},
   "outputs": [
    {
     "data": {
      "text/plain": [
       "840"
      ]
     },
     "execution_count": 53,
     "metadata": {},
     "output_type": "execute_result"
    }
   ],
   "source": [
    "maxp"
   ]
  },
  {
   "cell_type": "code",
   "execution_count": 54,
   "id": "125cbbe4-25fc-434a-8595-14c4f152357a",
   "metadata": {},
   "outputs": [
    {
     "data": {
      "text/plain": [
       "8"
      ]
     },
     "execution_count": 54,
     "metadata": {},
     "output_type": "execute_result"
    }
   ],
   "source": [
    "counts[840]"
   ]
  },
  {
   "cell_type": "markdown",
   "id": "166fffb6-de2a-4786-a8f2-cf80eb5d7a1c",
   "metadata": {},
   "source": [
    "## Problem 40 - Champernowne's Constant\n",
    "\n",
    "<p>An irrational decimal fraction is created by concatenating the positive integers:\n",
    "$$0.12345678910{\\color{red}\\mathbf 1}112131415161718192021\\cdots$$</p>\n",
    "<p>It can be seen that the $12$<sup>th</sup> digit of the fractional part is $1$.</p>\n",
    "<p>If $d_n$ represents the $n$<sup>th</sup> digit of the fractional part, find the value of the following expression.\n",
    "$$d_1 \\times d_{10} \\times d_{100} \\times d_{1000} \\times d_{10000} \\times d_{100000} \\times d_{1000000}$$</p>"
   ]
  },
  {
   "cell_type": "code",
   "execution_count": 29,
   "id": "cf996f21-7a68-4c3e-8334-2824c0f5b5b8",
   "metadata": {},
   "outputs": [],
   "source": [
    "#abuse modern hardware, build the million digit string of champernowes constant:\n",
    "n = 1\n",
    "champs_const = \"\"\n",
    "while(len(champs_const)) < 1e6:\n",
    "    champs_const += str(n)\n",
    "    n+=1\n",
    "    "
   ]
  },
  {
   "cell_type": "code",
   "execution_count": 30,
   "id": "1affb523-d384-484f-902e-3461d9d48c01",
   "metadata": {},
   "outputs": [],
   "source": [
    "#find the digits at the right indexes:\n",
    "digits = [int(champs_const[n-1]) for n in [1, 10, 100, 1000, 10000, 100000, 1000000]]"
   ]
  },
  {
   "cell_type": "code",
   "execution_count": 31,
   "id": "e3f6de1c-dae7-4609-8c50-35595be498f4",
   "metadata": {},
   "outputs": [
    {
     "data": {
      "text/plain": [
       "210"
      ]
     },
     "execution_count": 31,
     "metadata": {},
     "output_type": "execute_result"
    }
   ],
   "source": [
    "#get the product of the found digits:\n",
    "np.product(digits)"
   ]
  }
 ],
 "metadata": {
  "kernelspec": {
   "display_name": "Python 3 (ipykernel)",
   "language": "python",
   "name": "python3"
  },
  "language_info": {
   "codemirror_mode": {
    "name": "ipython",
    "version": 3
   },
   "file_extension": ".py",
   "mimetype": "text/x-python",
   "name": "python",
   "nbconvert_exporter": "python",
   "pygments_lexer": "ipython3",
   "version": "3.10.12"
  }
 },
 "nbformat": 4,
 "nbformat_minor": 5
}
