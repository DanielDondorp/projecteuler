{
 "cells": [
  {
   "cell_type": "markdown",
   "id": "6510699d",
   "metadata": {},
   "source": [
    "# Problem 6 to 10\n",
    "\n",
    "[![project euler](https://projecteuler.net/themes/logo_default.png)](https://www.projecteuler.net)"
   ]
  },
  {
   "cell_type": "code",
   "execution_count": 1,
   "id": "bcb3382d-adb9-4bbb-999a-51fd6c6c0a35",
   "metadata": {},
   "outputs": [],
   "source": [
    "import numpy as np"
   ]
  },
  {
   "cell_type": "markdown",
   "id": "065cd15b",
   "metadata": {},
   "source": [
    "## Problem 6 - Sum Square Difference\n",
    "\n",
    "<p>The sum of the squares of the first ten natural numbers is,</p>\n",
    "$$1^2 + 2^2 + ... + 10^2 = 385.$$\n",
    "<p>The square of the sum of the first ten natural numbers is,</p>\n",
    "$$(1 + 2 + ... + 10)^2 = 55^2 = 3025.$$\n",
    "<p>Hence the difference between the sum of the squares of the first ten natural numbers and the square of the sum is $3025 - 385 = 2640$.</p>\n",
    "<p>Find the difference between the sum of the squares of the first one hundred natural numbers and the square of the sum.</p>"
   ]
  },
  {
   "cell_type": "code",
   "execution_count": 2,
   "id": "ae501669",
   "metadata": {},
   "outputs": [],
   "source": [
    "def difference(lim):\n",
    "    numbers = np.arange(1, lim+1)\n",
    "    ssq = np.sum(numbers**2)\n",
    "    sqs = np.sum(numbers)**2\n",
    "    return sqs-ssq"
   ]
  },
  {
   "cell_type": "code",
   "execution_count": 3,
   "id": "cd512b7a-1afb-4ec9-a829-bdd4641039b2",
   "metadata": {},
   "outputs": [
    {
     "data": {
      "text/plain": [
       "25164150"
      ]
     },
     "execution_count": 3,
     "metadata": {},
     "output_type": "execute_result"
    }
   ],
   "source": [
    "difference(100)"
   ]
  },
  {
   "cell_type": "markdown",
   "id": "7eae9903",
   "metadata": {},
   "source": [
    "## Problem 7 - 10001st prime\n",
    "\n",
    "<p>By listing the first six prime numbers: $2, 3, 5, 7, 11$, and $13$, we can see that the $6$th prime is $13$.</p>\n",
    "<p>What is the $10\\,001$st prime number?</p>\n"
   ]
  },
  {
   "cell_type": "code",
   "execution_count": 28,
   "id": "110cf6c6",
   "metadata": {},
   "outputs": [],
   "source": [
    "#try remembering the sieve of that greek dude\n",
    "\n",
    "def find_primes(lim):\n",
    "    numbers = np.arange(2, lim+1)\n",
    "    primes = np.array([], dtype = np.int32)\n",
    "    #first prime is 2\n",
    "    p = 2\n",
    "    while p <= (lim+1):\n",
    "        #eliminate all multiples of p:\n",
    "        numbers = numbers[numbers>=p]\n",
    "        numbers = numbers[numbers%p!=0]\n",
    "        primes = np.append(primes, p)\n",
    "        if len(numbers)<1:\n",
    "            return primes\n",
    "        \n",
    "        p = numbers[0]\n",
    "        numbers = np.append(np.unique(primes), numbers)\n",
    "    return primes\n",
    "        "
   ]
  },
  {
   "cell_type": "code",
   "execution_count": 29,
   "id": "b0c875a5-282d-41f4-b211-322a1c565cf1",
   "metadata": {},
   "outputs": [],
   "source": [
    "primes = find_primes(110000)"
   ]
  },
  {
   "cell_type": "code",
   "execution_count": 30,
   "id": "2fac3ec0-7d99-47c6-8449-c78536a289d3",
   "metadata": {},
   "outputs": [
    {
     "data": {
      "text/plain": [
       "104743"
      ]
     },
     "execution_count": 30,
     "metadata": {},
     "output_type": "execute_result"
    }
   ],
   "source": [
    "primes[10000] #10001st prime "
   ]
  },
  {
   "cell_type": "code",
   "execution_count": null,
   "id": "54fdbedf-fd1d-4d17-806d-6a401b29be3c",
   "metadata": {},
   "outputs": [],
   "source": [
    "primes[-1]"
   ]
  },
  {
   "cell_type": "code",
   "execution_count": 8,
   "id": "38b98243-8a3b-4caa-b814-ad685d929803",
   "metadata": {},
   "outputs": [
    {
     "data": {
      "text/plain": [
       "10453"
      ]
     },
     "execution_count": 8,
     "metadata": {},
     "output_type": "execute_result"
    }
   ],
   "source": [
    "len(primes)"
   ]
  },
  {
   "cell_type": "markdown",
   "id": "d23ac107-382f-42ec-88a2-8094544c69c3",
   "metadata": {},
   "source": [
    "This solution annoys me in its inexactness of the limit I have to supply. We are calculating a bunch of primes extra for free here."
   ]
  },
  {
   "cell_type": "markdown",
   "id": "7953fcd3",
   "metadata": {},
   "source": [
    "## Problem 8 - Largest product in a series\n",
    "\n",
    "<p>The four adjacent digits in the $1000$-digit number that have the greatest product are $9 \\times 9 \\times 8 \\times 9 = 5832$.</p>\n",
    "<p class=\"monospace center\">\n",
    "73167176531330624919225119674426574742355349194934<br>\n",
    "96983520312774506326239578318016984801869478851843<br>\n",
    "85861560789112949495459501737958331952853208805511<br>\n",
    "12540698747158523863050715693290963295227443043557<br>\n",
    "66896648950445244523161731856403098711121722383113<br>\n",
    "62229893423380308135336276614282806444486645238749<br>\n",
    "30358907296290491560440772390713810515859307960866<br>\n",
    "70172427121883998797908792274921901699720888093776<br>\n",
    "65727333001053367881220235421809751254540594752243<br>\n",
    "52584907711670556013604839586446706324415722155397<br>\n",
    "53697817977846174064955149290862569321978468622482<br>\n",
    "83972241375657056057490261407972968652414535100474<br>\n",
    "82166370484403199890008895243450658541227588666881<br>\n",
    "16427171479924442928230863465674813919123162824586<br>\n",
    "17866458359124566529476545682848912883142607690042<br>\n",
    "24219022671055626321111109370544217506941658960408<br>\n",
    "07198403850962455444362981230987879927244284909188<br>\n",
    "84580156166097919133875499200524063689912560717606<br>\n",
    "05886116467109405077541002256983155200055935729725<br>\n",
    "71636269561882670428252483600823257530420752963450<br></p>\n",
    "<p>Find the thirteen adjacent digits in the $1000$-digit number that have the greatest product. What is the value of this product?</p>"
   ]
  },
  {
   "cell_type": "code",
   "execution_count": 9,
   "id": "f5867eda",
   "metadata": {},
   "outputs": [],
   "source": [
    "#put the series in a variable\n",
    "series = 7316717653133062491922511967442657474235534919493496983520312774506326239578318016984801869478851843858615607891129494954595017379583319528532088055111254069874715852386305071569329096329522744304355766896648950445244523161731856403098711121722383113622298934233803081353362766142828064444866452387493035890729629049156044077239071381051585930796086670172427121883998797908792274921901699720888093776657273330010533678812202354218097512545405947522435258490771167055601360483958644670632441572215539753697817977846174064955149290862569321978468622482839722413756570560574902614079729686524145351004748216637048440319989000889524345065854122758866688116427171479924442928230863465674813919123162824586178664583591245665294765456828489128831426076900422421902267105562632111110937054421750694165896040807198403850962455444362981230987879927244284909188845801561660979191338754992005240636899125607176060588611646710940507754100225698315520005593572972571636269561882670428252483600823257530420752963450"
   ]
  },
  {
   "cell_type": "code",
   "execution_count": 10,
   "id": "77b4ac0f-f36d-4e53-a05d-ba7c7838ad9d",
   "metadata": {},
   "outputs": [
    {
     "data": {
      "text/plain": [
       "1000"
      ]
     },
     "execution_count": 10,
     "metadata": {},
     "output_type": "execute_result"
    }
   ],
   "source": [
    "#sanity check\n",
    "series = str(series)\n",
    "len(series)"
   ]
  },
  {
   "cell_type": "code",
   "execution_count": 11,
   "id": "8086507a-bb10-450a-b6b5-4ab63ca98026",
   "metadata": {},
   "outputs": [
    {
     "name": "stdout",
     "output_type": "stream",
     "text": [
      "23514624000\n"
     ]
    }
   ],
   "source": [
    "#simple solution\n",
    "largest_product = 0\n",
    "for i in range(len(series)-12):\n",
    "    digits = series[i:i+13]\n",
    "    product = 1\n",
    "    for d in digits:\n",
    "        product *= int(d)\n",
    "    largest_product = np.max([product, largest_product])\n",
    "print(largest_product)\n",
    "    "
   ]
  },
  {
   "cell_type": "code",
   "execution_count": 12,
   "id": "4d60cde7-1255-4496-96c5-8c7b81a230b3",
   "metadata": {},
   "outputs": [
    {
     "name": "stdout",
     "output_type": "stream",
     "text": [
      "(1000,)\n"
     ]
    }
   ],
   "source": [
    "#vectorized approach\n",
    "\n",
    "#make 1dim array:\n",
    "arr = np.array(list(series), dtype = np.int64)\n",
    "#sanity check\n",
    "print(arr.shape)\n",
    "\n",
    "def find_largest_product_of_window(series, window = 4):\n",
    "    #sliding window:\n",
    "    win = np.lib.stride_tricks.sliding_window_view(arr, window)\n",
    "    print(win.shape)\n",
    "    #calculate the products over the windows\n",
    "    prods = np.prod(win, axis = 1)\n",
    "    return np.max(prods)"
   ]
  },
  {
   "cell_type": "code",
   "execution_count": 13,
   "id": "d3ba58f9-437c-4bbd-a006-3adb9128de21",
   "metadata": {},
   "outputs": [
    {
     "name": "stdout",
     "output_type": "stream",
     "text": [
      "(997, 4)\n",
      "5832\n",
      "(988, 13)\n",
      "23514624000\n"
     ]
    }
   ],
   "source": [
    "#check example case:\n",
    "print(find_largest_product_of_window(arr, 4))\n",
    "\n",
    "#calculate answer\n",
    "print(find_largest_product_of_window(arr, 13))"
   ]
  },
  {
   "cell_type": "markdown",
   "id": "73cc344d",
   "metadata": {},
   "source": [
    "## Problem 9 - Special pythagorean triplet\n",
    "\n",
    "<p>A Pythagorean triplet is a set of three natural numbers, $a \\lt b \\lt c$, for which,\n",
    "$$a^2 + b^2 = c^2.$$</p>\n",
    "<p>For example, $3^2 + 4^2 = 9 + 16 = 25 = 5^2$.</p>\n",
    "<p>There exists exactly one Pythagorean triplet for which $a + b + c = 1000$.<br>Find the product $abc$.</p>\n"
   ]
  },
  {
   "cell_type": "code",
   "execution_count": 14,
   "id": "22858446",
   "metadata": {},
   "outputs": [
    {
     "name": "stdout",
     "output_type": "stream",
     "text": [
      "product of the special triplet (200, 375, 425.0) is 31875000.0, and it took 0.21 to run this stupid algorithm\n"
     ]
    }
   ],
   "source": [
    "import time\n",
    "import numpy as np\n",
    "import sys\n",
    "\n",
    "def find_triplet():\n",
    "    for a in range(1, 1000):\n",
    "        for b in range(a, 1000):\n",
    "            c = np.sqrt(a**2 + b**2)\n",
    "            if c>b:\n",
    "                if a+b+c == 1000:\n",
    "                    return(a,b,c)\n",
    "                \n",
    "start_time = time.time()\n",
    "a,b,c = find_triplet()\n",
    "end_time = time.time()\n",
    "print(f\"product of the special triplet {(a, b, c)} is {a*b*c}, and it took {round(end_time-start_time, 2)} to run this stupid algorithm\")"
   ]
  },
  {
   "cell_type": "markdown",
   "id": "52199750",
   "metadata": {},
   "source": [
    "## Problem 10 - Summation of primes\n",
    "\n",
    "<p>The sum of the primes below $10$ is $2 + 3 + 5 + 7 = 17$.</p>\n",
    "<p>Find the sum of all the primes below two million.</p>\n",
    "\n"
   ]
  },
  {
   "cell_type": "code",
   "execution_count": 47,
   "id": "bd2bbfc9-4411-4213-ae3c-b0cbaf81f6b5",
   "metadata": {},
   "outputs": [],
   "source": [
    "def find_primes(lim):\n",
    "    numbers = np.arange(2, lim+1)\n",
    "    primes = np.array([], dtype = np.int32)\n",
    "    #first prime is 2\n",
    "    p = 2\n",
    "    while p < np.sqrt(lim): #speed up trick van Olivier\n",
    "        #eliminate all multiples of p:\n",
    "        numbers = numbers[numbers>=p]\n",
    "        numbers = numbers[numbers%p!=0]\n",
    "        primes = np.append(primes, p)\n",
    "        p = numbers[0]\n",
    "        numbers = np.append(np.unique(primes), numbers)\n",
    "    return primes.astype(int)"
   ]
  },
  {
   "cell_type": "code",
   "execution_count": 48,
   "id": "871f3f30",
   "metadata": {},
   "outputs": [],
   "source": [
    "start_time = time.time()\n",
    "primes = find_primes(2e6)\n",
    "end_time = time.time()\n"
   ]
  },
  {
   "cell_type": "code",
   "execution_count": 49,
   "id": "c53a793b-dd84-4cfc-8dbe-5b9eae9676e7",
   "metadata": {},
   "outputs": [
    {
     "name": "stdout",
     "output_type": "stream",
     "text": [
      "1.0113022327423096\n"
     ]
    }
   ],
   "source": [
    "print(end_time-start_time)"
   ]
  },
  {
   "cell_type": "code",
   "execution_count": 50,
   "id": "6e3c08a9-a985-45c4-980e-4bccc5d730af",
   "metadata": {},
   "outputs": [
    {
     "data": {
      "text/plain": [
       "141676"
      ]
     },
     "execution_count": 50,
     "metadata": {},
     "output_type": "execute_result"
    }
   ],
   "source": [
    "np.sum(primes)"
   ]
  }
 ],
 "metadata": {
  "kernelspec": {
   "display_name": "Python 3 (ipykernel)",
   "language": "python",
   "name": "python3"
  },
  "language_info": {
   "codemirror_mode": {
    "name": "ipython",
    "version": 3
   },
   "file_extension": ".py",
   "mimetype": "text/x-python",
   "name": "python",
   "nbconvert_exporter": "python",
   "pygments_lexer": "ipython3",
   "version": "3.10.6"
  }
 },
 "nbformat": 4,
 "nbformat_minor": 5
}
