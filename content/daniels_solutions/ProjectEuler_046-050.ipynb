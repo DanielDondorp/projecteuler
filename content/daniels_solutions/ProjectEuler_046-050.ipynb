{
 "cells": [
  {
   "cell_type": "markdown",
   "id": "6c461f00-84e2-44ef-bb05-f5a0bc55c721",
   "metadata": {},
   "source": [
    "## Problem 48 - Self Powers\n",
    "\n",
    "<p>The series, $1^1 + 2^2 + 3^3 + \\cdots + 10^{10} = 10405071317$.</p>\n",
    "<p>Find the last ten digits of the series, $1^1 + 2^2 + 3^3 + \\cdots + 1000^{1000}$.</p>\n"
   ]
  },
  {
   "cell_type": "code",
   "execution_count": 3,
   "id": "fe71170a-a10f-4d17-b5a3-788aa09156f0",
   "metadata": {},
   "outputs": [
    {
     "name": "stdout",
     "output_type": "stream",
     "text": [
      "The answer is : 9110846700\n",
      "CPU times: user 6.68 ms, sys: 0 ns, total: 6.68 ms\n",
      "Wall time: 6.62 ms\n"
     ]
    }
   ],
   "source": [
    "%%time\n",
    "\n",
    "s = 0\n",
    "for x in range(1, 1001, 1):\n",
    "    s+= x**x\n",
    "\n",
    "print(f\"The answer is : {str(s)[-10:]}\")"
   ]
  },
  {
   "cell_type": "markdown",
   "id": "49a4fc75-7807-4f17-b7ea-77fe36b85cb4",
   "metadata": {},
   "source": [
    "## Problem 49 - Prime Permutations\n",
    "\n",
    "<p>The arithmetic sequence, $1487, 4817, 8147$, in which each of the terms increases by $3330$, is unusual in two ways: (i) each of the three terms are prime, and, (ii) each of the $4$-digit numbers are permutations of one another.</p>\n",
    "<p>There are no arithmetic sequences made up of three $1$-, $2$-, or $3$-digit primes, exhibiting this property, but there is one other $4$-digit increasing sequence.</p>\n",
    "<p>What $12$-digit number do you form by concatenating the three terms in this sequence?</p>\n"
   ]
  },
  {
   "cell_type": "code",
   "execution_count": 45,
   "id": "48928f6e-6fac-47cc-a36e-bdb9fec98122",
   "metadata": {},
   "outputs": [],
   "source": [
    "from sympy import isprime\n",
    "import numpy as np\n",
    "from scipy.spatial.distance import cdist\n",
    "\n",
    "#find four-digit-primes\n",
    "fdps = np.array([x for x in range(1000, 10000,1) if isprime(x)])"
   ]
  },
  {
   "cell_type": "code",
   "execution_count": 84,
   "id": "e315e2c7-0996-4f50-9e5f-e7dc3e2a29d9",
   "metadata": {},
   "outputs": [],
   "source": [
    "def check_gap(fdp: int, gap: int):\n",
    "    \"\"\"Checks if for a four digit prime and a given gap, \n",
    "    the numbers found by adding or subtracting the gap are prime\n",
    "    and also comprised of the same set of digits\"\"\"\n",
    "    if set(str(fdp)) != set(str(fdp+gap)):\n",
    "        return False\n",
    "    \n",
    "    if set(str(fdp)) != set(str(fdp-gap)):\n",
    "        return False\n",
    "    if not isprime(fdp+gap) or not isprime(fdp-gap):\n",
    "        return False\n",
    "    return True\n",
    "        "
   ]
  },
  {
   "cell_type": "code",
   "execution_count": 82,
   "id": "73418a5b-0950-405f-9331-76f57a6a84d9",
   "metadata": {},
   "outputs": [
    {
     "name": "stdout",
     "output_type": "stream",
     "text": [
      "1487, 4817, 8147 with a gap of 3330\n",
      "2969, 6299, 9629 with a gap of 3330\n"
     ]
    }
   ],
   "source": [
    "#for every four digit prime\n",
    "for fdp in fdps:\n",
    "    # find all symmetrical gaps by looki\n",
    "    diffs, counts = np.unique(np.abs(fdps - fdp), return_counts=True)\n",
    "    idxs = np.argwhere(counts == 2).flatten()\n",
    "    gaps_to_check = diffs[idxs]\n",
    "    for gap in gaps_to_check:\n",
    "        if check_gap(fdp, gap):\n",
    "            print(f\"{fdp-gap}, {fdp}, {fdp+gap} with a gap of {gap}\")"
   ]
  },
  {
   "cell_type": "code",
   "execution_count": 62,
   "id": "d1369ea9-eb33-4162-8e63-f8f5e3175338",
   "metadata": {},
   "outputs": [
    {
     "data": {
      "text/plain": [
       "4931"
      ]
     },
     "execution_count": 62,
     "metadata": {},
     "output_type": "execute_result"
    }
   ],
   "source": [
    "4817+114"
   ]
  },
  {
   "cell_type": "code",
   "execution_count": 63,
   "id": "f745c154-c95d-4490-bfe2-2c5b5c5ca920",
   "metadata": {},
   "outputs": [
    {
     "data": {
      "text/plain": [
       "{'1', '2', '3', '4'}"
      ]
     },
     "execution_count": 63,
     "metadata": {},
     "output_type": "execute_result"
    }
   ],
   "source": [
    "set(str(1234))"
   ]
  },
  {
   "cell_type": "code",
   "execution_count": null,
   "id": "fc081907-e456-4c4b-ae72-fd31e8355d9e",
   "metadata": {},
   "outputs": [],
   "source": []
  }
 ],
 "metadata": {
  "kernelspec": {
   "display_name": "Python 3 (ipykernel)",
   "language": "python",
   "name": "python3"
  },
  "language_info": {
   "codemirror_mode": {
    "name": "ipython",
    "version": 3
   },
   "file_extension": ".py",
   "mimetype": "text/x-python",
   "name": "python",
   "nbconvert_exporter": "python",
   "pygments_lexer": "ipython3",
   "version": "3.10.12"
  }
 },
 "nbformat": 4,
 "nbformat_minor": 5
}
