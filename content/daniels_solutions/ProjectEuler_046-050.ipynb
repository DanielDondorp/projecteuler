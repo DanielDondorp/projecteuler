{
 "cells": [
  {
   "cell_type": "markdown",
   "id": "ce4b8c5b-17d8-4be4-956f-e5f2446152a2",
   "metadata": {},
   "source": [
    "## Problem 46 - Goldbachs other conjecture\n",
    "\n",
    "<p>It was proposed by Christian Goldbach that every odd composite number can be written as the sum of a prime and twice a square.</p>\n",
    "\\begin{align}\n",
    "9 = 7 + 2 \\times 1^2\\\\\n",
    "15 = 7 + 2 \\times 2^2\\\\\n",
    "21 = 3 + 2 \\times 3^2\\\\\n",
    "25 = 7 + 2 \\times 3^2\\\\\n",
    "27 = 19 + 2 \\times 2^2\\\\\n",
    "33 = 31 + 2 \\times 1^2\n",
    "\\end{align}\n",
    "<p>It turns out that the conjecture was false.</p>\n",
    "<p>What is the smallest odd composite that cannot be written as the sum of a prime and twice a square?</p>\n"
   ]
  },
  {
   "cell_type": "code",
   "execution_count": 1,
   "id": "41401232-4808-4819-b5f9-6ff05a2e2f7b",
   "metadata": {},
   "outputs": [],
   "source": [
    "#first I need to find a way to check if a number is a perfect square I think. \n",
    "import numpy as np\n",
    "def is_perfect_square(x: int) -> bool:\n",
    "    \"\"\"if the integer part of a square root squares to be equal to the original number I`m confident we have a perfect square\"\"\"\n",
    "    sqx = int(np.sqrt(x))\n",
    "    if sqx**2 == x:\n",
    "        return True\n",
    "    return False"
   ]
  },
  {
   "cell_type": "code",
   "execution_count": 2,
   "id": "83bd2c2b-e1f0-4653-b054-652474d5c84a",
   "metadata": {},
   "outputs": [],
   "source": [
    "from sympy import isprime"
   ]
  },
  {
   "cell_type": "code",
   "execution_count": 3,
   "id": "5c1fe957-7a22-4570-98c3-833d831d3da1",
   "metadata": {},
   "outputs": [],
   "source": [
    "def satisfies_goldbach(x):\n",
    "    if x%2 == 0 or isprime(x):\n",
    "        return False\n",
    "    else:\n",
    "        for i in range(1,x):\n",
    "            comp = x - i\n",
    "            if isprime(comp):\n",
    "                if i%2 ==0 and is_perfect_square(i//2):\n",
    "                    return True\n",
    "        return False\n",
    "        "
   ]
  },
  {
   "cell_type": "code",
   "execution_count": 4,
   "id": "b4603250-8ab2-477a-becd-0365198767f8",
   "metadata": {},
   "outputs": [
    {
     "name": "stdout",
     "output_type": "stream",
     "text": [
      "5777 cannot be written as a prime and twice a square\n"
     ]
    }
   ],
   "source": [
    "goldbach_is_satisfied = True\n",
    "n = 33\n",
    "while goldbach_is_satisfied:\n",
    "    n+=2\n",
    "    if not isprime(n):\n",
    "        goldbach_is_satisfied = satisfies_goldbach(n)\n",
    "print(f\"{n} cannot be written as a prime and twice a square\")"
   ]
  },
  {
   "cell_type": "markdown",
   "id": "de39a075-9890-4702-b1ba-3e38f0ed19e9",
   "metadata": {},
   "source": [
    "## Problem 47 - Distinct Prime Factors\n",
    "\n",
    "<p>The first two consecutive numbers to have two distinct prime factors are:</p>\n",
    "\\begin{align}\n",
    "14 = 2 \\times 7\\\\\n",
    "15 = 3 \\times 5.\n",
    "\\end{align}\n",
    "<p>The first three consecutive numbers to have three distinct prime factors are:</p>\n",
    "\\begin{align}\n",
    "644 = 2^2 \\times 7 \\times 23\\\\\n",
    "645 = 3 \\times 5 \\times 43\\\\\n",
    "646 = 2 \\times 17 \\times 19.\n",
    "\\end{align}\n",
    "<p>Find the first four consecutive integers to have four distinct prime factors each. What is the first of these numbers?</p>\n"
   ]
  },
  {
   "cell_type": "code",
   "execution_count": 5,
   "id": "93c09f27-a386-4789-a74e-27d04f94b37e",
   "metadata": {},
   "outputs": [],
   "source": [
    "def prime_factors(n):\n",
    "    factors = []\n",
    "    denom = 2\n",
    "    while n!=1:\n",
    "        if n%denom==0:\n",
    "            n//=denom\n",
    "            factors.append(denom)\n",
    "        else:\n",
    "            denom+=1\n",
    "    return factors\n",
    "    "
   ]
  },
  {
   "cell_type": "code",
   "execution_count": 6,
   "id": "aebd405c-0a91-49c7-a501-da38c1b94e12",
   "metadata": {},
   "outputs": [
    {
     "data": {
      "text/plain": [
       "0"
      ]
     },
     "execution_count": 6,
     "metadata": {},
     "output_type": "execute_result"
    }
   ],
   "source": [
    "a = {1,2,3}\n",
    "b = {5,6,7}\n",
    "\n",
    "len(a.intersection(b))"
   ]
  },
  {
   "cell_type": "code",
   "execution_count": 7,
   "id": "5d672b85-6094-4590-9f5a-0215ed477f11",
   "metadata": {},
   "outputs": [],
   "source": [
    "def check_four_consecutive_ints(n):\n",
    "    factors = set(prime_factors(n))\n",
    "    for i in range(1, 5):\n",
    "        # print(n, i)\n",
    "        new_factors = set(prime_factors(n+i))\n",
    "        if len(new_factors.intersection(factors)) == 0:\n",
    "            # print(factors, new_factors)\n",
    "            factors = factors.union(new_factors)\n",
    "        else:\n",
    "            return False\n",
    "    return True, n, factors\n",
    "            \n",
    "    "
   ]
  },
  {
   "cell_type": "code",
   "execution_count": 11,
   "id": "af96c953-e1c7-40a8-beb0-fe60f3c61a44",
   "metadata": {},
   "outputs": [
    {
     "data": {
      "text/plain": [
       "False"
      ]
     },
     "execution_count": 11,
     "metadata": {},
     "output_type": "execute_result"
    }
   ],
   "source": [
    "check_four_consecutive_ints(i)"
   ]
  },
  {
   "cell_type": "code",
   "execution_count": 12,
   "id": "38c80c8e-52d1-4e9c-8e54-32708f682fc4",
   "metadata": {},
   "outputs": [
    {
     "data": {
      "text/plain": [
       "{2, 3, 41, 163}"
      ]
     },
     "execution_count": 12,
     "metadata": {},
     "output_type": "execute_result"
    }
   ],
   "source": [
    "set(prime_factors(i))"
   ]
  },
  {
   "cell_type": "code",
   "execution_count": 13,
   "id": "7b96c2ae-ada6-47b9-b2b8-3a43deb0d1a1",
   "metadata": {},
   "outputs": [
    {
     "data": {
      "text/plain": [
       "{40099}"
      ]
     },
     "execution_count": 13,
     "metadata": {},
     "output_type": "execute_result"
    }
   ],
   "source": [
    "set(prime_factors(i+1))"
   ]
  },
  {
   "cell_type": "code",
   "execution_count": 15,
   "id": "798553e8-dbdd-41ca-93a8-a5eb2106032a",
   "metadata": {},
   "outputs": [
    {
     "data": {
      "text/plain": [
       "{2, 5, 401}"
      ]
     },
     "execution_count": 15,
     "metadata": {},
     "output_type": "execute_result"
    }
   ],
   "source": [
    "set(prime_factors(i+2))"
   ]
  },
  {
   "cell_type": "code",
   "execution_count": 9,
   "id": "016965b7-21cb-43ca-b9ba-a517c273c8c4",
   "metadata": {
    "scrolled": true
   },
   "outputs": [
    {
     "ename": "KeyboardInterrupt",
     "evalue": "",
     "output_type": "error",
     "traceback": [
      "\u001b[0;31m---------------------------------------------------------------------------\u001b[0m",
      "\u001b[0;31mKeyboardInterrupt\u001b[0m                         Traceback (most recent call last)",
      "Cell \u001b[0;32mIn[9], line 4\u001b[0m\n\u001b[1;32m      2\u001b[0m i \u001b[38;5;241m=\u001b[39m \u001b[38;5;241m1\u001b[39m\n\u001b[1;32m      3\u001b[0m \u001b[38;5;28;01mwhile\u001b[39;00m \u001b[38;5;129;01mnot\u001b[39;00m found_start_point:\n\u001b[0;32m----> 4\u001b[0m     found_start_point \u001b[38;5;241m=\u001b[39m \u001b[43mcheck_four_consecutive_ints\u001b[49m\u001b[43m(\u001b[49m\u001b[43mi\u001b[49m\u001b[43m)\u001b[49m\n\u001b[1;32m      5\u001b[0m     \u001b[38;5;66;03m# print(found_start_point)\u001b[39;00m\n\u001b[1;32m      6\u001b[0m     i\u001b[38;5;241m+\u001b[39m\u001b[38;5;241m=\u001b[39m\u001b[38;5;241m1\u001b[39m\n",
      "Cell \u001b[0;32mIn[7], line 5\u001b[0m, in \u001b[0;36mcheck_four_consecutive_ints\u001b[0;34m(n)\u001b[0m\n\u001b[1;32m      2\u001b[0m factors \u001b[38;5;241m=\u001b[39m \u001b[38;5;28mset\u001b[39m(prime_factors(n))\n\u001b[1;32m      3\u001b[0m \u001b[38;5;28;01mfor\u001b[39;00m i \u001b[38;5;129;01min\u001b[39;00m \u001b[38;5;28mrange\u001b[39m(\u001b[38;5;241m1\u001b[39m, \u001b[38;5;241m5\u001b[39m):\n\u001b[1;32m      4\u001b[0m     \u001b[38;5;66;03m# print(n, i)\u001b[39;00m\n\u001b[0;32m----> 5\u001b[0m     new_factors \u001b[38;5;241m=\u001b[39m \u001b[38;5;28mset\u001b[39m(\u001b[43mprime_factors\u001b[49m\u001b[43m(\u001b[49m\u001b[43mn\u001b[49m\u001b[38;5;241;43m+\u001b[39;49m\u001b[43mi\u001b[49m\u001b[43m)\u001b[49m)\n\u001b[1;32m      6\u001b[0m     \u001b[38;5;28;01mif\u001b[39;00m \u001b[38;5;28mlen\u001b[39m(new_factors\u001b[38;5;241m.\u001b[39mintersection(factors)) \u001b[38;5;241m==\u001b[39m \u001b[38;5;241m0\u001b[39m:\n\u001b[1;32m      7\u001b[0m         \u001b[38;5;66;03m# print(factors, new_factors)\u001b[39;00m\n\u001b[1;32m      8\u001b[0m         factors \u001b[38;5;241m=\u001b[39m factors\u001b[38;5;241m.\u001b[39munion(new_factors)\n",
      "Cell \u001b[0;32mIn[5], line 5\u001b[0m, in \u001b[0;36mprime_factors\u001b[0;34m(n)\u001b[0m\n\u001b[1;32m      3\u001b[0m denom \u001b[38;5;241m=\u001b[39m \u001b[38;5;241m2\u001b[39m\n\u001b[1;32m      4\u001b[0m \u001b[38;5;28;01mwhile\u001b[39;00m n\u001b[38;5;241m!=\u001b[39m\u001b[38;5;241m1\u001b[39m:\n\u001b[0;32m----> 5\u001b[0m     \u001b[38;5;28;01mif\u001b[39;00m n\u001b[38;5;241m%\u001b[39mdenom\u001b[38;5;241m==\u001b[39m\u001b[38;5;241m0\u001b[39m:\n\u001b[1;32m      6\u001b[0m         n\u001b[38;5;241m/\u001b[39m\u001b[38;5;241m/\u001b[39m\u001b[38;5;241m=\u001b[39mdenom\n\u001b[1;32m      7\u001b[0m         factors\u001b[38;5;241m.\u001b[39mappend(denom)\n",
      "\u001b[0;31mKeyboardInterrupt\u001b[0m: "
     ]
    }
   ],
   "source": [
    "found_start_point = False\n",
    "i = 1\n",
    "while not found_start_point:\n",
    "    found_start_point = check_four_consecutive_ints(i)\n",
    "    # print(found_start_point)\n",
    "    i+=1\n",
    "    "
   ]
  },
  {
   "cell_type": "markdown",
   "id": "6c461f00-84e2-44ef-bb05-f5a0bc55c721",
   "metadata": {},
   "source": [
    "## Problem 48 - Self Powers\n",
    "\n",
    "<p>The series, $1^1 + 2^2 + 3^3 + \\cdots + 10^{10} = 10405071317$.</p>\n",
    "<p>Find the last ten digits of the series, $1^1 + 2^2 + 3^3 + \\cdots + 1000^{1000}$.</p>\n"
   ]
  },
  {
   "cell_type": "code",
   "execution_count": null,
   "id": "fe71170a-a10f-4d17-b5a3-788aa09156f0",
   "metadata": {},
   "outputs": [],
   "source": [
    "%%time\n",
    "\n",
    "s = 0\n",
    "for x in range(1, 1001, 1):\n",
    "    s+= x**x\n",
    "\n",
    "print(f\"The answer is : {str(s)[-10:]}\")"
   ]
  },
  {
   "cell_type": "markdown",
   "id": "49a4fc75-7807-4f17-b7ea-77fe36b85cb4",
   "metadata": {},
   "source": [
    "## Problem 49 - Prime Permutations\n",
    "\n",
    "<p>The arithmetic sequence, $1487, 4817, 8147$, in which each of the terms increases by $3330$, is unusual in two ways: (i) each of the three terms are prime, and, (ii) each of the $4$-digit numbers are permutations of one another.</p>\n",
    "<p>There are no arithmetic sequences made up of three $1$-, $2$-, or $3$-digit primes, exhibiting this property, but there is one other $4$-digit increasing sequence.</p>\n",
    "<p>What $12$-digit number do you form by concatenating the three terms in this sequence?</p>\n"
   ]
  },
  {
   "cell_type": "code",
   "execution_count": null,
   "id": "48928f6e-6fac-47cc-a36e-bdb9fec98122",
   "metadata": {},
   "outputs": [],
   "source": [
    "from sympy import isprime\n",
    "import numpy as np\n",
    "from scipy.spatial.distance import cdist\n",
    "\n",
    "#find four-digit-primes\n",
    "fdps = np.array([x for x in range(1000, 10000,1) if isprime(x)])"
   ]
  },
  {
   "cell_type": "code",
   "execution_count": null,
   "id": "e315e2c7-0996-4f50-9e5f-e7dc3e2a29d9",
   "metadata": {},
   "outputs": [],
   "source": [
    "def check_gap(fdp: int, gap: int):\n",
    "    \"\"\"Checks if for a four digit prime and a given gap, \n",
    "    the numbers found by adding or subtracting the gap are prime\n",
    "    and also comprised of the same set of digits\"\"\"\n",
    "    if set(str(fdp)) != set(str(fdp+gap)):\n",
    "        return False\n",
    "    \n",
    "    if set(str(fdp)) != set(str(fdp-gap)):\n",
    "        return False\n",
    "    if not isprime(fdp+gap) or not isprime(fdp-gap):\n",
    "        return False\n",
    "    return True\n",
    "        "
   ]
  },
  {
   "cell_type": "code",
   "execution_count": null,
   "id": "73418a5b-0950-405f-9331-76f57a6a84d9",
   "metadata": {},
   "outputs": [],
   "source": [
    "#for every four digit prime\n",
    "for fdp in fdps:\n",
    "    # find all symmetrical gaps by looking for doubles in the sets of differences\n",
    "    diffs, counts = np.unique(np.abs(fdps - fdp), return_counts=True)\n",
    "    idxs = np.argwhere(counts == 2).flatten()\n",
    "    gaps_to_check = diffs[idxs]\n",
    "    #four every gap, check if the plus or minus number are prime and the same set, of so, log the instance\n",
    "    for gap in gaps_to_check:\n",
    "        if check_gap(fdp, gap):\n",
    "            print(f\"{fdp-gap}, {fdp}, {fdp+gap} with a gap of {gap}\")"
   ]
  },
  {
   "cell_type": "markdown",
   "id": "69cb481b-fd25-45a4-b630-f6e44e82e62d",
   "metadata": {},
   "source": [
    "Interesting that the gap here is also 3330! I did not glean that from the excercise. Knowing that would have made the solution much easier I think. "
   ]
  },
  {
   "cell_type": "markdown",
   "id": "e79c057a-29cf-46cb-8077-8c8aab34fb0e",
   "metadata": {},
   "source": [
    "## Problem 50 - Consecutive Prime Sum\n",
    "\n",
    "<p>The prime $41$, can be written as the sum of six consecutive primes:</p>\n",
    "$$41 = 2 + 3 + 5 + 7 + 11 + 13.$$\n",
    "<p>This is the longest sum of consecutive primes that adds to a prime below one-hundred.</p>\n",
    "<p>The longest sum of consecutive primes below one-thousand that adds to a prime, contains $21$ terms, and is equal to $953$.</p>\n",
    "<p>Which prime, below one-million, can be written as the sum of the most consecutive primes?</p>"
   ]
  },
  {
   "cell_type": "markdown",
   "id": "72ad2857-4c9d-4305-a235-bb6a3bc036d9",
   "metadata": {},
   "source": [
    "-----\n",
    "Note: The last sentence suggests that the length of the sequence we are looking for only ever produces one prime, which simplifies our search a little bit. We now only have to look for sliding windows where the rolling sum only produces one prime result:"
   ]
  },
  {
   "cell_type": "code",
   "execution_count": null,
   "id": "bb02d139-0511-4bb9-86cc-4a10d36ae213",
   "metadata": {},
   "outputs": [],
   "source": [
    "%%time\n",
    "\n",
    "#I`ll start with gathering all primes up to a million, even though we likely only need a few dozen at most\n",
    "primes_to_million = [x for x in range(1, 1000000, 2) if isprime(x)]\n",
    "\n",
    "#keep track of the largest sequence that produces one prime result\n",
    "largest_seq = 0\n",
    "#keep track ot the start index of where summing the sequence produces a prime result\n",
    "start_index = 0\n",
    "\n",
    "#for every window starting from 21:\n",
    "for win in range(21, len(primes_to_million)):\n",
    "    #take the sum of the windowlength over the entire array\n",
    "    sums = np.sum(np.lib.stride_tricks.sliding_window_view(primes_to_million, win), axis = 1)\n",
    "    #if none of the sums are under one million we have left the search space and can terminate the loop\n",
    "    if np.min(sums) > 1e6:\n",
    "        print(f\"No sums under 1e6 left at window {win}, Stopping the search\")\n",
    "        break\n",
    "    #check which sums are primes under one million\n",
    "    ip = [isprime(x) and x<1e6 for x in sums]\n",
    "    #if there is exactly one, we update the largest sequence and the starting index until we are done searching\n",
    "    if sum(ip) == 1:\n",
    "        largest_seq = win\n",
    "        start_index = np.where(ip)[0][0]\n",
    "#eventually we find the solution\n",
    "print(f\"The largest consecutive sequence of primes that sum to a prime under one million is  {largest_seq} long.\\nIt starts at {primes_to_million[start_index]}. \\nThe sum is {np.sum(primes_to_million[start_index:start_index+largest_seq])}\")\n",
    "  "
   ]
  },
  {
   "cell_type": "code",
   "execution_count": null,
   "id": "cdf9e7fe-1d69-44df-ad84-2d557cc2e376",
   "metadata": {},
   "outputs": [],
   "source": []
  }
 ],
 "metadata": {
  "kernelspec": {
   "display_name": "Python 3 (ipykernel)",
   "language": "python",
   "name": "python3"
  },
  "language_info": {
   "codemirror_mode": {
    "name": "ipython",
    "version": 3
   },
   "file_extension": ".py",
   "mimetype": "text/x-python",
   "name": "python",
   "nbconvert_exporter": "python",
   "pygments_lexer": "ipython3",
   "version": "3.10.12"
  }
 },
 "nbformat": 4,
 "nbformat_minor": 5
}
