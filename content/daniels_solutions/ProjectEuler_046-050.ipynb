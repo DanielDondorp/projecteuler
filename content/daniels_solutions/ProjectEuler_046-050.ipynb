{
 "cells": [
  {
   "cell_type": "markdown",
   "id": "6c461f00-84e2-44ef-bb05-f5a0bc55c721",
   "metadata": {},
   "source": [
    "## Problem 48 - Self Powers\n",
    "\n",
    "<p>The series, $1^1 + 2^2 + 3^3 + \\cdots + 10^{10} = 10405071317$.</p>\n",
    "<p>Find the last ten digits of the series, $1^1 + 2^2 + 3^3 + \\cdots + 1000^{1000}$.</p>\n"
   ]
  },
  {
   "cell_type": "code",
   "execution_count": 2,
   "id": "fe71170a-a10f-4d17-b5a3-788aa09156f0",
   "metadata": {},
   "outputs": [
    {
     "name": "stdout",
     "output_type": "stream",
     "text": [
      "The answer is : 9110846700\n",
      "CPU times: user 6.27 ms, sys: 0 ns, total: 6.27 ms\n",
      "Wall time: 6.1 ms\n"
     ]
    }
   ],
   "source": [
    "%%time\n",
    "\n",
    "s = 0\n",
    "for x in range(1, 1001, 1):\n",
    "    s+= x**x\n",
    "\n",
    "print(f\"The answer is : {str(s)[-10:]}\")"
   ]
  },
  {
   "cell_type": "markdown",
   "id": "49a4fc75-7807-4f17-b7ea-77fe36b85cb4",
   "metadata": {},
   "source": [
    "## Problem 49 - Prime Permutations\n",
    "\n",
    "<p>The arithmetic sequence, $1487, 4817, 8147$, in which each of the terms increases by $3330$, is unusual in two ways: (i) each of the three terms are prime, and, (ii) each of the $4$-digit numbers are permutations of one another.</p>\n",
    "<p>There are no arithmetic sequences made up of three $1$-, $2$-, or $3$-digit primes, exhibiting this property, but there is one other $4$-digit increasing sequence.</p>\n",
    "<p>What $12$-digit number do you form by concatenating the three terms in this sequence?</p>\n"
   ]
  },
  {
   "cell_type": "code",
   "execution_count": 3,
   "id": "48928f6e-6fac-47cc-a36e-bdb9fec98122",
   "metadata": {},
   "outputs": [],
   "source": [
    "from sympy import isprime\n",
    "import numpy as np\n",
    "from scipy.spatial.distance import cdist\n",
    "\n",
    "#find four-digit-primes\n",
    "fdps = np.array([x for x in range(1000, 10000,1) if isprime(x)])"
   ]
  },
  {
   "cell_type": "code",
   "execution_count": 4,
   "id": "e315e2c7-0996-4f50-9e5f-e7dc3e2a29d9",
   "metadata": {},
   "outputs": [],
   "source": [
    "def check_gap(fdp: int, gap: int):\n",
    "    \"\"\"Checks if for a four digit prime and a given gap, \n",
    "    the numbers found by adding or subtracting the gap are prime\n",
    "    and also comprised of the same set of digits\"\"\"\n",
    "    if set(str(fdp)) != set(str(fdp+gap)):\n",
    "        return False\n",
    "    \n",
    "    if set(str(fdp)) != set(str(fdp-gap)):\n",
    "        return False\n",
    "    if not isprime(fdp+gap) or not isprime(fdp-gap):\n",
    "        return False\n",
    "    return True\n",
    "        "
   ]
  },
  {
   "cell_type": "code",
   "execution_count": 5,
   "id": "73418a5b-0950-405f-9331-76f57a6a84d9",
   "metadata": {},
   "outputs": [
    {
     "name": "stdout",
     "output_type": "stream",
     "text": [
      "1487, 4817, 8147 with a gap of 3330\n",
      "2969, 6299, 9629 with a gap of 3330\n"
     ]
    }
   ],
   "source": [
    "#for every four digit prime\n",
    "for fdp in fdps:\n",
    "    # find all symmetrical gaps by looking for doubles in the sets of differences\n",
    "    diffs, counts = np.unique(np.abs(fdps - fdp), return_counts=True)\n",
    "    idxs = np.argwhere(counts == 2).flatten()\n",
    "    gaps_to_check = diffs[idxs]\n",
    "    #four every gap, check if the plus or minus number are prime and the same set, of so, log the instance\n",
    "    for gap in gaps_to_check:\n",
    "        if check_gap(fdp, gap):\n",
    "            print(f\"{fdp-gap}, {fdp}, {fdp+gap} with a gap of {gap}\")"
   ]
  },
  {
   "cell_type": "markdown",
   "id": "69cb481b-fd25-45a4-b630-f6e44e82e62d",
   "metadata": {},
   "source": [
    "Interesting that the gap here is also 3330! I did not glean that from the excercise. Knowing that would have made the solution much easier I think. "
   ]
  },
  {
   "cell_type": "markdown",
   "id": "e79c057a-29cf-46cb-8077-8c8aab34fb0e",
   "metadata": {},
   "source": [
    "## Problem 50 - Consecutive Prime Sum\n",
    "\n",
    "<p>The prime $41$, can be written as the sum of six consecutive primes:</p>\n",
    "$$41 = 2 + 3 + 5 + 7 + 11 + 13.$$\n",
    "<p>This is the longest sum of consecutive primes that adds to a prime below one-hundred.</p>\n",
    "<p>The longest sum of consecutive primes below one-thousand that adds to a prime, contains $21$ terms, and is equal to $953$.</p>\n",
    "<p>Which prime, below one-million, can be written as the sum of the most consecutive primes?</p>"
   ]
  },
  {
   "cell_type": "markdown",
   "id": "72ad2857-4c9d-4305-a235-bb6a3bc036d9",
   "metadata": {},
   "source": [
    "-----\n",
    "Note: The last sentence suggests that the length of the sequence we are looking for only ever produces one prime, which simplifies our search a little bit. We now only have to look for sliding windows where the rolling sum only produces one prime result:"
   ]
  },
  {
   "cell_type": "code",
   "execution_count": 6,
   "id": "bb02d139-0511-4bb9-86cc-4a10d36ae213",
   "metadata": {},
   "outputs": [
    {
     "name": "stdout",
     "output_type": "stream",
     "text": [
      "No sums under 1e6 left at window 546, Stopping the search\n",
      "The largest consecutive sequence of primes that sum to a prime under one million is  543 long.\n",
      "It starts at 7. \n",
      "The sum is 997651\n",
      "CPU times: user 51.9 s, sys: 0 ns, total: 51.9 s\n",
      "Wall time: 51.9 s\n"
     ]
    }
   ],
   "source": [
    "%%time\n",
    "\n",
    "#I`ll start with gathering all primes up to a million, even though we likely only need a few dozen at most\n",
    "primes_to_million = [x for x in range(1, 1000000, 2) if isprime(x)]\n",
    "\n",
    "#keep track of the largest sequence that produces one prime result\n",
    "largest_seq = 0\n",
    "#keep track ot the start index of where summing the sequence produces a prime result\n",
    "start_index = 0\n",
    "\n",
    "#for every window starting from 21:\n",
    "for win in range(21, len(primes_to_million)):\n",
    "    #take the sum of the windowlength over the entire array\n",
    "    sums = np.sum(np.lib.stride_tricks.sliding_window_view(primes_to_million, win), axis = 1)\n",
    "    #if none of the sums are under one million we have left the search space and can terminate the loop\n",
    "    if np.min(sums) > 1e6:\n",
    "        print(f\"No sums under 1e6 left at window {win}, Stopping the search\")\n",
    "        break\n",
    "    #check which sums are primes under one million\n",
    "    ip = [isprime(x) and x<1e6 for x in sums]\n",
    "    #if there is exactly one, we update the largest sequence and the starting index until we are done searching\n",
    "    if sum(ip) == 1:\n",
    "        largest_seq = win\n",
    "        start_index = np.where(ip)[0][0]\n",
    "#eventually we find the solution\n",
    "print(f\"The largest consecutive sequence of primes that sum to a prime under one million is  {largest_seq} long.\\nIt starts at {primes_to_million[start_index]}. \\nThe sum is {np.sum(primes_to_million[start_index:start_index+largest_seq])}\")\n",
    "  "
   ]
  },
  {
   "cell_type": "code",
   "execution_count": null,
   "id": "cdf9e7fe-1d69-44df-ad84-2d557cc2e376",
   "metadata": {},
   "outputs": [],
   "source": []
  }
 ],
 "metadata": {
  "kernelspec": {
   "display_name": "Python 3 (ipykernel)",
   "language": "python",
   "name": "python3"
  },
  "language_info": {
   "codemirror_mode": {
    "name": "ipython",
    "version": 3
   },
   "file_extension": ".py",
   "mimetype": "text/x-python",
   "name": "python",
   "nbconvert_exporter": "python",
   "pygments_lexer": "ipython3",
   "version": "3.10.12"
  }
 },
 "nbformat": 4,
 "nbformat_minor": 5
}
