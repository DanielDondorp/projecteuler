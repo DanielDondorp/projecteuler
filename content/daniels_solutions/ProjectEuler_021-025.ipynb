{
 "cells": [
  {
   "cell_type": "code",
   "execution_count": 1,
   "id": "763d08f7-f636-41c3-aa62-9279c77a0771",
   "metadata": {},
   "outputs": [],
   "source": [
    "import numpy as np"
   ]
  },
  {
   "cell_type": "markdown",
   "id": "c16c3b31-21f0-453d-8159-a01bf7057868",
   "metadata": {},
   "source": [
    "## 21 Amicable Numbers\n",
    "\n",
    "<p>Let $d(n)$ be defined as the sum of proper divisors of $n$ (numbers less than $n$ which divide evenly into $n$).<br>\n",
    "If $d(a) = b$ and $d(b) = a$, where $a \\ne b$, then $a$ and $b$ are an amicable pair and each of $a$ and $b$ are called amicable numbers.</p>\n",
    "<p>For example, the proper divisors of $220$ are $1, 2, 4, 5, 10, 11, 20, 22, 44, 55$ and $110$; therefore $d(220) = 284$. The proper divisors of $284$ are $1, 2, 4, 71$ and $142$; so $d(284) = 220$.</p>\n",
    "<p>Evaluate the sum of all the amicable numbers under $10000$.</p>"
   ]
  },
  {
   "cell_type": "code",
   "execution_count": 2,
   "id": "78e336f2-ed10-43a2-b0b6-83c981d37d7e",
   "metadata": {},
   "outputs": [],
   "source": [
    "## we can reuse code from problem 12 here to find divisors\n",
    "def prime_factors(n: int):\n",
    "    number_of_divisors = 0\n",
    "    factors = []\n",
    "    for i in range(1, int(n**0.5)+1):\n",
    "        if n%i == 0:\n",
    "            number_of_divisors+=1\n",
    "            factors.append(i)\n",
    "            other = n // i #check reciprocal\n",
    "            if not other == i and not other ==n : #dont include i or n\n",
    "                number_of_divisors+=1\n",
    "                factors.append(other)\n",
    "    factors.sort()\n",
    "    return factors"
   ]
  },
  {
   "cell_type": "code",
   "execution_count": 3,
   "id": "ce24dc98-ffbd-49d8-a58c-e6ed34d36d4c",
   "metadata": {},
   "outputs": [],
   "source": [
    "amicable_numbers = []\n",
    "for a in range(1, 100001):\n",
    "    if a not in amicable_numbers:\n",
    "        b = sum(prime_factors(a))\n",
    "        if sum(prime_factors(b)) == a and a!=b and a < 10000 and b < 10000:\n",
    "            amicable_numbers+=[a, b]"
   ]
  },
  {
   "cell_type": "code",
   "execution_count": 4,
   "id": "c57af19b-2bf2-4c5e-97bc-6c86dea84466",
   "metadata": {},
   "outputs": [
    {
     "data": {
      "text/plain": [
       "[220, 284, 1184, 1210, 2620, 2924, 5020, 5564, 6232, 6368]"
      ]
     },
     "execution_count": 4,
     "metadata": {},
     "output_type": "execute_result"
    }
   ],
   "source": [
    "amicable_numbers"
   ]
  },
  {
   "cell_type": "code",
   "execution_count": 5,
   "id": "01c9c097-67e9-4b7f-b01e-1a73ae22115b",
   "metadata": {},
   "outputs": [
    {
     "data": {
      "text/plain": [
       "31626"
      ]
     },
     "execution_count": 5,
     "metadata": {},
     "output_type": "execute_result"
    }
   ],
   "source": [
    "sum(amicable_numbers)"
   ]
  },
  {
   "cell_type": "markdown",
   "id": "1770ad89-406f-4e93-826f-31395a82a20a",
   "metadata": {},
   "source": [
    "## 22 Name Scores\n",
    "\n",
    "<p>Using <a href=\"resources/documents/0022_names.txt\">names.txt</a> (right click and 'Save Link/Target As...'), a 46K text file containing over five-thousand first names, begin by sorting it into alphabetical order. Then working out the alphabetical value for each name, multiply this value by its alphabetical position in the list to obtain a name score.</p>\n",
    "<p>For example, when the list is sorted into alphabetical order, COLIN, which is worth $3 + 15 + 12 + 9 + 14 = 53$, is the $938$th name in the list. So, COLIN would obtain a score of $938 \\times 53 = 49714$.</p>\n",
    "<p>What is the total of all the name scores in the file?</p>\n"
   ]
  },
  {
   "cell_type": "code",
   "execution_count": 6,
   "id": "2e47d073-fc72-40d2-b13f-20770069f0f5",
   "metadata": {},
   "outputs": [],
   "source": [
    "import urllib.request\n",
    "namestxt_url = \"https://projecteuler.net/resources/documents/0022_names.txt\"\n",
    "name_file = urllib.request.urlopen(namestxt_url)\n",
    "#decode all lines\n",
    "name_file = [line.decode(\"utf-8\") for line in name_file]\n",
    "#parse line of names to list\n",
    "names = [x.replace('\"', '') for line in name_file for x in line[1:-1].split(\",\")]"
   ]
  },
  {
   "cell_type": "code",
   "execution_count": 7,
   "id": "d4c7ab22-eccc-4e62-a045-590b83396688",
   "metadata": {},
   "outputs": [
    {
     "name": "stdout",
     "output_type": "stream",
     "text": [
      "We have parsed 5163 names\n"
     ]
    }
   ],
   "source": [
    "print(f\"We have parsed {len(names)} names\")"
   ]
  },
  {
   "cell_type": "code",
   "execution_count": 8,
   "id": "605b8c24-b74f-4173-a0de-70ccb9a117f9",
   "metadata": {},
   "outputs": [
    {
     "name": "stdout",
     "output_type": "stream",
     "text": [
      "['AARON', 'ABBEY', 'ABBIE', 'ABBY', 'ABDUL']\n"
     ]
    }
   ],
   "source": [
    "#sort the list\n",
    "names.sort()\n",
    "print(names[:5])"
   ]
  },
  {
   "cell_type": "code",
   "execution_count": 9,
   "id": "0190cccf-632b-4fd1-8525-d50f7f2e6f1a",
   "metadata": {},
   "outputs": [],
   "source": [
    "letter_scores = {letter: i+1 for i, letter in enumerate(\"ABCDEFGHIJKLMNOPQRSTUVWXYZ\")}"
   ]
  },
  {
   "cell_type": "code",
   "execution_count": 10,
   "id": "1a53756b-e3cf-4ecd-97f2-9eda45740af6",
   "metadata": {},
   "outputs": [],
   "source": [
    "def get_name_score(name: str, position: int) -> int:\n",
    "    return np.sum([letter_scores[letter] for letter in name]) * position"
   ]
  },
  {
   "cell_type": "code",
   "execution_count": 11,
   "id": "3529565b-f01a-476f-93a3-ccc9e3ac71ca",
   "metadata": {},
   "outputs": [],
   "source": [
    "total_scores = np.sum([get_name_score(name, i+1) for i, name in enumerate(names)])"
   ]
  },
  {
   "cell_type": "code",
   "execution_count": 12,
   "id": "64ec9ebd-2720-4c5e-8f37-df1d775a471f",
   "metadata": {},
   "outputs": [
    {
     "data": {
      "text/plain": [
       "871198282"
      ]
     },
     "execution_count": 12,
     "metadata": {},
     "output_type": "execute_result"
    }
   ],
   "source": [
    "total_scores"
   ]
  },
  {
   "cell_type": "markdown",
   "id": "e924c444-c793-4065-a090-9ed0103b7951",
   "metadata": {},
   "source": [
    "## 23 Non-Abundant sums\n",
    "\n",
    "<p>A perfect number is a number for which the sum of its proper divisors is exactly equal to the number. For example, the sum of the proper divisors of $28$ would be $1 + 2 + 4 + 7 + 14 = 28$, which means that $28$ is a perfect number.</p>\n",
    "<p>A number $n$ is called deficient if the sum of its proper divisors is less than $n$ and it is called abundant if this sum exceeds $n$.</p>\n",
    "\n",
    "<p>As $12$ is the smallest abundant number, $1 + 2 + 3 + 4 + 6 = 16$, the smallest number that can be written as the sum of two abundant numbers is $24$. By mathematical analysis, it can be shown that all integers greater than $28123$ can be written as the sum of two abundant numbers. However, this upper limit cannot be reduced any further by analysis even though it is known that the greatest number that cannot be expressed as the sum of two abundant numbers is less than this limit.</p>\n",
    "<p>Find the sum of all the positive integers which cannot be written as the sum of two abundant numbers.</p>\n"
   ]
  },
  {
   "cell_type": "code",
   "execution_count": 54,
   "id": "e90476e1-f352-4159-b5bb-772a6eed3887",
   "metadata": {},
   "outputs": [],
   "source": [
    "def is_abundant(number: int):\n",
    "    factors = prime_factors(number)\n",
    "    if sum(factors) > number:\n",
    "        return True\n",
    "    return False"
   ]
  },
  {
   "cell_type": "code",
   "execution_count": 56,
   "id": "933ef172-a4f3-45dc-815e-2dbd21d6c654",
   "metadata": {},
   "outputs": [],
   "source": [
    "abundant_numbers=[x for x in range(1, 28123) if is_abundant(x)]"
   ]
  },
  {
   "cell_type": "code",
   "execution_count": 62,
   "id": "d1194aca-f7d2-4364-a97c-e4a8e6c38ca8",
   "metadata": {},
   "outputs": [],
   "source": [
    "all_sums = {x + y for y in abundant_numbers for x in abundant_numbers}"
   ]
  },
  {
   "cell_type": "code",
   "execution_count": 63,
   "id": "af7e335f-1a72-4d02-bd85-a1bf5a31cebb",
   "metadata": {},
   "outputs": [
    {
     "data": {
      "text/plain": [
       "set"
      ]
     },
     "execution_count": 63,
     "metadata": {},
     "output_type": "execute_result"
    }
   ],
   "source": [
    "type(all_sums)"
   ]
  },
  {
   "cell_type": "code",
   "execution_count": 64,
   "id": "c1e63b39-0f91-4318-a469-ea24be37ca6c",
   "metadata": {},
   "outputs": [],
   "source": [
    "not_sums = [x for x in range(1, 28123) if x not in all_sums]\n"
   ]
  },
  {
   "cell_type": "code",
   "execution_count": 65,
   "id": "9c35bf12-281f-4155-bb9a-db95cf36fa6a",
   "metadata": {},
   "outputs": [
    {
     "data": {
      "text/plain": [
       "4179871"
      ]
     },
     "execution_count": 65,
     "metadata": {},
     "output_type": "execute_result"
    }
   ],
   "source": [
    "sum(not_sums)"
   ]
  },
  {
   "cell_type": "markdown",
   "id": "b931e869-f17b-4869-a7b9-caa6ed8305e9",
   "metadata": {},
   "source": [
    "## 24 Lexicographic permutations\n",
    "\n",
    "<p>A permutation is an ordered arrangement of objects. For example, 3124 is one possible permutation of the digits 1, 2, 3 and 4. If all of the permutations are listed numerically or alphabetically, we call it lexicographic order. The lexicographic permutations of 0, 1 and 2 are:</p>\n",
    "<p class=\"center\">012   021   102   120   201   210</p>\n",
    "<p>What is the millionth lexicographic permutation of the digits 0, 1, 2, 3, 4, 5, 6, 7, 8 and 9?</p>\n"
   ]
  },
  {
   "cell_type": "code",
   "execution_count": 42,
   "id": "bf85a0f2-3629-4fe1-a4e5-f038acf57d02",
   "metadata": {},
   "outputs": [],
   "source": [
    "def permutate(input: list):\n",
    "    if not input:\n",
    "        return input\n",
    "    elif len(input) == 1:\n",
    "        return [input]\n",
    "\n",
    "    all_permutations = []\n",
    "    if len(all_permutations) >= 1e6-1:\n",
    "        return all_permutations\n",
    "    for digit in input:\n",
    "        other_digits = [x for x in input if x != digit]\n",
    "        for permutations in permutate(other_digits):\n",
    "            all_permutations.append([digit] + permutations)\n",
    "    return all_permutations"
   ]
  },
  {
   "cell_type": "code",
   "execution_count": 43,
   "id": "d49a2ff2-a505-40d6-b993-1a3a4fe2b75d",
   "metadata": {},
   "outputs": [],
   "source": [
    "permutations = permutate([0,1,2,3,4,5,6,7,8,9])"
   ]
  },
  {
   "cell_type": "code",
   "execution_count": 46,
   "id": "e6d94f17-182d-4c79-9d7a-95939222d200",
   "metadata": {},
   "outputs": [],
   "source": [
    "perm = permutations[1000000 - 1] #offset by one"
   ]
  },
  {
   "cell_type": "code",
   "execution_count": 49,
   "id": "7a1c10ea-04b7-4676-905e-bcc7c2dd945b",
   "metadata": {},
   "outputs": [],
   "source": [
    "perm = int(\"\".join([str(x) for x in perm]))"
   ]
  },
  {
   "cell_type": "code",
   "execution_count": 50,
   "id": "f8941ad4-7b30-4aa2-af0e-42f92f3a7ad1",
   "metadata": {},
   "outputs": [
    {
     "data": {
      "text/plain": [
       "2783915460"
      ]
     },
     "execution_count": 50,
     "metadata": {},
     "output_type": "execute_result"
    }
   ],
   "source": [
    "perm"
   ]
  },
  {
   "cell_type": "markdown",
   "id": "9af03581-5328-4fd4-94a7-8ef98d9c6ae2",
   "metadata": {},
   "source": [
    "## 25 1000-digit fibonacci number\n",
    "\n",
    "<p>The Fibonacci sequence is defined by the recurrence relation:</p>\n",
    "<blockquote>$F_n = F_{n - 1} + F_{n - 2}$, where $F_1 = 1$ and $F_2 = 1$.</blockquote>\n",
    "<p>Hence the first $12$ terms will be:</p>\n",
    "\\begin{align}\n",
    "F_1 &amp;= 1\\\\\n",
    "F_2 &amp;= 1\\\\\n",
    "F_3 &amp;= 2\\\\\n",
    "F_4 &amp;= 3\\\\\n",
    "F_5 &amp;= 5\\\\\n",
    "F_6 &amp;= 8\\\\\n",
    "F_7 &amp;= 13\\\\\n",
    "F_8 &amp;= 21\\\\\n",
    "F_9 &amp;= 34\\\\\n",
    "F_{10} &amp;= 55\\\\\n",
    "F_{11} &amp;= 89\\\\\n",
    "F_{12} &amp;= 144\n",
    "\\end{align}\n",
    "<p>The $12$th term, $F_{12}$, is the first term to contain three digits.</p>\n",
    "<p>What is the index of the first term in the Fibonacci sequence to contain $1000$ digits?</p>\n"
   ]
  },
  {
   "cell_type": "code",
   "execution_count": 101,
   "id": "69c60b26-effd-4ddd-bcfd-3053af9c97fe",
   "metadata": {},
   "outputs": [
    {
     "name": "stdout",
     "output_type": "stream",
     "text": [
      "The index of the first 1000 digit fibonacci number is 4782\n"
     ]
    }
   ],
   "source": [
    "prev = 1\n",
    "curr = 1\n",
    "i = 2\n",
    "while len(str(curr)) <= 999: #fails as soon as we reach the first 1000 digit number\n",
    "    i += 1\n",
    "    new_fib = prev+curr\n",
    "    prev = curr\n",
    "    curr = new_fib\n",
    "print(f\"The index of the first 1000 digit fibonacci number is {i}\")   "
   ]
  }
 ],
 "metadata": {
  "kernelspec": {
   "display_name": "Python 3 (ipykernel)",
   "language": "python",
   "name": "python3"
  },
  "language_info": {
   "codemirror_mode": {
    "name": "ipython",
    "version": 3
   },
   "file_extension": ".py",
   "mimetype": "text/x-python",
   "name": "python",
   "nbconvert_exporter": "python",
   "pygments_lexer": "ipython3",
   "version": "3.10.12"
  }
 },
 "nbformat": 4,
 "nbformat_minor": 5
}
