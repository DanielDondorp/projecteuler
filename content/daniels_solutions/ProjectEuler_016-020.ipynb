{
 "cells": [
  {
   "cell_type": "markdown",
   "id": "baeba954",
   "metadata": {},
   "source": [
    "## Daniels solutions"
   ]
  },
  {
   "cell_type": "code",
   "execution_count": 3,
   "id": "71164e99",
   "metadata": {},
   "outputs": [],
   "source": [
    "import numpy as np"
   ]
  },
  {
   "cell_type": "markdown",
   "id": "31ff059e",
   "metadata": {},
   "source": [
    "## Problem 16\n",
    "\n",
    "<p>$2^{15} = 32768$ and the sum of its digits is $3 + 2 + 7 + 6 + 8 = 26$.</p>\n",
    "<p>What is the sum of the digits of the number $2^{1000}$?</p>\n"
   ]
  },
  {
   "cell_type": "code",
   "execution_count": 4,
   "id": "3161e510",
   "metadata": {},
   "outputs": [],
   "source": [
    "def sum_of_digits(n):\n",
    "    return np.sum([int(x) for x in str(n)])"
   ]
  },
  {
   "cell_type": "code",
   "execution_count": 5,
   "id": "2596d8f3",
   "metadata": {},
   "outputs": [
    {
     "data": {
      "text/plain": [
       "1366"
      ]
     },
     "execution_count": 5,
     "metadata": {},
     "output_type": "execute_result"
    }
   ],
   "source": [
    "sum_of_digits(2**1000)"
   ]
  },
  {
   "cell_type": "markdown",
   "id": "6b36f96a",
   "metadata": {},
   "source": [
    "## Problem 17\n",
    "\n",
    "<p>If the numbers $1$ to $5$ are written out in words: one, two, three, four, five, then there are $3 + 3 + 5 + 4 + 4 = 19$ letters used in total.</p>\n",
    "<p>If all the numbers from $1$ to $1000$ (one thousand) inclusive were written out in words, how many letters would be used? </p>\n",
    "<br><p class=\"note\"><b>NOTE:</b> Do not count spaces or hyphens. For example, $342$ (three hundred and forty-two) contains $23$ letters and $115$ (one hundred and fifteen) contains $20$ letters. The use of \"and\" when writing out numbers is in compliance with British usage.</p>"
   ]
  },
  {
   "cell_type": "code",
   "execution_count": 138,
   "id": "9fd2d78c",
   "metadata": {},
   "outputs": [],
   "source": [
    "#sounds like I need to make a lookup table for each digit:\n",
    "#[1, 0, 4] --> [one hundred and, -, four]\n",
    "#[9,1, 1] --> [nine hundred and, ten, one] --> if [ten, one]: eleven etc for the tens\n",
    "\n",
    "digit_mapping = {0: '',\n",
    "                 1: 'one',\n",
    "                 2: 'two',\n",
    "                 3: 'three',\n",
    "                 4: 'four',\n",
    "                 5: 'five',\n",
    "                 6: 'six',\n",
    "                 7: 'seven',\n",
    "                 8: 'eight',\n",
    "                 9: 'nine',\n",
    "                 10: 'ten',\n",
    "                 11: 'eleven',\n",
    "                 12: 'twelve',\n",
    "                 13: 'thirteen',\n",
    "                 14: 'fourteen',\n",
    "                 15: 'fifteen',\n",
    "                 16: 'sixteen',\n",
    "                 17: 'seventeen',\n",
    "                 18: 'eighteen',\n",
    "                 19: 'nineteen',\n",
    "                 20: 'twenty',\n",
    "                 30: 'thirty',\n",
    "                 40: 'forty',\n",
    "                 50: 'fifty',\n",
    "                 60: 'sixty',\n",
    "                 70: 'seventy',\n",
    "                 80: 'eighty',\n",
    "                 90: 'ninety',\n",
    "                 100: 'onehundred',\n",
    "                 200: 'twohundred',\n",
    "                 300: 'threehundred',\n",
    "                 400: 'fourhundred',\n",
    "                 500: 'fivehundred',\n",
    "                 600: 'sixhundred',\n",
    "                 700: 'sevenhundred',\n",
    "                 800: 'eighthundred',\n",
    "                 900: 'ninehundred',\n",
    "                1000: 'onethousand'} \n",
    "\n",
    "def number_to_word(n):\n",
    "    n = str(n)\n",
    "    string = \"\"\n",
    "    digits = [_ for _ in n.zfill(4)]\n",
    "    for i, x in enumerate(digits):\n",
    "        x = int(x)\n",
    "        if x != 0:\n",
    "            x = x*(10 ** (3-i))\n",
    "            if i == 2 and x == 10:\n",
    "                x+= int(digits[-1])\n",
    "                if string.endswith(\"hundred\"):\n",
    "                    string+=\"and\"\n",
    "                string+=digit_mapping[x]\n",
    "                return string\n",
    "            else:\n",
    "                if (i == 2 and len(string)!=0) or (i == 3 and string.endswith(\"hundred\")):\n",
    "                    string+=\"and\"                    \n",
    "                string+=digit_mapping[x]\n",
    "    return string       "
   ]
  },
  {
   "cell_type": "code",
   "execution_count": 142,
   "id": "5c0621e3",
   "metadata": {},
   "outputs": [
    {
     "name": "stdout",
     "output_type": "stream",
     "text": [
      "21124\n"
     ]
    }
   ],
   "source": [
    "n_digits = 0\n",
    "for i in range(1,1001):\n",
    "    word = number_to_word(i)\n",
    "    n_digits+=len(word)\n",
    "print(n_digits)"
   ]
  },
  {
   "cell_type": "markdown",
   "id": "aefb9fcc",
   "metadata": {},
   "source": [
    "## Problem 18\n",
    "\n",
    "<p>By starting at the top of the triangle below and moving to adjacent numbers on the row below, the maximum total from top to bottom is 23.</p>\n",
    "<p class=\"monospace center\"><span class=\"red\"><b>3</b></span><br><span class=\"red\"><b>7</b></span> 4<br>\n",
    "2 <span class=\"red\"><b>4</b></span> 6<br>\n",
    "8 5 <span class=\"red\"><b>9</b></span> 3</p>\n",
    "<p>That is, 3 + 7 + 4 + 9 = 23.</p>\n",
    "<p>Find the maximum total from top to bottom of the triangle below:</p>\n",
    "<p class=\"monospace center\">75<br>\n",
    "95 64<br>\n",
    "17 47 82<br>\n",
    "18 35 87 10<br>\n",
    "20 04 82 47 65<br>\n",
    "19 01 23 75 03 34<br>\n",
    "88 02 77 73 07 63 67<br>\n",
    "99 65 04 28 06 16 70 92<br>\n",
    "41 41 26 56 83 40 80 70 33<br>\n",
    "41 48 72 33 47 32 37 16 94 29<br>\n",
    "53 71 44 65 25 43 91 52 97 51 14<br>\n",
    "70 11 33 28 77 73 17 78 39 68 17 57<br>\n",
    "91 71 52 38 17 14 91 43 58 50 27 29 48<br>\n",
    "63 66 04 68 89 53 67 30 73 16 69 87 40 31<br>\n",
    "04 62 98 27 23 09 70 98 73 93 38 53 60 04 23</p>\n",
    "<p class=\"note\"><b>NOTE:</b> As there are only 16384 routes, it is possible to solve this problem by trying every route. However, <a href=\"problem=67\">Problem 67</a>, is the same challenge with a triangle containing one-hundred rows; it cannot be solved by brute force, and requires a clever method! ;o)</p>"
   ]
  },
  {
   "cell_type": "code",
   "execution_count": 207,
   "id": "446caa6a",
   "metadata": {},
   "outputs": [],
   "source": [
    "arrays = [\n",
    "    [75],\n",
    "    [95, 64],\n",
    "    [17, 47, 82],\n",
    "    [18, 35, 87, 10],\n",
    "    [20, 4, 82, 47, 65],\n",
    "    [19, 1, 23, 75, 3, 34],\n",
    "    [88, 2, 77, 73, 7, 63, 67],\n",
    "    [99, 65, 4, 28, 6, 16, 70, 92],\n",
    "    [41, 41, 26, 56, 83, 40, 80, 70, 33],\n",
    "    [41, 48, 72, 33, 47, 32, 37, 16, 94, 29],\n",
    "    [53, 71, 44, 65, 25, 43, 91, 52, 97, 51, 14],\n",
    "    [70, 11, 33, 28, 77, 73, 17, 78, 39, 68, 17, 57],\n",
    "    [91, 71, 52, 38, 17, 14, 91, 43, 58, 50, 27, 29, 48],\n",
    "    [63, 66, 4, 68, 89, 53, 67, 30, 73, 16, 69, 87, 40, 31],\n",
    "    [4, 62, 98, 27, 23, 9, 70, 98, 73, 93, 38, 53, 60, 4, 23]\n",
    "]\n"
   ]
  },
  {
   "cell_type": "code",
   "execution_count": 208,
   "id": "24bdac46",
   "metadata": {},
   "outputs": [
    {
     "name": "stdout",
     "output_type": "stream",
     "text": [
      "next candidates: [95, 64]\n",
      "added 95 to sum, which is now 170\n",
      "next candidates: [17, 47]\n",
      "added 47 to sum, which is now 217\n",
      "next candidates: [35, 87]\n",
      "added 87 to sum, which is now 304\n",
      "next candidates: [82, 47]\n",
      "added 82 to sum, which is now 386\n",
      "next candidates: [23, 75]\n",
      "added 75 to sum, which is now 461\n",
      "next candidates: [73, 7]\n",
      "added 73 to sum, which is now 534\n",
      "next candidates: [28, 6]\n",
      "added 28 to sum, which is now 562\n",
      "next candidates: [56, 83]\n",
      "added 83 to sum, which is now 645\n",
      "next candidates: [47, 32]\n",
      "added 47 to sum, which is now 692\n",
      "next candidates: [25, 43]\n",
      "added 43 to sum, which is now 735\n",
      "next candidates: [73, 17]\n",
      "added 73 to sum, which is now 808\n",
      "next candidates: [14, 91]\n",
      "added 91 to sum, which is now 899\n",
      "next candidates: [67, 30]\n",
      "added 67 to sum, which is now 966\n",
      "next candidates: [70, 98]\n",
      "added 98 to sum, which is now 1064\n"
     ]
    }
   ],
   "source": [
    "total_sum = 75\n",
    "index = 0\n",
    "for i in range(len(arrays)-1):\n",
    "    candidates = arrays[i+1][index: index+2]\n",
    "    print(f\"next candidates: {candidates}\")\n",
    "    if candidates[1]> candidates[0]:\n",
    "        index+=1\n",
    "    total_sum+=np.max(candidates)\n",
    "    print(f\"added {np.max(candidates)} to sum, which is now {total_sum}\")"
   ]
  },
  {
   "cell_type": "code",
   "execution_count": 209,
   "id": "9d9dff73",
   "metadata": {},
   "outputs": [
    {
     "data": {
      "text/plain": [
       "1064"
      ]
     },
     "execution_count": 209,
     "metadata": {},
     "output_type": "execute_result"
    }
   ],
   "source": [
    "total_sum #this is not the solution so just finding the largest next number isnt good enough. Could have guessed."
   ]
  },
  {
   "cell_type": "code",
   "execution_count": 215,
   "id": "9075748a",
   "metadata": {},
   "outputs": [],
   "source": [
    "#lets try starting at the bottom then :/\n",
    "bottom_up = arrays[::-1]"
   ]
  },
  {
   "cell_type": "code",
   "execution_count": 218,
   "id": "e16ba753",
   "metadata": {},
   "outputs": [
    {
     "data": {
      "text/plain": [
       "[[4, 62, 98, 27, 23, 9, 70, 98, 73, 93, 38, 53, 60, 4, 23],\n",
       " [63, 66, 4, 68, 89, 53, 67, 30, 73, 16, 69, 87, 40, 31],\n",
       " [91, 71, 52, 38, 17, 14, 91, 43, 58, 50, 27, 29, 48],\n",
       " [70, 11, 33, 28, 77, 73, 17, 78, 39, 68, 17, 57],\n",
       " [53, 71, 44, 65, 25, 43, 91, 52, 97, 51, 14],\n",
       " [41, 48, 72, 33, 47, 32, 37, 16, 94, 29],\n",
       " [41, 41, 26, 56, 83, 40, 80, 70, 33],\n",
       " [99, 65, 4, 28, 6, 16, 70, 92],\n",
       " [88, 2, 77, 73, 7, 63, 67],\n",
       " [19, 1, 23, 75, 3, 34],\n",
       " [20, 4, 82, 47, 65],\n",
       " [18, 35, 87, 10],\n",
       " [17, 47, 82],\n",
       " [95, 64],\n",
       " [75]]"
      ]
     },
     "execution_count": 218,
     "metadata": {},
     "output_type": "execute_result"
    }
   ],
   "source": [
    "bottom_up"
   ]
  },
  {
   "cell_type": "code",
   "execution_count": 223,
   "id": "48d50929",
   "metadata": {},
   "outputs": [
    {
     "name": "stdout",
     "output_type": "stream",
     "text": [
      "[125, 164, 102, 95, 112, 123, 165, 128, 166, 109, 122, 147, 100, 54]\n",
      "[255, 235, 154, 150, 140, 179, 256, 209, 224, 172, 174, 176, 148]\n",
      "[325, 246, 187, 178, 256, 329, 273, 302, 263, 242, 193, 233]\n",
      "[378, 317, 231, 321, 354, 372, 393, 354, 360, 293, 247]\n",
      "[419, 365, 393, 387, 419, 425, 430, 376, 454, 322]\n",
      "[460, 434, 419, 475, 508, 470, 510, 524, 487]\n",
      "[559, 499, 479, 536, 514, 526, 594, 616]\n",
      "[647, 501, 613, 609, 533, 657, 683]\n",
      "[666, 614, 636, 684, 660, 717]\n",
      "[686, 640, 766, 731, 782]\n",
      "[704, 801, 853, 792]\n",
      "[818, 900, 935]\n",
      "[995, 999]\n",
      "[1074]\n"
     ]
    }
   ],
   "source": [
    "for i in range(len(bottom_up)-1):\n",
    "    new_array = [bottom_up[i+1][j] + np.max(bottom_up[i][j:j+2]) for j in range(len(bottom_up[i+1]))]\n",
    "    bottom_up[i+1] = new_array\n",
    "    print(new_array)"
   ]
  },
  {
   "cell_type": "code",
   "execution_count": 249,
   "id": "a7a309c3",
   "metadata": {},
   "outputs": [],
   "source": [
    "#test problem 67 in one go\n",
    "import urllib\n",
    "with urllib.request.urlopen(\"https://projecteuler.net/resources/documents/0067_triangle.txt\") as f:\n",
    "    triangle = f.readlines()\n",
    "\n",
    "triangle = [x.decode().strip(\"\\n\") for x in triangle]\n",
    "triangle = [[int(x) for x in t.split(\" \")] for t in triangle]"
   ]
  },
  {
   "cell_type": "code",
   "execution_count": 247,
   "id": "9ae349da",
   "metadata": {},
   "outputs": [],
   "source": [
    "def largest_sum(arrays):\n",
    "    bottom_up = arrays[::-1]\n",
    "    for i in range(len(bottom_up)-1):\n",
    "        new_array = [bottom_up[i+1][j] + np.max(bottom_up[i][j:j+2]) for j in range(len(bottom_up[i+1]))]\n",
    "        bottom_up[i+1] = new_array\n",
    "#         print(new_array)\n",
    "    return bottom_up[-1][0]"
   ]
  },
  {
   "cell_type": "code",
   "execution_count": 248,
   "id": "d7e66675",
   "metadata": {},
   "outputs": [
    {
     "data": {
      "text/plain": [
       "1074"
      ]
     },
     "execution_count": 248,
     "metadata": {},
     "output_type": "execute_result"
    }
   ],
   "source": [
    "largest_sum(arrays)"
   ]
  },
  {
   "cell_type": "code",
   "execution_count": 250,
   "id": "21ed4a1e",
   "metadata": {},
   "outputs": [
    {
     "data": {
      "text/plain": [
       "7273"
      ]
     },
     "execution_count": 250,
     "metadata": {},
     "output_type": "execute_result"
    }
   ],
   "source": [
    "largest_sum(triangle)"
   ]
  },
  {
   "cell_type": "markdown",
   "id": "127678df",
   "metadata": {},
   "source": [
    "## Problem 19\n",
    "\n",
    "<p>You are given the following information, but you may prefer to do some research for yourself.</p>\n",
    "<ul><li>1 Jan 1900 was a Monday.</li>\n",
    "<li>Thirty days has September,<br />\n",
    "April, June and November.<br />\n",
    "All the rest have thirty-one,<br />\n",
    "Saving February alone,<br />\n",
    "Which has twenty-eight, rain or shine.<br />\n",
    "And on leap years, twenty-nine.</li>\n",
    "<li>A leap year occurs on any year evenly divisible by 4, but not on a century unless it is divisible by 400.</li>\n",
    "</ul><p>How many Sundays fell on the first of the month during the twentieth century (1 Jan 1901 to 31 Dec 2000)?</p>\n"
   ]
  },
  {
   "cell_type": "code",
   "execution_count": 17,
   "id": "cd37d9ae",
   "metadata": {},
   "outputs": [],
   "source": [
    "import datetime\n",
    "import numpy as np\n",
    "\n",
    "months = [\"january\", \n",
    "          \"february\", \n",
    "          \"march\", \n",
    "          \"april\", \n",
    "          \"may\", \n",
    "          \"june\", \n",
    "          \"juli\",\n",
    "          \"august\",\n",
    "          \"september\", \n",
    "          \"october\", \n",
    "          \"november\", \n",
    "          \"december\"]\n",
    "thirty_days = [\"september\", \"april\", \"june\", \"november\"]\n",
    "\n",
    "def calculate_leapyear(year: int):\n",
    "    #check possible leap year\n",
    "    if year % 4 == 0:\n",
    "        #check century\n",
    "        if year % 100 == 0 and year % 400 != 0:\n",
    "            return False\n",
    "        else:\n",
    "            return True\n",
    "    return False\n",
    "\n",
    "def get_month_length(year: int, month: str) -> int:\n",
    "    if month == \"february\":\n",
    "        if calculate_leapyear(year):\n",
    "            return 29\n",
    "        else:\n",
    "            return 28\n",
    "    if month in thirty_days:\n",
    "        return 30\n",
    "    else:\n",
    "        return 31\n",
    "    \n",
    "def create_calendar_array(start_year, end_year):\n",
    "    calendar_array = []\n",
    "    for year in range(start_year, end_year+1, 1):\n",
    "        for month in months:\n",
    "            month_length = get_month_length(year = year, month = month)\n",
    "            calendar_array.append(np.arange(1, month_length+1,1 ))\n",
    "    return np.hstack(calendar_array)\n"
   ]
  },
  {
   "cell_type": "code",
   "execution_count": 36,
   "id": "7554c162",
   "metadata": {},
   "outputs": [],
   "source": [
    "calendar_array = create_calendar_array(1901, 2000)"
   ]
  },
  {
   "cell_type": "code",
   "execution_count": 38,
   "id": "1073ca21",
   "metadata": {},
   "outputs": [
    {
     "data": {
      "text/plain": [
       "171"
      ]
     },
     "execution_count": 38,
     "metadata": {},
     "output_type": "execute_result"
    }
   ],
   "source": [
    "#The internet tells me monday 1901 is a tuesday, which makes sunday the 5th element.\n",
    "#startung from the 5th element which is the first sunday, we count every 7th element that has value 1\n",
    "np.sum(calendar_array[5::7]==1)"
   ]
  },
  {
   "cell_type": "markdown",
   "id": "9f79c2f3",
   "metadata": {},
   "source": [
    "## Problem 20\n",
    "\n",
    "<p>$n!$ means $n \\times (n - 1) \\times \\cdots \\times 3 \\times 2 \\times 1$.</p>\n",
    "<p>For example, $10! = 10 \\times 9 \\times \\cdots \\times 3 \\times 2 \\times 1 = 3628800$,<br>and the sum of the digits in the number $10!$ is $3 + 6 + 2 + 8 + 8 + 0 + 0 = 27$.</p>\n",
    "<p>Find the sum of the digits in the number $100!$.</p>\n"
   ]
  },
  {
   "cell_type": "code",
   "execution_count": 148,
   "id": "efa25b8c",
   "metadata": {},
   "outputs": [],
   "source": [
    "import numpy as np\n",
    "s = np.sum([int(x) for x in str(np.math.factorial(100))])"
   ]
  },
  {
   "cell_type": "code",
   "execution_count": 149,
   "id": "2b0584ad",
   "metadata": {},
   "outputs": [
    {
     "data": {
      "text/plain": [
       "648"
      ]
     },
     "execution_count": 149,
     "metadata": {},
     "output_type": "execute_result"
    }
   ],
   "source": [
    "s"
   ]
  },
  {
   "cell_type": "code",
   "execution_count": null,
   "id": "d6db69aa",
   "metadata": {},
   "outputs": [],
   "source": []
  }
 ],
 "metadata": {
  "kernelspec": {
   "display_name": "Python 3 (ipykernel)",
   "language": "python",
   "name": "python3"
  },
  "language_info": {
   "codemirror_mode": {
    "name": "ipython",
    "version": 3
   },
   "file_extension": ".py",
   "mimetype": "text/x-python",
   "name": "python",
   "nbconvert_exporter": "python",
   "pygments_lexer": "ipython3",
   "version": "3.10.6"
  }
 },
 "nbformat": 4,
 "nbformat_minor": 5
}
