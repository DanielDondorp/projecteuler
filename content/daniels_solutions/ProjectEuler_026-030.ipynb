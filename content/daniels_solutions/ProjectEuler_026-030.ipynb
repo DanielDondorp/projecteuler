{
 "cells": [
  {
   "cell_type": "markdown",
   "id": "c8057679-9976-4852-b2fd-6a32c1436a36",
   "metadata": {},
   "source": [
    "## 26 - Reciprocal Cycles\n",
    "\n",
    "<p>A unit fraction contains $1$ in the numerator. The decimal representation of the unit fractions with denominators $2$ to $10$ are given:</p>\n",
    "\\begin{align}\n",
    "1/2 = 0.5\\\\\n",
    "1/3 =0.(3)\\\\\n",
    "1/4 =0.25\\\\\n",
    "1/5 = 0.2\\\\\n",
    "1/6 = 0.1(6)\\\\\n",
    "1/7 = 0.(142857)\\\\\n",
    "1/8 = 0.125\\\\\n",
    "1/9 = 0.(1)\\\\\n",
    "1/10= 0.1\n",
    "\\end{align}\n",
    "<p>Where $0.1(6)$ means $0.166666\\cdots$, and has a $1$-digit recurring cycle. It can be seen that $1/7$ has a $6$-digit recurring cycle.</p>\n",
    "<p>Find the value of $d \\lt 1000$ for which $1/d$ contains the longest recurring cycle in its decimal fraction part.</p>\n"
   ]
  },
  {
   "cell_type": "code",
   "execution_count": 33,
   "id": "d9e45df8-9c2c-49cf-9fd4-02ccb0333242",
   "metadata": {},
   "outputs": [
    {
     "name": "stdout",
     "output_type": "stream",
     "text": [
      "0 1\n"
     ]
    }
   ],
   "source": [
    "#thought excercise: consider 1/4:\n",
    "result = 1//4\n",
    "remainder = 1%4\n",
    "print(result, remainder)"
   ]
  },
  {
   "cell_type": "code",
   "execution_count": 34,
   "id": "f5aa2a7c-c7f6-403f-a9d7-c5199fa829f8",
   "metadata": {},
   "outputs": [
    {
     "name": "stdout",
     "output_type": "stream",
     "text": [
      "2 2\n"
     ]
    }
   ],
   "source": [
    "#carry the remainder\n",
    "result = (remainder * 10)//4\n",
    "remainder = (remainder *10) %4\n",
    "print(result, remainder)"
   ]
  },
  {
   "cell_type": "code",
   "execution_count": 35,
   "id": "7b1423c3-580e-4e3a-97d3-742d68ce9d32",
   "metadata": {},
   "outputs": [
    {
     "name": "stdout",
     "output_type": "stream",
     "text": [
      "5 0\n"
     ]
    }
   ],
   "source": [
    "#carry the remainder again\n",
    "result = (remainder * 10)//4\n",
    "remainder = (remainder *10) %4\n",
    "print(result, remainder)"
   ]
  },
  {
   "cell_type": "markdown",
   "id": "2671393c-a10b-4fc3-a17c-bcd4f4b40d79",
   "metadata": {},
   "source": [
    "When the remainder is 0, we see that the divisors for each decimal level are 0, 2, 5, meaning 1/4 = 0.25. Now we do the same for 1/3:"
   ]
  },
  {
   "cell_type": "code",
   "execution_count": 42,
   "id": "5b7c4a5e-f13d-44b1-a1e2-507b011353ed",
   "metadata": {},
   "outputs": [
    {
     "name": "stdout",
     "output_type": "stream",
     "text": [
      "0 1\n"
     ]
    }
   ],
   "source": [
    "result = 1//3\n",
    "remainder = 1%3\n",
    "print(result, remainder)"
   ]
  },
  {
   "cell_type": "code",
   "execution_count": 43,
   "id": "51afb497-1391-4c45-9482-a1c3b67cbe27",
   "metadata": {},
   "outputs": [
    {
     "name": "stdout",
     "output_type": "stream",
     "text": [
      "3 1\n"
     ]
    }
   ],
   "source": [
    "\n",
    "#carry the remainder\n",
    "result = (remainder * 10)//3\n",
    "remainder = (remainder *10) %3\n",
    "print(result, remainder)"
   ]
  },
  {
   "cell_type": "markdown",
   "id": "b8d40cef-763b-43d8-8013-8b4da1db9d50",
   "metadata": {},
   "source": [
    "We see that since the remainder is 1 as before, the result will be the same. Therefore we know that if we encounter a remainder we have already seen we are entering a recurring decimal?"
   ]
  },
  {
   "cell_type": "code",
   "execution_count": 108,
   "id": "fa51dd15-91ef-423c-9848-2d570516e332",
   "metadata": {},
   "outputs": [],
   "source": [
    "def check_recurring(d):\n",
    "    result = 1//d\n",
    "    remainder = 1%d\n",
    "    remainders = []\n",
    "    seq = []\n",
    "    while remainder > 0:\n",
    "        if remainder in remainders:\n",
    "            return [True, d, seq]\n",
    "        remainders.append(remainder)\n",
    "        result = (remainder * 10) // d\n",
    "        remainder = (remainder *10) % d\n",
    "        seq.append(result)\n",
    "    return (False, d, seq)\n",
    "        \n",
    "    "
   ]
  },
  {
   "cell_type": "code",
   "execution_count": 109,
   "id": "f9580dd2-236f-4d5f-b207-6180c3d42523",
   "metadata": {},
   "outputs": [
    {
     "data": {
      "text/plain": [
       "[True, 7, [1, 4, 2, 8, 5, 7]]"
      ]
     },
     "execution_count": 109,
     "metadata": {},
     "output_type": "execute_result"
    }
   ],
   "source": [
    "check_recurring(7)"
   ]
  },
  {
   "cell_type": "code",
   "execution_count": 121,
   "id": "7cd15a5b-17f0-4440-9175-01ee4641168a",
   "metadata": {},
   "outputs": [
    {
     "data": {
      "text/plain": [
       "0.03225806451612903"
      ]
     },
     "execution_count": 121,
     "metadata": {},
     "output_type": "execute_result"
    }
   ],
   "source": [
    "1/31"
   ]
  },
  {
   "cell_type": "code",
   "execution_count": 123,
   "id": "3b06b6e9-20e6-4123-be10-140e30d381e7",
   "metadata": {},
   "outputs": [],
   "source": [
    "current_longest = 0\n",
    "current_d = 0\n",
    "for i in range(1,1000, 1):\n",
    "    rec, d, seq = check_recurring(i)\n",
    "    if rec and len(seq) > current_longest:\n",
    "        current_longest = len(seq)\n",
    "        current_d = d\n",
    "            \n",
    "    "
   ]
  },
  {
   "cell_type": "code",
   "execution_count": 124,
   "id": "d0871fef-d6d7-4c7d-8b2e-653b2871b7a6",
   "metadata": {},
   "outputs": [
    {
     "data": {
      "text/plain": [
       "982"
      ]
     },
     "execution_count": 124,
     "metadata": {},
     "output_type": "execute_result"
    }
   ],
   "source": [
    "current_longest"
   ]
  },
  {
   "cell_type": "code",
   "execution_count": 125,
   "id": "ae9b8ef3-76ac-45dd-a8b3-06cec4d56b86",
   "metadata": {},
   "outputs": [
    {
     "data": {
      "text/plain": [
       "983"
      ]
     },
     "execution_count": 125,
     "metadata": {},
     "output_type": "execute_result"
    }
   ],
   "source": [
    "current_d"
   ]
  },
  {
   "cell_type": "code",
   "execution_count": 105,
   "id": "962d950f-e4e4-4ca3-a31d-45401f0f4446",
   "metadata": {},
   "outputs": [
    {
     "data": {
      "text/plain": [
       "3"
      ]
     },
     "execution_count": 105,
     "metadata": {},
     "output_type": "execute_result"
    }
   ],
   "source": [
    "current_longest"
   ]
  },
  {
   "cell_type": "markdown",
   "id": "ecf8b25e-b5fa-4448-aae7-5991b442f2ec",
   "metadata": {},
   "source": [
    "## 27 - Quadratic primes\n",
    "\n",
    "<p>Euler discovered the remarkable quadratic formula:</p>\n",
    "<p class=\"center\">$n^2 + n + 41$</p>\n",
    "<p>It turns out that the formula will produce $40$ primes for the consecutive integer values $0 \\le n \\le 39$. However, when $n = 40, 40^2 + 40 + 41 = 40(40 + 1) + 41$ is divisible by $41$, and certainly when $n = 41, 41^2 + 41 + 41$ is clearly divisible by $41$.</p>\n",
    "<p>The incredible formula $n^2 - 79n + 1601$ was discovered, which produces $80$ primes for the consecutive values $0 \\le n \\le 79$. The product of the coefficients, $-79$ and $1601$, is $-126479$.</p>\n",
    "<p>Considering quadratics of the form:</p>\n",
    "<blockquote>\n",
    "$n^2 + an + b$, where $|a| \\lt 1000$ and $|b| \\le 1000$<br><br><div>where $|n|$ is the modulus/absolute value of $n$<br>e.g. $|11| = 11$ and $|-4| = 4$</div>\n",
    "</blockquote>\n",
    "<p>Find the product of the coefficients, $a$ and $b$, for the quadratic expression that produces the maximum number of primes for consecutive values of $n$, starting with $n = 0$.</p>"
   ]
  },
  {
   "cell_type": "code",
   "execution_count": null,
   "id": "a015d7f7-3731-4bfc-ae3e-93b96edbf094",
   "metadata": {},
   "outputs": [],
   "source": []
  },
  {
   "cell_type": "markdown",
   "id": "83b00054-ea2a-43df-99c7-49372b84e1c8",
   "metadata": {},
   "source": [
    "## 28 - Number Spiral Diagonals\n",
    "\n",
    "<p>Starting with the number $1$ and moving to the right in a clockwise direction a $5$ by $5$ spiral is formed as follows:</p>\n",
    "<p class=\"monospace center\"><span class=\"red\"><b>21</b></span> 22 23 24 <span class=\"red\"><b>25</b></span><br>\n",
    "20  <span class=\"red\"><b>7</b></span>  8  <span class=\"red\"><b>9</b></span> 10<br>\n",
    "19  6  <span class=\"red\"><b>1</b></span>  2 11<br>\n",
    "18  <span class=\"red\"><b>5</b></span>  4  <span class=\"red\"><b>3</b></span> 12<br><span class=\"red\"><b>17</b></span> 16 15 14 <span class=\"red\"><b>13</b></span></p>\n",
    "<p>It can be verified that the sum of the numbers on the diagonals is $101$.</p>\n",
    "<p>What is the sum of the numbers on the diagonals in a $1001$ by $1001$ spiral formed in the same way?</p>\n"
   ]
  },
  {
   "cell_type": "code",
   "execution_count": null,
   "id": "6c6a6afe-b865-4fa8-9373-263a3dfca465",
   "metadata": {},
   "outputs": [],
   "source": []
  },
  {
   "cell_type": "markdown",
   "id": "4abd843a-2f0b-4127-b90c-55296632dcb4",
   "metadata": {},
   "source": [
    "## 29 - Distinct Powers\n",
    "\n",
    "<p>Consider all integer combinations of $a^b$ for $2 \\le a \\le 5$ and $2 \\le b \\le 5$:</p>\n",
    "\\begin{matrix}\n",
    "2^2=4, &amp;2^3=8, &amp;2^4=16, &amp;2^5=32\\\\\n",
    "3^2=9, &amp;3^3=27, &amp;3^4=81, &amp;3^5=243\\\\\n",
    "4^2=16, &amp;4^3=64, &amp;4^4=256, &amp;4^5=1024\\\\\n",
    "5^2=25, &amp;5^3=125, &amp;5^4=625, &amp;5^5=3125\n",
    "\\end{matrix}\n",
    "<p>If they are then placed in numerical order, with any repeats removed, we get the following sequence of $15$ distinct terms:\n",
    "$$4, 8, 9, 16, 25, 27, 32, 64, 81, 125, 243, 256, 625, 1024, 3125.$$</p>\n",
    "<p>How many distinct terms are in the sequence generated by $a^b$ for $2 \\le a \\le 100$ and $2 \\le b \\le 100$?</p>\n"
   ]
  },
  {
   "cell_type": "code",
   "execution_count": null,
   "id": "a76f1cd9-9c32-46da-9175-51fd2c3b18b1",
   "metadata": {},
   "outputs": [],
   "source": []
  },
  {
   "cell_type": "markdown",
   "id": "1bc2d37a-4436-4fb8-b166-0d219d54dbab",
   "metadata": {},
   "source": [
    "## 30 - Digit Fifth Powers\n",
    "\n",
    "<p>Surprisingly there are only three numbers that can be written as the sum of fourth powers of their digits:\n",
    "\\begin{align}\n",
    "1634 &amp;= 1^4 + 6^4 + 3^4 + 4^4\\\\\n",
    "8208 &amp;= 8^4 + 2^4 + 0^4 + 8^4\\\\\n",
    "9474 &amp;= 9^4 + 4^4 + 7^4 + 4^4\n",
    "\\end{align}\n",
    "</p><p class=\"smaller\">As $1 = 1^4$ is not a sum it is not included.</p>\n",
    "<p>The sum of these numbers is $1634 + 8208 + 9474 = 19316$.</p>\n",
    "<p>Find the sum of all the numbers that can be written as the sum of fifth powers of their digits.</p>\n"
   ]
  },
  {
   "cell_type": "code",
   "execution_count": null,
   "id": "78eec2fb-08bc-4852-9be5-1606f58fdac9",
   "metadata": {},
   "outputs": [],
   "source": []
  }
 ],
 "metadata": {
  "kernelspec": {
   "display_name": "Python 3 (ipykernel)",
   "language": "python",
   "name": "python3"
  },
  "language_info": {
   "codemirror_mode": {
    "name": "ipython",
    "version": 3
   },
   "file_extension": ".py",
   "mimetype": "text/x-python",
   "name": "python",
   "nbconvert_exporter": "python",
   "pygments_lexer": "ipython3",
   "version": "3.10.6"
  }
 },
 "nbformat": 4,
 "nbformat_minor": 5
}
