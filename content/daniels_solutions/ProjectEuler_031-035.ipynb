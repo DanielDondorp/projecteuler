{
 "cells": [
  {
   "cell_type": "code",
   "execution_count": 3,
   "id": "63cfc433-6ca2-4997-9a4e-5ad326b68162",
   "metadata": {},
   "outputs": [],
   "source": [
    "import numpy as np"
   ]
  },
  {
   "cell_type": "markdown",
   "id": "892f13f1-e1a4-4e13-8e31-2bfd8bfd6f2e",
   "metadata": {},
   "source": [
    "## 31 - Coin Sums\n",
    "\n",
    "<p>In the United Kingdom the currency is made up of pound (£) and pence (p). There are eight coins in general circulation:</p>\n",
    "<blockquote>1p, 2p, 5p, 10p, 20p, 50p, £1 (100p), and £2 (200p).</blockquote>\n",
    "<p>It is possible to make £2 in the following way:</p>\n",
    "<blockquote>1×£1 + 1×50p + 2×20p + 1×5p + 1×2p + 3×1p</blockquote>\n",
    "<p>How many different ways can £2 be made using any number of coins?</p>\n",
    "coins?"
   ]
  },
  {
   "cell_type": "code",
   "execution_count": 3,
   "id": "e9dfd960-e782-4d0a-bf34-d3fe8c7f3405",
   "metadata": {},
   "outputs": [],
   "source": [
    "coins = [200, 100, 50, 20, 10, 5, 2, 1]\n",
    "target = 200\n",
    "#try a recursive approach\n",
    "def combinations(target, coins):\n",
    "    if target == 0: # if zero, there are no ways, so return list of 0 combinations\n",
    "        return [[]]\n",
    "    if target < 0 or not coins: # if under target or no coins left, return empty list with no combinations\n",
    "        return []\n",
    "    \n",
    "    #we either use the current coin in reaching the target, or we do not, so we run two recursive scenarios:\n",
    "    #Combinations of using the current coin:\n",
    "    combinations_with_current_coin = combinations(target - coins[0], coins)\n",
    "    \n",
    "    #combinations without using the current coin\n",
    "    combinations_without_current_coin = combinations(target, coins[1:])\n",
    "    \n",
    "    #add the current coin to all combinations that make use of it\n",
    "    all_combinations = [[coins[0]] + combi for combi in combinations_with_current_coin]\n",
    "    \n",
    "    #finally return all combinations with current coin, and the ones without the current coin\n",
    "    return all_combinations + combinations_without_current_coin"
   ]
  },
  {
   "cell_type": "code",
   "execution_count": 4,
   "id": "36341d5c-0369-4062-ad84-df541af35565",
   "metadata": {},
   "outputs": [
    {
     "name": "stdout",
     "output_type": "stream",
     "text": [
      "73682\n"
     ]
    }
   ],
   "source": [
    "result = combinations(target, coins)\n",
    "print(len(result))"
   ]
  },
  {
   "cell_type": "code",
   "execution_count": 5,
   "id": "e961a5e9-e777-4ada-833a-9a9d5f510be8",
   "metadata": {},
   "outputs": [
    {
     "name": "stdout",
     "output_type": "stream",
     "text": [
      "73682\n"
     ]
    }
   ],
   "source": [
    "#What if we try to look at all ways to make combinations for all values up to 200 pennies?\n",
    "#There is one way to make 0, by using no coins. There is 1 way to make 1, by using 1 penny.\n",
    "#There are two ways to make 2, by using 2 pennies and by using 1 2 penny.\n",
    "\n",
    "#empty array to store combinations for all values up to 200, including 0 is 201 long\n",
    "combinations = np.zeros(201, dtype=np.int32)\n",
    "coins = [1,2,5,10,20,50,100,200]\n",
    "#start with combination for value 0, which is one. By using no coins.\n",
    "combinations[0] = 1\n",
    "\n",
    "#for every coin\n",
    "for coin in coins:\n",
    "    # A coin value has one way to contribute to creating exactly its own value, but cant contribute to creating lower values. \n",
    "    # Therefore starting from coin-value and up to target;\n",
    "    for i in range(coin, 201):\n",
    "        # update how many ways we can reach the given value\n",
    "        # with the given coin and all previous coins combined. \n",
    "        # by adding the current number of combinations to the amount of ways we got to the value minus the current coin. \n",
    "        # for example there are for value 8 given coin 5, we need to add all the ways to make 3 from 1 and 2,\n",
    "        # plus all the ways to make 8 from 1 and 2 to get all the ways we can make 8 from 1, 2 and 5. Therefore \n",
    "        # we can iteratively add the number of current combinations \n",
    "        # to the number of combinations minus the current coin value:\n",
    "        combinations[i] += combinations[i-coin]\n",
    "#we want to know how many ways there are to make 200:\n",
    "print(combinations[-1])"
   ]
  },
  {
   "cell_type": "markdown",
   "id": "506b69e9-be26-4ce5-805e-071840faa00c",
   "metadata": {},
   "source": [
    "## 32 - Pandigital Products\n",
    "\n",
    "<p>We shall say that an $n$-digit number is pandigital if it makes use of all the digits $1$ to $n$ exactly once; for example, the $5$-digit number, $15234$, is $1$ through $5$ pandigital.</p>\n",
    "\n",
    "<p>The product $7254$ is unusual, as the identity, $39 \\times 186 = 7254$, containing multiplicand, multiplier, and product is $1$ through $9$ pandigital.</p>\n",
    "\n",
    "<p>Find the sum of all products whose multiplicand/multiplier/product identity can be written as a $1$ through $9$ pandigital.</p>\n",
    "\n",
    "<div class=\"note\">HINT: Some products can be obtained in more than one way so be sure to only include it once in your sum.</div>\n"
   ]
  },
  {
   "cell_type": "code",
   "execution_count": 1,
   "id": "0478e47f-5df1-48f5-9b54-7fb1bf939c5e",
   "metadata": {},
   "outputs": [
    {
     "data": {
      "text/plain": [
       "823394565"
      ]
     },
     "execution_count": 1,
     "metadata": {},
     "output_type": "execute_result"
    }
   ],
   "source": [
    "9765 * 84321"
   ]
  },
  {
   "cell_type": "markdown",
   "id": "0c3cf3dd-e6ed-4268-9c15-fc6a603f5c26",
   "metadata": {},
   "source": [
    "## 33 - Digital Cancelling Fractions\n",
    "\n",
    "<p>The fraction $49/98$ is a curious fraction, as an inexperienced mathematician in attempting to simplify it may incorrectly believe that $49/98 = 4/8$, which is correct, is obtained by cancelling the $9$s.</p>\n",
    "<p>We shall consider fractions like, $30/50 = 3/5$, to be trivial examples.</p>\n",
    "<p>There are exactly four non-trivial examples of this type of fraction, less than one in value, and containing two digits in the numerator and denominator.</p>\n",
    "<p>If the product of these four fractions is given in its lowest common terms, find the value of the denominator.</p>\n"
   ]
  },
  {
   "cell_type": "code",
   "execution_count": 270,
   "id": "f429d4a1-eacc-4b77-84e8-1f3621ac8592",
   "metadata": {},
   "outputs": [
    {
     "name": "stdout",
     "output_type": "stream",
     "text": [
      "Our fractions are:\n",
      " 16/64\n",
      " 19/95\n",
      " 26/65\n",
      " 49/98\n"
     ]
    }
   ],
   "source": [
    "fracs = [] # gather our found non-trivial fractions\n",
    "for a in range(11, 100): #for all values with two digits\n",
    "    for b in range(a+1, 100): #for all values with two digits higher than a (to only check fractions smaller than 1)\n",
    "        string_a, string_b = str(a), str(b) #strings to check if digits in both numbers\n",
    "        if (\n",
    "            #if value in both numbers\n",
    "            (string_a[0] in string_b or string_a[1] in string_b) and\n",
    "            #if there is no 0 in the first number\n",
    "            (\"0\" not in string_a) and \n",
    "            # if the numbers arent two of the same digit\n",
    "            (string_a[0] != string_a[1] and string_b[0] != string_b[1])\n",
    "        ):\n",
    "            frac = a/b #calculate fraction\n",
    "            set_a = set([int(x) for x in string_a]) \n",
    "            set_b = set([int(x) for x in string_b])\n",
    "            digits = list(set_a.difference(set_b).union(set_b.difference(set_a))) #find the numbers that the sets dont have in common\n",
    "            \n",
    "            if len(digits) == 2 and not 0 in digits: #if there are exactly two numbers in the set of digits, and they are both not zero:\n",
    "                digits = [[digit for digit in digits if digit in set_a][0], [digit for digit in digits if digit in set_b][0]] #sort so that the first digit belongs to number a and the second digit belongs to number b\n",
    "                simplified = digits[0]/digits[1] # calculate simplified fraction\n",
    "                if frac == simplified: # if the frac happens to have the same value as the simplified fraction we have found a non-trivial example\n",
    "                    fracs.append((a,b))\n",
    "           \n",
    "print(f\"Our fractions are:\")\n",
    "for frac in fracs:\n",
    "    print(f\" {frac[0]}/{frac[1]}\")"
   ]
  },
  {
   "cell_type": "code",
   "execution_count": 271,
   "id": "10fca199-43b4-495d-9bcd-5d7568f2d6bf",
   "metadata": {},
   "outputs": [],
   "source": [
    "# put our fractions in a numpy array to more easily multiply them\n",
    "fracs = np.vstack(fracs)"
   ]
  },
  {
   "cell_type": "code",
   "execution_count": 272,
   "id": "e0676382-bef5-4228-8b03-f747b5c07fed",
   "metadata": {},
   "outputs": [],
   "source": [
    "#the product of our fractions is num/denom:\n",
    "num, denom = np.product(fracs, axis = 0)"
   ]
  },
  {
   "cell_type": "code",
   "execution_count": 273,
   "id": "813076f7-2f53-4929-be77-b7ec3d116fce",
   "metadata": {},
   "outputs": [
    {
     "data": {
      "text/plain": [
       "(387296, 38729600)"
      ]
     },
     "execution_count": 273,
     "metadata": {},
     "output_type": "execute_result"
    }
   ],
   "source": [
    "num, denom"
   ]
  },
  {
   "cell_type": "code",
   "execution_count": 264,
   "id": "d7ec82e2-6697-4c3b-8e80-3ace8884203a",
   "metadata": {},
   "outputs": [],
   "source": [
    "#to simplify this fraction we have to find common denominators, which we can do recursively. \n",
    "#I am using recursion too much these days. \n",
    "def get_common_denom(a, b):\n",
    "    if b == 0:\n",
    "        return a\n",
    "    return get_common_denom(b, a%b)"
   ]
  },
  {
   "cell_type": "code",
   "execution_count": 265,
   "id": "ebe1c477-4102-4554-8ee6-45a80165a640",
   "metadata": {},
   "outputs": [],
   "source": [
    "common_denom = get_common_denom(num, denom)"
   ]
  },
  {
   "cell_type": "code",
   "execution_count": 274,
   "id": "2238e1f2-fd59-45f5-ad61-d3ce6015a783",
   "metadata": {},
   "outputs": [],
   "source": [
    "num//=common_denom\n",
    "denom//=common_denom"
   ]
  },
  {
   "cell_type": "code",
   "execution_count": 277,
   "id": "8d6ce68c-7a14-4adb-9bb3-c6d32179496f",
   "metadata": {},
   "outputs": [
    {
     "name": "stdout",
     "output_type": "stream",
     "text": [
      "The final fraction is 1/100, which makes the answer 100\n"
     ]
    }
   ],
   "source": [
    "print(f\"The final fraction is {num}/{denom}, which makes the answer {denom}\")"
   ]
  },
  {
   "cell_type": "markdown",
   "id": "3ae94993-a127-4e94-ba64-eb373868dbe0",
   "metadata": {},
   "source": [
    "Wild that that would all add up to be 100...."
   ]
  },
  {
   "cell_type": "markdown",
   "id": "d0803816-422c-4413-b333-69cd389a5f20",
   "metadata": {},
   "source": [
    "## 34 - Digit Factorials\n",
    "\n",
    "<p>$145$ is a curious number, as $1! + 4! + 5! = 1 + 24 + 120 = 145$.</p>\n",
    "<p>Find the sum of all numbers which are equal to the sum of the factorial of their digits.</p>\n",
    "<p class=\"smaller\">Note: As $1! = 1$ and $2! = 2$ are not sums they are not included.</p>\n"
   ]
  },
  {
   "cell_type": "markdown",
   "id": "b05c902e-1bbc-4899-b2c1-a2e93517e411",
   "metadata": {},
   "source": [
    "First we have to find an upper limit? what is the largest number where the sum of the factorials of the digits is still smaller than or equal to the number? Is there such a limit? 99 is going to be much more problematic than 211 for example. \n",
    "\n",
    "We can use the same logic we used for problem 30 where we said that since "
   ]
  },
  {
   "cell_type": "code",
   "execution_count": 76,
   "id": "fc9c96a5-bd18-45e4-b39a-2a1b72bc3b8f",
   "metadata": {},
   "outputs": [],
   "source": [
    "import math"
   ]
  },
  {
   "cell_type": "code",
   "execution_count": 77,
   "id": "265ed0f8-a1e3-4e7e-803d-7f9ca9c5dd4a",
   "metadata": {},
   "outputs": [],
   "source": [
    "def digit_factorial_sum(number):\n",
    "    return np.sum([math.factorial(int(x)) for x in str(number)])"
   ]
  },
  {
   "cell_type": "code",
   "execution_count": 83,
   "id": "a121d184-1ab7-489f-a7d9-5c6f9140c914",
   "metadata": {},
   "outputs": [
    {
     "name": "stdout",
     "output_type": "stream",
     "text": [
      "The highest 8-digit number, 99999999, gives a result of length 7\n"
     ]
    }
   ],
   "source": [
    "for i in range(1, 10):\n",
    "    upper_limit = int(\"9\"*i)\n",
    "    lensum = len(str(digit_factorial_sum(number)))\n",
    "    if i > lensum:\n",
    "        print(f\"The highest {i}-digit number, {upper_limit}, gives a result of length {lensum}\")\n",
    "        break #we found the upper limit"
   ]
  },
  {
   "cell_type": "markdown",
   "id": "08eedfb4-3061-4cbe-98de-db7400535252",
   "metadata": {},
   "source": [
    "this means that our upper limit is the highest 7 digit number:"
   ]
  },
  {
   "cell_type": "code",
   "execution_count": 97,
   "id": "b0cecb8b-0c2e-40a8-8acd-8ca69ec58f4d",
   "metadata": {},
   "outputs": [],
   "source": [
    "upper_limit = int(\"9\"*7)"
   ]
  },
  {
   "cell_type": "code",
   "execution_count": 98,
   "id": "f78d7ffd-e8ec-4f6f-a9de-44d7700126b9",
   "metadata": {},
   "outputs": [
    {
     "data": {
      "text/plain": [
       "9999999"
      ]
     },
     "execution_count": 98,
     "metadata": {},
     "output_type": "execute_result"
    }
   ],
   "source": [
    "upper_limit"
   ]
  },
  {
   "cell_type": "code",
   "execution_count": 99,
   "id": "070c343e-7415-485b-94c7-4ee42823c05e",
   "metadata": {},
   "outputs": [],
   "source": [
    "def does_it_sum(number):\n",
    "    return number == digit_factorial_sum(number)"
   ]
  },
  {
   "cell_type": "code",
   "execution_count": 100,
   "id": "689acc44-bdc3-4c97-8420-5981e31c6cd2",
   "metadata": {},
   "outputs": [
    {
     "data": {
      "text/plain": [
       "True"
      ]
     },
     "execution_count": 100,
     "metadata": {},
     "output_type": "execute_result"
    }
   ],
   "source": [
    "does_it_sum(145)"
   ]
  },
  {
   "cell_type": "code",
   "execution_count": 101,
   "id": "7dc28401-63fb-49d3-be60-ffcb31b76e38",
   "metadata": {},
   "outputs": [
    {
     "name": "stdout",
     "output_type": "stream",
     "text": [
      "Finding all numbers from 3 to 9999999 where the digit factorial sum is the same as the number\n"
     ]
    }
   ],
   "source": [
    "print(f\"Finding all numbers from 3 to {upper_limit} where the digit factorial sum is the same as the number\")"
   ]
  },
  {
   "cell_type": "code",
   "execution_count": 95,
   "id": "18161427-2bf3-4ff1-902a-cc6ab21fa65c",
   "metadata": {},
   "outputs": [
    {
     "name": "stdout",
     "output_type": "stream",
     "text": [
      "CPU times: user 1min 6s, sys: 0 ns, total: 1min 6s\n",
      "Wall time: 1min 6s\n"
     ]
    }
   ],
   "source": [
    "%%time\n",
    "stupid_solution = np.sum([x for x in range(3, upper_limit) if does_it_sum(x)])"
   ]
  },
  {
   "cell_type": "code",
   "execution_count": 96,
   "id": "514579c6-11a0-427b-a870-6e403b60d669",
   "metadata": {},
   "outputs": [
    {
     "data": {
      "text/plain": [
       "40730"
      ]
     },
     "execution_count": 96,
     "metadata": {},
     "output_type": "execute_result"
    }
   ],
   "source": [
    "stupid_solution"
   ]
  },
  {
   "cell_type": "code",
   "execution_count": null,
   "id": "fab1e2cb-c29b-4ee9-81b7-6f58ae5f0723",
   "metadata": {},
   "outputs": [],
   "source": [
    "#first we have to figure out an upper limit? What is the largest number where the sum of the fac"
   ]
  },
  {
   "cell_type": "markdown",
   "id": "e16aa007-df26-41e7-a842-b34e50f0ff64",
   "metadata": {},
   "source": [
    "## 35 - Circular Primes\n",
    "\n",
    "<p>The number, $197$, is called a circular prime because all rotations of the digits: $197$, $971$, and $719$, are themselves prime.</p>\n",
    "<p>There are thirteen such primes below $100$: $2, 3, 5, 7, 11, 13, 17, 31, 37, 71, 73, 79$, and $97$.</p>\n",
    "<p>How many circular primes are there below one million?</p>\n"
   ]
  },
  {
   "cell_type": "code",
   "execution_count": 55,
   "id": "9b5ba8e8-faaa-46c9-8a1b-4e0fc152a3b9",
   "metadata": {},
   "outputs": [],
   "source": [
    "def rotate(seq: int):\n",
    "    \n",
    "    seq = str(seq)\n",
    "    l = len(seq)\n",
    "    seq+=seq\n",
    "    seqs = [int(seq[i:i+l]) for i in range(l)]        \n",
    "    return seqs\n",
    "        \n",
    "    "
   ]
  },
  {
   "cell_type": "code",
   "execution_count": 57,
   "id": "3c98c39f-f602-4ae9-ad8f-7b48a0e6c895",
   "metadata": {},
   "outputs": [
    {
     "data": {
      "text/plain": [
       "[917, 179, 791]"
      ]
     },
     "execution_count": 57,
     "metadata": {},
     "output_type": "execute_result"
    }
   ],
   "source": [
    "rotate(917)"
   ]
  },
  {
   "cell_type": "code",
   "execution_count": 59,
   "id": "ecfe5a61-b5bd-4b06-b62b-1bcbfe3dfeab",
   "metadata": {},
   "outputs": [],
   "source": [
    "from utils import is_prime\n",
    "is_prime_array = np.vectorize(is_prime) #so that I can apply the function along an array\n",
    "numbers = np.arange(1, 1e6, dtype = int)\n",
    "primes = numbers[is_prime_array(numbers)] #get all primes"
   ]
  },
  {
   "cell_type": "code",
   "execution_count": 62,
   "id": "5c518358-d609-45dd-8312-3427941f0146",
   "metadata": {},
   "outputs": [],
   "source": [
    "def is_circular(prime):\n",
    "    rotations = rotate(prime)\n",
    "    for p in rotations:\n",
    "        if not is_prime(p):\n",
    "            return False\n",
    "    return True\n",
    "            "
   ]
  },
  {
   "cell_type": "code",
   "execution_count": 66,
   "id": "767a9148-dee7-48b0-911f-02adc1a7f482",
   "metadata": {},
   "outputs": [],
   "source": [
    "circulars = [p for p in primes if is_circular(p)]\n",
    "    "
   ]
  },
  {
   "cell_type": "code",
   "execution_count": 67,
   "id": "9e3ef2d4-e7e9-433b-a4ea-a43f7779113b",
   "metadata": {},
   "outputs": [
    {
     "data": {
      "text/plain": [
       "56"
      ]
     },
     "execution_count": 67,
     "metadata": {},
     "output_type": "execute_result"
    }
   ],
   "source": [
    "len(circulars)"
   ]
  },
  {
   "cell_type": "code",
   "execution_count": 68,
   "id": "699ecd2d-3a1c-4c07-b0d0-4fd38f73ecc0",
   "metadata": {},
   "outputs": [
    {
     "data": {
      "text/plain": [
       "999331"
      ]
     },
     "execution_count": 68,
     "metadata": {},
     "output_type": "execute_result"
    }
   ],
   "source": [
    "circulars[-1]"
   ]
  },
  {
   "cell_type": "code",
   "execution_count": 71,
   "id": "7b71cd52-c395-4b9f-945f-21effaaeae46",
   "metadata": {},
   "outputs": [
    {
     "data": {
      "text/plain": [
       "[1, 2, 3, 5, 7, 11, 13, 17, 31, 37, 71, 73, 79]"
      ]
     },
     "execution_count": 71,
     "metadata": {},
     "output_type": "execute_result"
    }
   ],
   "source": [
    "circulars[:13]"
   ]
  },
  {
   "cell_type": "code",
   "execution_count": null,
   "id": "205feab5-5abb-46bc-a0a5-41e41796e301",
   "metadata": {},
   "outputs": [],
   "source": []
  }
 ],
 "metadata": {
  "kernelspec": {
   "display_name": "Python 3 (ipykernel)",
   "language": "python",
   "name": "python3"
  },
  "language_info": {
   "codemirror_mode": {
    "name": "ipython",
    "version": 3
   },
   "file_extension": ".py",
   "mimetype": "text/x-python",
   "name": "python",
   "nbconvert_exporter": "python",
   "pygments_lexer": "ipython3",
   "version": "3.10.6"
  }
 },
 "nbformat": 4,
 "nbformat_minor": 5
}
