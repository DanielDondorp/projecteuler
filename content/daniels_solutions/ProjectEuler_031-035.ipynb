{
 "cells": [
  {
   "cell_type": "markdown",
   "id": "892f13f1-e1a4-4e13-8e31-2bfd8bfd6f2e",
   "metadata": {},
   "source": [
    "## 31 - Coin Sums\n",
    "\n",
    "<p>In the United Kingdom the currency is made up of pound (£) and pence (p). There are eight coins in general circulation:</p>\r\n",
    "<blockquote>1p, 2p, 5p, 10p, 20p, 50p, £1 (100p), and £2 (200p).</blockquote>\r\n",
    "<p>It is possible to make £2 in the following way:</p>\r\n",
    "<blockquote>1×£1 + 1×50p + 2×20p + 1×5p + 1×2p + 3×1p</blockquote>\r\n",
    "<p>How many different ways can £2 be made using any number of coins?</p>\r\n",
    "coins?"
   ]
  },
  {
   "cell_type": "code",
   "execution_count": null,
   "id": "e9dfd960-e782-4d0a-bf34-d3fe8c7f3405",
   "metadata": {},
   "outputs": [],
   "source": [
    "coins = [200, 100, 50, 20, 10, 5, 2, 1]\n",
    "target = 200\n",
    "#try a recursive approach\n",
    "def combinations(target, coins):\n",
    "    if target == 0: # if zero, there are no ways, so return list of 0 combinations\n",
    "        return [[]]\n",
    "    if target < 0 or not coins: # if under target or no coins left, return empty list with no combinations\n",
    "        return []\n",
    "    \n",
    "    #we either use the current coin in reaching the target, or we do not, so we run two recursive scenarios:\n",
    "    #Combinations of using the current coin:\n",
    "    combinations_with_current_coin = combinations(target - coins[0], coins)\n",
    "    \n",
    "    #combinations without using the current coin\n",
    "    combinations_without_current_coin = combinations(target, coins[1:])\n",
    "    \n",
    "    #add the current coin to all combinations that make use of it\n",
    "    all_combinations = [[coins[0]] + combi for combi in combinations_with_current_coin]\n",
    "    \n",
    "    #finally return all combinations with current coin, and the ones without the current coin\n",
    "    return all_combinations + combinations_without_current_coin"
   ]
  },
  {
   "cell_type": "code",
   "execution_count": null,
   "id": "36341d5c-0369-4062-ad84-df541af35565",
   "metadata": {},
   "outputs": [],
   "source": []
  },
  {
   "cell_type": "code",
   "execution_count": null,
   "id": "e961a5e9-e777-4ada-833a-9a9d5f510be8",
   "metadata": {},
   "outputs": [],
   "source": []
  },
  {
   "cell_type": "code",
   "execution_count": null,
   "id": "20a92631-433b-4aab-9b6e-98e1b9d0029a",
   "metadata": {},
   "outputs": [],
   "source": []
  },
  {
   "cell_type": "markdown",
   "id": "506b69e9-be26-4ce5-805e-071840faa00c",
   "metadata": {},
   "source": [
    "## 32 - Pandigital Products\n",
    "\n",
    "<p>We shall say that an $n$-digit number is pandigital if it makes use of all the digits $1$ to $n$ exactly once; for example, the $5$-digit number, $15234$, is $1$ through $5$ pandigital.</p>\r\n",
    "\r\n",
    "<p>The product $7254$ is unusual, as the identity, $39 \\times 186 = 7254$, containing multiplicand, multiplier, and product is $1$ through $9$ pandigital.</p>\r\n",
    "\r\n",
    "<p>Find the sum of all products whose multiplicand/multiplier/product identity can be written as a $1$ through $9$ pandigital.</p>\r\n",
    "\r\n",
    "<div class=\"note\">HINT: Some products can be obtained in more than one way so be sure to only include it once in your sum.</div>\r\n"
   ]
  },
  {
   "cell_type": "code",
   "execution_count": null,
   "id": "0478e47f-5df1-48f5-9b54-7fb1bf939c5e",
   "metadata": {},
   "outputs": [],
   "source": []
  },
  {
   "cell_type": "markdown",
   "id": "0c3cf3dd-e6ed-4268-9c15-fc6a603f5c26",
   "metadata": {},
   "source": [
    "## 33 - Digital Cancelling Fractions\n",
    "\n",
    "<p>The fraction $49/98$ is a curious fraction, as an inexperienced mathematician in attempting to simplify it may incorrectly believe that $49/98 = 4/8$, which is correct, is obtained by cancelling the $9$s.</p>\n",
    "<p>We shall consider fractions like, $30/50 = 3/5$, to be trivial examples.</p>\n",
    "<p>There are exactly four non-trivial examples of this type of fraction, less than one in value, and containing two digits in the numerator and denominator.</p>\n",
    "<p>If the product of these four fractions is given in its lowest common terms, find the value of the denominator.</p>\n"
   ]
  },
  {
   "cell_type": "code",
   "execution_count": null,
   "id": "8849a733-7db6-4623-9914-49ff888daa8f",
   "metadata": {},
   "outputs": [],
   "source": []
  },
  {
   "cell_type": "markdown",
   "id": "d0803816-422c-4413-b333-69cd389a5f20",
   "metadata": {},
   "source": [
    "## 34 - Digit Factorials\n",
    "\n",
    "<p>$145$ is a curious number, as $1! + 4! + 5! = 1 + 24 + 120 = 145$.</p>\r\n",
    "<p>Find the sum of all numbers which are equal to the sum of the factorial of their digits.</p>\r\n",
    "<p class=\"smaller\">Note: As $1! = 1$ and $2! = 2$ are not sums they are not included.</p>\r\n"
   ]
  },
  {
   "cell_type": "code",
   "execution_count": null,
   "id": "fab1e2cb-c29b-4ee9-81b7-6f58ae5f0723",
   "metadata": {},
   "outputs": [],
   "source": []
  },
  {
   "cell_type": "markdown",
   "id": "e16aa007-df26-41e7-a842-b34e50f0ff64",
   "metadata": {},
   "source": [
    "## 35 - Circular Primes\n",
    "\n",
    "<p>The number, $197$, is called a circular prime because all rotations of the digits: $197$, $971$, and $719$, are themselves prime.</p>\r\n",
    "<p>There are thirteen such primes below $100$: $2, 3, 5, 7, 11, 13, 17, 31, 37, 71, 73, 79$, and $97$.</p>\r\n",
    "<p>How many circular primes are there below one million?</p>\r\n"
   ]
  },
  {
   "cell_type": "code",
   "execution_count": null,
   "id": "2d5ed8f6-b65b-499b-8284-5441c8262923",
   "metadata": {},
   "outputs": [],
   "source": []
  }
 ],
 "metadata": {
  "kernelspec": {
   "display_name": "Python 3 (ipykernel)",
   "language": "python",
   "name": "python3"
  },
  "language_info": {
   "codemirror_mode": {
    "name": "ipython",
    "version": 3
   },
   "file_extension": ".py",
   "mimetype": "text/x-python",
   "name": "python",
   "nbconvert_exporter": "python",
   "pygments_lexer": "ipython3",
   "version": "3.10.6"
  }
 },
 "nbformat": 4,
 "nbformat_minor": 5
}
