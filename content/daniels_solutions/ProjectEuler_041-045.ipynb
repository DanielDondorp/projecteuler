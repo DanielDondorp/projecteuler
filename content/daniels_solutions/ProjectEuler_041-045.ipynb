{
 "cells": [
  {
   "cell_type": "markdown",
   "id": "46d6690a-fc6a-4e72-8ab1-e5f529c310a3",
   "metadata": {},
   "source": [
    "## Problem 42 - Coded Triangle Numbers:\n",
    "\n",
    "<p>The $n$<sup>th</sup> term of the sequence of triangle numbers is given by, $t_n = \\frac12n(n+1)$; so the first ten triangle numbers are:\n",
    "$$1, 3, 6, 10, 15, 21, 28, 36, 45, 55, \\dots$$</p>\n",
    "<p>By converting each letter in a word to a number corresponding to its alphabetical position and adding these values we form a word value. For example, the word value for SKY is $19 + 11 + 25 = 55 = t_{10}$. If the word value is a triangle number then we shall call the word a triangle word.</p>\n",
    "\n",
    "Using [words.txt](https://www.projecteuler.net/resources/documents/0042_words.txt), a 16K text file containing nearly two-thousand common English words, how many are triangle words?</p>"
   ]
  },
  {
   "cell_type": "code",
   "execution_count": 1,
   "id": "297f7c14-5d90-4ceb-91a8-350f2760a996",
   "metadata": {},
   "outputs": [],
   "source": [
    "import urllib\n",
    "import numpy as np"
   ]
  },
  {
   "cell_type": "code",
   "execution_count": 2,
   "id": "0f727859-ba02-452f-9274-195140d406e2",
   "metadata": {},
   "outputs": [],
   "source": [
    "with urllib.request.urlopen(\"http://www.projecteuler.net/resources/documents/0042_words.txt\") as f:\n",
    "    text = f.read()\n",
    "text = text.decode()"
   ]
  },
  {
   "cell_type": "code",
   "execution_count": 3,
   "id": "c046f531-7203-4812-81b2-e56126630eff",
   "metadata": {},
   "outputs": [],
   "source": [
    "text = text.replace('\"', '')"
   ]
  },
  {
   "cell_type": "code",
   "execution_count": 4,
   "id": "fa06fc54-a188-4928-8d83-f9d07f49006e",
   "metadata": {},
   "outputs": [],
   "source": [
    "text = text.split(\",\")"
   ]
  },
  {
   "cell_type": "code",
   "execution_count": 18,
   "id": "51e45a20-6390-4dfc-9cef-e04f75e9597b",
   "metadata": {
    "scrolled": true
   },
   "outputs": [],
   "source": [
    "letter_scores = {letter: c+1 for c, letter in enumerate(\"ABCDEFGHIJKLMNOPQRSTUVWXYZ\")}"
   ]
  },
  {
   "cell_type": "code",
   "execution_count": 19,
   "id": "ea3823d2-187f-4f22-aa7a-fb8a06b189ab",
   "metadata": {},
   "outputs": [],
   "source": [
    "def sum_word(word):\n",
    "    return(sum([letter_scores[letter] for letter in word]))"
   ]
  },
  {
   "cell_type": "code",
   "execution_count": 20,
   "id": "cf758345-783d-4e28-ac52-834ad21fd948",
   "metadata": {},
   "outputs": [],
   "source": [
    "triangle_numbers = np.cumsum(np.arange(100)) #gives us triangle numbers up to 210, which is 1 triangle number over max word score"
   ]
  },
  {
   "cell_type": "code",
   "execution_count": 21,
   "id": "ee2b3a33-23e4-43e3-ae1b-0e15a93e35a3",
   "metadata": {},
   "outputs": [],
   "source": [
    "triangle_words = [word for word in text if sum_word(word) in triangle_numbers]"
   ]
  },
  {
   "cell_type": "code",
   "execution_count": 22,
   "id": "066c635c-911a-4c69-b7eb-e8d613414f6f",
   "metadata": {},
   "outputs": [
    {
     "data": {
      "text/plain": [
       "162"
      ]
     },
     "execution_count": 22,
     "metadata": {},
     "output_type": "execute_result"
    }
   ],
   "source": [
    "len(triangle_words)"
   ]
  },
  {
   "cell_type": "code",
   "execution_count": 23,
   "id": "229e7a7c-6de8-433d-88a0-71125c2735f2",
   "metadata": {},
   "outputs": [
    {
     "data": {
      "text/plain": [
       "55"
      ]
     },
     "execution_count": 23,
     "metadata": {},
     "output_type": "execute_result"
    }
   ],
   "source": [
    "sum_word(\"SKY\")"
   ]
  },
  {
   "cell_type": "code",
   "execution_count": 24,
   "id": "b99072c2-0ccc-4898-b0f5-9d8153b3f343",
   "metadata": {},
   "outputs": [
    {
     "data": {
      "text/plain": [
       "{'A': 1,\n",
       " 'B': 2,\n",
       " 'C': 3,\n",
       " 'D': 4,\n",
       " 'E': 5,\n",
       " 'F': 6,\n",
       " 'G': 7,\n",
       " 'H': 8,\n",
       " 'I': 9,\n",
       " 'J': 10,\n",
       " 'K': 11,\n",
       " 'L': 12,\n",
       " 'M': 13,\n",
       " 'N': 14,\n",
       " 'O': 15,\n",
       " 'P': 16,\n",
       " 'Q': 17,\n",
       " 'R': 18,\n",
       " 'S': 19,\n",
       " 'T': 20,\n",
       " 'U': 21,\n",
       " 'V': 22,\n",
       " 'W': 23,\n",
       " 'X': 24,\n",
       " 'Y': 25,\n",
       " 'Z': 26}"
      ]
     },
     "execution_count": 24,
     "metadata": {},
     "output_type": "execute_result"
    }
   ],
   "source": [
    "letter_scores"
   ]
  },
  {
   "cell_type": "code",
   "execution_count": null,
   "id": "b4e82363-6e6e-4716-b8e6-26b9d4f5b9b0",
   "metadata": {},
   "outputs": [],
   "source": []
  }
 ],
 "metadata": {
  "kernelspec": {
   "display_name": "Python 3 (ipykernel)",
   "language": "python",
   "name": "python3"
  },
  "language_info": {
   "codemirror_mode": {
    "name": "ipython",
    "version": 3
   },
   "file_extension": ".py",
   "mimetype": "text/x-python",
   "name": "python",
   "nbconvert_exporter": "python",
   "pygments_lexer": "ipython3",
   "version": "3.10.12"
  }
 },
 "nbformat": 4,
 "nbformat_minor": 5
}
