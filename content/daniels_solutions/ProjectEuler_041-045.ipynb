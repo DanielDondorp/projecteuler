{
 "cells": [
  {
   "cell_type": "markdown",
   "id": "d8a16a59-b029-4376-9e04-02504fbb5a5c",
   "metadata": {},
   "source": [
    "## Problem 41 - pandigital primes\n",
    "\n",
    "<p>We shall say that an $n$-digit number is pandigital if it makes use of all the digits $1$ to $n$ exactly once. For example, $2143$ is a $4$-digit pandigital and is also prime.</p>\n",
    "<p>What is the largest $n$-digit pandigital prime that exists?</p>\n"
   ]
  },
  {
   "cell_type": "code",
   "execution_count": 1,
   "id": "e56da700-4839-4935-aeee-5c2d11185fb8",
   "metadata": {},
   "outputs": [],
   "source": [
    "import numpy as np\n",
    "from sympy import isprime\n",
    "import tqdm\n",
    "import sys"
   ]
  },
  {
   "cell_type": "code",
   "execution_count": 2,
   "id": "b3084eb9-8775-4f21-931a-31f2bf9dac37",
   "metadata": {
    "scrolled": true
   },
   "outputs": [
    {
     "name": "stdout",
     "output_type": "stream",
     "text": [
      "CPU times: user 1 µs, sys: 0 ns, total: 1 µs\n",
      "Wall time: 2.38 µs\n"
     ]
    }
   ],
   "source": [
    "%%time\n",
    "##THIS ENTIRE SOLUTION IS TOO SLOW! DONT RUN THIS! It works but takes almost 15 minutes.\n",
    "# def is_pandigital(x: int) -> bool:\n",
    "#     x = str(x)\n",
    "#     if \"0\" in x:\n",
    "#         return False\n",
    "#     if sorted(x) == [str(n+1) for n in range(len(x))]:\n",
    "#         return True\n",
    "#     return False\n",
    "\n",
    "##max to check is a nine digit prime, so we have to make all primes up to 987654321\n",
    "# primes_to_check = [x for x in np.arange(2,987654321,1) if is_pandigital(x)]\n",
    "\n",
    "# len(primes_to_check)\n",
    "\n",
    "# ps = [p for p in primes_to_check if isprime(p)]\n",
    "\n",
    "# print(max(ps))"
   ]
  },
  {
   "cell_type": "markdown",
   "id": "b2dc65b5-0f92-4754-baed-e519fff42f6e",
   "metadata": {},
   "source": [
    "After failing to optimise my own solution I read through the Euler forums for problem 41 and came across the claim \"If the sum of digits of a number is divisible by 3, the number itself is divisible by 3, and therefore not a prime\".\n",
    "\n",
    "With this idea we can find how many digits a pandigital can have and still be prime:"
   ]
  },
  {
   "cell_type": "code",
   "execution_count": 3,
   "id": "d5e753bf-37c8-4482-a4b1-c363723d9547",
   "metadata": {},
   "outputs": [
    {
     "name": "stdout",
     "output_type": "stream",
     "text": [
      "A 1 digit pandigital sums to 1, 1%3 = 0. \tA 1-digit pandigital might be prime\n",
      "A 2 digit pandigital sums to 3, 3%3 = 0. \tA 2-digit pandigital will never be prime\n",
      "A 3 digit pandigital sums to 6, 6%3 = 0. \tA 3-digit pandigital will never be prime\n",
      "A 4 digit pandigital sums to 10, 10%3 = 0. \tA 4-digit pandigital might be prime\n",
      "A 5 digit pandigital sums to 15, 15%3 = 0. \tA 5-digit pandigital will never be prime\n",
      "A 6 digit pandigital sums to 21, 21%3 = 0. \tA 6-digit pandigital will never be prime\n",
      "A 7 digit pandigital sums to 28, 28%3 = 0. \tA 7-digit pandigital might be prime\n",
      "A 8 digit pandigital sums to 36, 36%3 = 0. \tA 8-digit pandigital will never be prime\n",
      "A 9 digit pandigital sums to 45, 45%3 = 0. \tA 9-digit pandigital will never be prime\n"
     ]
    }
   ],
   "source": [
    "digits = [1,2,3,4,5,6,7,8,9]\n",
    "for win in range(1, 10):\n",
    "    pdd = digits[0:win]\n",
    "    s = sum(pdd)\n",
    "    if s%3 == 0:\n",
    "        print(f\"A {win} digit pandigital sums to {s}, {s}%3 = 0. \\tA {win}-digit pandigital will never be prime\")\n",
    "    if s%3 != 0:\n",
    "        print(f\"A {win} digit pandigital sums to {s}, {s}%3 = 0. \\tA {win}-digit pandigital might be prime\")\n",
    "        "
   ]
  },
  {
   "cell_type": "markdown",
   "id": "d06d08db-6569-4d2d-b88f-460a6d184b79",
   "metadata": {},
   "source": [
    "Therefore we know we only have to check 7-digit and 4 digit pandigitals which reduces the search space. I have been trying to understand _why_ it is true that if the sum of digits is divisible by three the number is divisible by three, but I`d be lying if I said I really understand it."
   ]
  },
  {
   "cell_type": "code",
   "execution_count": 4,
   "id": "fa6385d4-c636-403e-aa81-6b0cbcb67ddf",
   "metadata": {},
   "outputs": [
    {
     "name": "stdout",
     "output_type": "stream",
     "text": [
      "The largest n-digit pandigital prime is 7652413\n",
      "CPU times: user 807 µs, sys: 729 µs, total: 1.54 ms\n",
      "Wall time: 1.48 ms\n"
     ]
    }
   ],
   "source": [
    "%%time\n",
    "#Check the 7 digit search space\n",
    "from itertools import permutations\n",
    "seven_digit_pandigitals = [int(\"\".join(x)) for x in permutations(\"1234567\")]\n",
    "seven_digit_pandigitals = np.sort(seven_digit_pandigitals)[::-1]\n",
    "\n",
    "for sdp in seven_digit_pandigitals:\n",
    "    if isprime(sdp):\n",
    "        print(f\"The largest n-digit pandigital prime is {sdp}\")\n",
    "        break"
   ]
  },
  {
   "cell_type": "markdown",
   "id": "6a10237b-3fcd-4f13-ac5f-74f1a01f970e",
   "metadata": {},
   "source": [
    "This is so much more efficient, but I would not have known the divide by three trick without help."
   ]
  },
  {
   "cell_type": "markdown",
   "id": "46d6690a-fc6a-4e72-8ab1-e5f529c310a3",
   "metadata": {},
   "source": [
    "## Problem 42 - Coded Triangle Numbers:\n",
    "\n",
    "<p>The $n$<sup>th</sup> term of the sequence of triangle numbers is given by, $t_n = \\frac12n(n+1)$; so the first ten triangle numbers are:\n",
    "$$1, 3, 6, 10, 15, 21, 28, 36, 45, 55, \\dots$$</p>\n",
    "<p>By converting each letter in a word to a number corresponding to its alphabetical position and adding these values we form a word value. For example, the word value for SKY is $19 + 11 + 25 = 55 = t_{10}$. If the word value is a triangle number then we shall call the word a triangle word.</p>\n",
    "\n",
    "Using [words.txt](https://www.projecteuler.net/resources/documents/0042_words.txt), a 16K text file containing nearly two-thousand common English words, how many are triangle words?</p>"
   ]
  },
  {
   "cell_type": "code",
   "execution_count": 5,
   "id": "297f7c14-5d90-4ceb-91a8-350f2760a996",
   "metadata": {},
   "outputs": [],
   "source": [
    "import urllib\n",
    "import numpy as np"
   ]
  },
  {
   "cell_type": "code",
   "execution_count": 7,
   "id": "fdac588b-03bd-4b73-ad2d-3d6846aa5743",
   "metadata": {},
   "outputs": [
    {
     "name": "stdout",
     "output_type": "stream",
     "text": [
      "Read in the word list of 1786 words\n"
     ]
    }
   ],
   "source": [
    "#read in the linked file\n",
    "with urllib.request.urlopen(\"https://www.projecteuler.net/resources/documents/0042_words.txt\") as f:\n",
    "    text = f.read()\n",
    "#format the text into a list of bare words\n",
    "text = text.decode()\n",
    "text = text.replace('\"', '')\n",
    "text = text.split(\",\")\n",
    "print(f\"Read in the word list of {len(text)} words\")\n"
   ]
  },
  {
   "cell_type": "code",
   "execution_count": 8,
   "id": "42842e33-ba64-48de-bb64-ed839d27178f",
   "metadata": {},
   "outputs": [
    {
     "name": "stdout",
     "output_type": "stream",
     "text": [
      "CPU times: user 4.08 ms, sys: 1.67 ms, total: 5.75 ms\n",
      "Wall time: 5.72 ms\n"
     ]
    },
    {
     "data": {
      "text/plain": [
       "162"
      ]
     },
     "execution_count": 8,
     "metadata": {},
     "output_type": "execute_result"
    }
   ],
   "source": [
    "%%time\n",
    "\n",
    "#create a dict with letterscores\n",
    "letter_scores = {letter: c+1 for c, letter in enumerate(\"ABCDEFGHIJKLMNOPQRSTUVWXYZ\")}\n",
    "\n",
    "#function to score a word with the score dict\n",
    "def sum_word(word):\n",
    "    return(sum([letter_scores[letter] for letter in word]))\n",
    "\n",
    "#get a list of triangle numbers to reference\n",
    "triangle_numbers = np.cumsum(np.arange(100)) #gives us triangle numbers up to 210, which is 1 triangle number over max word score\n",
    "\n",
    "#check the words for triangle word propertie\n",
    "triangle_words = [word for word in text if sum_word(word) in triangle_numbers]\n",
    "\n",
    "#show the answer\n",
    "len(triangle_words)"
   ]
  },
  {
   "cell_type": "markdown",
   "id": "01a7b30e-c213-4d49-a83b-bf0d6293d3b4",
   "metadata": {},
   "source": [
    "## Problem 43 - Substring divisibility\n",
    "\n",
    "<p>The number, $1406357289$, is a $0$ to $9$ pandigital number because it is made up of each of the digits $0$ to $9$ in some order, but it also has a rather interesting sub-string divisibility property.</p>\n",
    "<p>Let $d_1$ be the $1$<sup>st</sup> digit, $d_2$ be the $2$<sup>nd</sup> digit, and so on. In this way, we note the following:</p>\n",
    "<ul><li>$d_2d_3d_4=406$ is divisible by $2$</li>\n",
    "<li>$d_3d_4d_5=063$ is divisible by $3$</li>\n",
    "<li>$d_4d_5d_6=635$ is divisible by $5$</li>\n",
    "<li>$d_5d_6d_7=357$ is divisible by $7$</li>\n",
    "<li>$d_6d_7d_8=572$ is divisible by $11$</li>\n",
    "<li>$d_7d_8d_9=728$ is divisible by $13$</li>\n",
    "<li>$d_8d_9d_{10}=289$ is divisible by $17$</li>\n",
    "</ul><p>Find the sum of all $0$ to $9$ pandigital numbers with this property.</p>\n"
   ]
  },
  {
   "cell_type": "code",
   "execution_count": 9,
   "id": "2c0a0244-3eb6-4046-baa9-7e2118bfafd6",
   "metadata": {},
   "outputs": [],
   "source": [
    "pandigitals = [\"\".join(x) for x in permutations(\"1234567890\") if not x[0] == \"0\"]"
   ]
  },
  {
   "cell_type": "code",
   "execution_count": 10,
   "id": "bd2d3182-aec9-450b-99c2-1cda12fe4af6",
   "metadata": {},
   "outputs": [
    {
     "name": "stdout",
     "output_type": "stream",
     "text": [
      "16695334890\n",
      "CPU times: user 17.4 s, sys: 7.01 ms, total: 17.4 s\n",
      "Wall time: 17.4 s\n"
     ]
    }
   ],
   "source": [
    "%%time\n",
    "\n",
    "#A list to gather qualifying pandigitals\n",
    "divisible_pandigitals = []\n",
    "#loop over all pandigitals\n",
    "for pandigital in pandigitals:\n",
    "    #divide the pandigital into substrings\n",
    "    divided = np.array([int(pandigital[i:i+3]) for i in range(1,len(pandigital)-2)])\n",
    "    #check if the substrings are divisible in the way described in the problem\n",
    "    #if there are no residuals the pandigital qualifies\n",
    "    if np.sum(divided % np.array([2,3,5,7,11,13,17])) == 0:\n",
    "        divisible_pandigitals.append(int(pandigital))\n",
    "\n",
    "#print the answer\n",
    "print(sum(divisible_pandigitals))\n",
    "        "
   ]
  },
  {
   "cell_type": "markdown",
   "id": "09876855-dbfb-4781-89b7-18c6fded07f5",
   "metadata": {},
   "source": [
    "## Problem 43 - Pentagon Numbers\n",
    "\n",
    "<p>Pentagonal numbers are generated by the formula, $P_n=n(3n-1)/2$. The first ten pentagonal numbers are:\n",
    "$$1, 5, 12, 22, 35, 51, 70, 92, 117, 145, \\dots$$</p>\n",
    "<p>It can be seen that $P_4 + P_7 = 22 + 70 = 92 = P_8$. However, their difference, $70 - 22 = 48$, is not pentagonal.</p>\n",
    "<p>Find the pair of pentagonal numbers, $P_j$ and $P_k$, for which their sum and difference are pentagonal and $D = |P_k - P_j|$ is minimised; what is the value of $D$?</p>"
   ]
  },
  {
   "cell_type": "markdown",
   "id": "657460bd-5e27-4955-a330-e229c713dab7",
   "metadata": {},
   "source": [
    "-------\n",
    "I`m feeling my highschool math itch. If $ P_n = \\frac{n(3n-1)}{2}$ then to check if any number $p$ is a pentagon number we can solve for $2p = n(3n-1)$, which becomes the quadratic equation $3n^2 - n - 2p = 0$. So given P we can check if any of the roots of this equation are a positive integer? Is that even useful to solve this problem? \n",
    "It might be faster to just generate a whole bunch of pentagon numbers and check if the number is in the set...\n",
    "\n",
    "Minimizing D, the absolute difference of the terms, might be a hint. I dont think that the difference from one pentagon number to the next ever decreases. We can see the first differential of the equation:\n",
    "\n",
    "$$P_n = \\frac{n(3n-1)}{2}$$\n",
    "can be written as \n",
    "$$\n",
    "P_n = \\frac{1}{2} (n(3n-1)\n",
    "$$ \n",
    "\n",
    "of which the first derivative is, I hope:\n",
    "\n",
    "$$\n",
    "P_n' = 3n-\\frac{1}{2}\n",
    "$$\n",
    "\n",
    "which means the difference between one triangle number and the next steadily increases.\n"
   ]
  },
  {
   "cell_type": "code",
   "execution_count": 45,
   "id": "bcfd1699-9004-48ad-b992-9db6d4cf1416",
   "metadata": {},
   "outputs": [],
   "source": [
    "def make_pentagon_number(n):\n",
    "    return (n*(3*n - 1))/2\n",
    "\n",
    "def first_derivative(n):\n",
    "    return (3*n)-(1/2)"
   ]
  },
  {
   "cell_type": "code",
   "execution_count": 46,
   "id": "79f4d16f-20cb-4cd3-bc1d-994ad2c215be",
   "metadata": {},
   "outputs": [],
   "source": [
    "ns = np.arange(1, 1000, 1)\n",
    "pentagons = make_pentagon_number(ns)\n",
    "first_derivs = first_derivative(ns)"
   ]
  },
  {
   "cell_type": "code",
   "execution_count": 47,
   "id": "358b976b-8808-4f6d-a787-64338f98b20b",
   "metadata": {},
   "outputs": [],
   "source": [
    "import matplotlib.pyplot as plt"
   ]
  },
  {
   "cell_type": "code",
   "execution_count": 48,
   "id": "e4064c59-1045-42e1-9647-66c99ab36155",
   "metadata": {},
   "outputs": [
    {
     "data": {
      "image/png": "[encoded data removed]",
      "text/plain": [
       "<Figure size 1000x250 with 2 Axes>"
      ]
     },
     "metadata": {},
     "output_type": "display_data"
    }
   ],
   "source": [
    "fig, axes = plt.subplots(1, 2, figsize = (10, 2.5))\n",
    "axes[0].plot(ns, pentagons)\n",
    "axes[0].set_title(\"Pentagon numbers\")\n",
    "axes[1].plot(ns, first_derivs)\n",
    "axes[1].set_title(\"First derivative\");"
   ]
  },
  {
   "cell_type": "markdown",
   "id": "7a532e9d-bcf5-4cb2-b317-d711eb007fd5",
   "metadata": {},
   "source": [
    "Ok, so now what? Do we just check np.diff for ever increasing windows and check if there are pentagon numbers? We need a way to check if a number is a pentagon number in any case. Can I reverse engineer the equation somehow? I`ll transfer my thoughts from a few pages of paper notebook here...\n",
    "\n",
    "if $x = \\frac{1}{2}n(3n -1)$\n",
    "\n",
    "inverting for y: \n",
    "\n",
    "$$2x = 3n^2 -n$$\n",
    "$$3n^2-n-2x = 0$$\n",
    "\n",
    "So we can solve the quadratic equation where $a = 3, b = -1, c = -2x$:\n",
    "\n",
    "$$n=\\frac{-b +- \\sqrt{b^2 - 4ac}}{2a}$$\n",
    "\n",
    "plug in a, b and c:\n",
    "\n",
    "$$n=\\frac{1 - \\sqrt{1 + 24x}}{6}$$ \n",
    "or\n",
    "$$n=\\frac{1 + \\sqrt{1 + 24x}}{6}$$\n",
    "\n",
    "But since we cannot have negative Ns, the first term cant be true so we have to find the natural numbers with the second equation. If we replace the division with a modulus we`re there I think: If a number is a pentagon number, the equation\n",
    "\n",
    "$$ (1 + \\sqrt{1+24x}) \\% 6 == 0$$ "
   ]
  },
  {
   "cell_type": "code",
   "execution_count": 51,
   "id": "f60f4d39-6499-4e7d-a308-f05d7600943e",
   "metadata": {},
   "outputs": [],
   "source": [
    "def is_pentagon_number(p):\n",
    "    return (1+np.sqrt((24*p) + 1))%6 ==0 "
   ]
  },
  {
   "cell_type": "code",
   "execution_count": 62,
   "id": "7781b31a-2280-411f-9298-f4b7722135d6",
   "metadata": {},
   "outputs": [
    {
     "name": "stdout",
     "output_type": "stream",
     "text": [
      "5482660\n"
     ]
    }
   ],
   "source": [
    "i = 1\n",
    "D = None\n",
    "while not D:\n",
    "    i+= 1\n",
    "    pk = make_pentagon_number(i)\n",
    "    for j in range(1, i):\n",
    "        pj = make_pentagon_number(j)\n",
    "        if is_pentagon_number(pk - pj) and is_pentagon_number(pk+pj):\n",
    "            D = int(np.abs(pk-pj))\n",
    "print(D)   "
   ]
  },
  {
   "cell_type": "code",
   "execution_count": null,
   "id": "c60ec3d5-31e2-41a6-8213-a82a1b416e89",
   "metadata": {},
   "outputs": [],
   "source": []
  }
 ],
 "metadata": {
  "kernelspec": {
   "display_name": "Python 3 (ipykernel)",
   "language": "python",
   "name": "python3"
  },
  "language_info": {
   "codemirror_mode": {
    "name": "ipython",
    "version": 3
   },
   "file_extension": ".py",
   "mimetype": "text/x-python",
   "name": "python",
   "nbconvert_exporter": "python",
   "pygments_lexer": "ipython3",
   "version": "3.10.12"
  }
 },
 "nbformat": 4,
 "nbformat_minor": 5
}
