{
 "cells": [
  {
   "cell_type": "markdown",
   "id": "d8a16a59-b029-4376-9e04-02504fbb5a5c",
   "metadata": {},
   "source": [
    "## Problem 41 - pandigital primes\n",
    "\n",
    "<p>We shall say that an $n$-digit number is pandigital if it makes use of all the digits $1$ to $n$ exactly once. For example, $2143$ is a $4$-digit pandigital and is also prime.</p>\n",
    "<p>What is the largest $n$-digit pandigital prime that exists?</p>\n"
   ]
  },
  {
   "cell_type": "code",
   "execution_count": 11,
   "id": "e56da700-4839-4935-aeee-5c2d11185fb8",
   "metadata": {},
   "outputs": [],
   "source": [
    "import numpy as np\n",
    "from sympy import isprime\n",
    "import tqdm\n",
    "import sys"
   ]
  },
  {
   "cell_type": "code",
   "execution_count": 2,
   "id": "b3084eb9-8775-4f21-931a-31f2bf9dac37",
   "metadata": {
    "scrolled": true
   },
   "outputs": [
    {
     "name": "stdout",
     "output_type": "stream",
     "text": [
      "7652413\n",
      "CPU times: user 13min 3s, sys: 1.46 s, total: 13min 5s\n",
      "Wall time: 13min 5s\n"
     ]
    }
   ],
   "source": [
    "%%time\n",
    "#THIS ENTIRE SOLUTION IS TOO SLOW!\n",
    "def is_pandigital(x: int) -> bool:\n",
    "    x = str(x)\n",
    "    if \"0\" in x:\n",
    "        return False\n",
    "    if sorted(x) == [str(n+1) for n in range(len(x))]:\n",
    "        return True\n",
    "    return False\n",
    "\n",
    "#max to check is a nine digit prime, so we have to make all primes up to 987654321\n",
    "primes_to_check = [x for x in np.arange(2,987654321,1) if is_pandigital(x)]\n",
    "\n",
    "len(primes_to_check)\n",
    "\n",
    "ps = [p for p in primes_to_check if isprime(p)]\n",
    "\n",
    "print(max(ps))"
   ]
  },
  {
   "cell_type": "markdown",
   "id": "b2dc65b5-0f92-4754-baed-e519fff42f6e",
   "metadata": {},
   "source": [
    "After failing to optimise my own solution I read through the Euler forums for problem 41 and came across the claim \"If the sum of digits of a number is divisible by 3, the number itself is divisible by 3, and therefore not a prime\".\n",
    "\n",
    "With this idea we can find how many digits a pandigital can have and still be prime:"
   ]
  },
  {
   "cell_type": "code",
   "execution_count": 40,
   "id": "d5e753bf-37c8-4482-a4b1-c363723d9547",
   "metadata": {},
   "outputs": [
    {
     "name": "stdout",
     "output_type": "stream",
     "text": [
      "A 1 digit pandigital sums to 1, 1%3 = 0. \tA 1-digit pandigital might be prime\n",
      "A 2 digit pandigital sums to 3, 3%3 = 0. \tA 2-digit pandigital will never be prime\n",
      "A 3 digit pandigital sums to 6, 6%3 = 0. \tA 3-digit pandigital will never be prime\n",
      "A 4 digit pandigital sums to 10, 10%3 = 0. \tA 4-digit pandigital might be prime\n",
      "A 5 digit pandigital sums to 15, 15%3 = 0. \tA 5-digit pandigital will never be prime\n",
      "A 6 digit pandigital sums to 21, 21%3 = 0. \tA 6-digit pandigital will never be prime\n",
      "A 7 digit pandigital sums to 28, 28%3 = 0. \tA 7-digit pandigital might be prime\n",
      "A 8 digit pandigital sums to 36, 36%3 = 0. \tA 8-digit pandigital will never be prime\n",
      "A 9 digit pandigital sums to 45, 45%3 = 0. \tA 9-digit pandigital will never be prime\n"
     ]
    }
   ],
   "source": [
    "digits = [1,2,3,4,5,6,7,8,9]\n",
    "for win in range(1, 10):\n",
    "    pdd = digits[0:win]\n",
    "    s = sum(pdd)\n",
    "    if s%3 == 0:\n",
    "        print(f\"A {win} digit pandigital sums to {s}, {s}%3 = 0. \\tA {win}-digit pandigital will never be prime\")\n",
    "    if s%3 != 0:\n",
    "        print(f\"A {win} digit pandigital sums to {s}, {s}%3 = 0. \\tA {win}-digit pandigital might be prime\")\n",
    "        "
   ]
  },
  {
   "cell_type": "markdown",
   "id": "d06d08db-6569-4d2d-b88f-460a6d184b79",
   "metadata": {},
   "source": [
    "Therefore we know we only have to check 7-digit and 4 digit pandigitals which reduces the search space. I have been trying to understand _why_ it is true that if the sum of digits is divisible by three the number is divisible by three, but I`d be lying if I said I really understand it."
   ]
  },
  {
   "cell_type": "code",
   "execution_count": 53,
   "id": "fa6385d4-c636-403e-aa81-6b0cbcb67ddf",
   "metadata": {},
   "outputs": [
    {
     "name": "stdout",
     "output_type": "stream",
     "text": [
      "The largest n-digit pandigital prime is 7652413\n",
      "CPU times: user 0 ns, sys: 2.29 ms, total: 2.29 ms\n",
      "Wall time: 2.18 ms\n"
     ]
    }
   ],
   "source": [
    "%%time\n",
    "#Check the 7 digit search space\n",
    "from itertools import permutations\n",
    "seven_digit_pandigitals = [int(\"\".join(x)) for x in permutations(\"1234567\")]\n",
    "seven_digit_pandigitals = np.sort(seven_digit_pandigitals)[::-1]\n",
    "\n",
    "for sdp in seven_digit_pandigitals:\n",
    "    if isprime(sdp):\n",
    "        print(f\"The largest n-digit pandigital prime is {sdp}\")\n",
    "        break"
   ]
  },
  {
   "cell_type": "markdown",
   "id": "6a10237b-3fcd-4f13-ac5f-74f1a01f970e",
   "metadata": {},
   "source": [
    "This is so much more efficient, but I would not have known the divide by three trick without help."
   ]
  },
  {
   "cell_type": "markdown",
   "id": "46d6690a-fc6a-4e72-8ab1-e5f529c310a3",
   "metadata": {},
   "source": [
    "## Problem 42 - Coded Triangle Numbers:\n",
    "\n",
    "<p>The $n$<sup>th</sup> term of the sequence of triangle numbers is given by, $t_n = \\frac12n(n+1)$; so the first ten triangle numbers are:\n",
    "$$1, 3, 6, 10, 15, 21, 28, 36, 45, 55, \\dots$$</p>\n",
    "<p>By converting each letter in a word to a number corresponding to its alphabetical position and adding these values we form a word value. For example, the word value for SKY is $19 + 11 + 25 = 55 = t_{10}$. If the word value is a triangle number then we shall call the word a triangle word.</p>\n",
    "\n",
    "Using [words.txt](https://www.projecteuler.net/resources/documents/0042_words.txt), a 16K text file containing nearly two-thousand common English words, how many are triangle words?</p>"
   ]
  },
  {
   "cell_type": "code",
   "execution_count": 54,
   "id": "297f7c14-5d90-4ceb-91a8-350f2760a996",
   "metadata": {},
   "outputs": [],
   "source": [
    "import urllib\n",
    "import numpy as np"
   ]
  },
  {
   "cell_type": "code",
   "execution_count": 56,
   "id": "fdac588b-03bd-4b73-ad2d-3d6846aa5743",
   "metadata": {},
   "outputs": [
    {
     "name": "stdout",
     "output_type": "stream",
     "text": [
      "Read in the word list of 1786 words\n"
     ]
    }
   ],
   "source": [
    "#read in the linked file\n",
    "with urllib.request.urlopen(\"https://www.projecteuler.net/resources/documents/0042_words.txt\") as f:\n",
    "    text = f.read()\n",
    "#format the text into a list of bare words\n",
    "text = text.decode()\n",
    "text = text.replace('\"', '')\n",
    "text = text.split(\",\")\n",
    "print(f\"Read in the word list of {len(text)} words\")\n"
   ]
  },
  {
   "cell_type": "code",
   "execution_count": 57,
   "id": "42842e33-ba64-48de-bb64-ed839d27178f",
   "metadata": {},
   "outputs": [
    {
     "name": "stdout",
     "output_type": "stream",
     "text": [
      "CPU times: user 6.37 ms, sys: 24 µs, total: 6.39 ms\n",
      "Wall time: 6.35 ms\n"
     ]
    },
    {
     "data": {
      "text/plain": [
       "162"
      ]
     },
     "execution_count": 57,
     "metadata": {},
     "output_type": "execute_result"
    }
   ],
   "source": [
    "%%time\n",
    "\n",
    "#create a dict with letterscores\n",
    "letter_scores = {letter: c+1 for c, letter in enumerate(\"ABCDEFGHIJKLMNOPQRSTUVWXYZ\")}\n",
    "\n",
    "#function to score a word with the score dict\n",
    "def sum_word(word):\n",
    "    return(sum([letter_scores[letter] for letter in word]))\n",
    "\n",
    "#get a list of triangle numbers to reference\n",
    "triangle_numbers = np.cumsum(np.arange(100)) #gives us triangle numbers up to 210, which is 1 triangle number over max word score\n",
    "\n",
    "#check the words for triangle word propertie\n",
    "triangle_words = [word for word in text if sum_word(word) in triangle_numbers]\n",
    "\n",
    "#show the answer\n",
    "len(triangle_words)"
   ]
  },
  {
   "cell_type": "markdown",
   "id": "01a7b30e-c213-4d49-a83b-bf0d6293d3b4",
   "metadata": {},
   "source": [
    "## Problem 44 - Substring divisibility\n",
    "\n",
    "<p>The number, $1406357289$, is a $0$ to $9$ pandigital number because it is made up of each of the digits $0$ to $9$ in some order, but it also has a rather interesting sub-string divisibility property.</p>\n",
    "<p>Let $d_1$ be the $1$<sup>st</sup> digit, $d_2$ be the $2$<sup>nd</sup> digit, and so on. In this way, we note the following:</p>\n",
    "<ul><li>$d_2d_3d_4=406$ is divisible by $2$</li>\n",
    "<li>$d_3d_4d_5=063$ is divisible by $3$</li>\n",
    "<li>$d_4d_5d_6=635$ is divisible by $5$</li>\n",
    "<li>$d_5d_6d_7=357$ is divisible by $7$</li>\n",
    "<li>$d_6d_7d_8=572$ is divisible by $11$</li>\n",
    "<li>$d_7d_8d_9=728$ is divisible by $13$</li>\n",
    "<li>$d_8d_9d_{10}=289$ is divisible by $17$</li>\n",
    "</ul><p>Find the sum of all $0$ to $9$ pandigital numbers with this property.</p>\n"
   ]
  },
  {
   "cell_type": "code",
   "execution_count": 102,
   "id": "2c0a0244-3eb6-4046-baa9-7e2118bfafd6",
   "metadata": {},
   "outputs": [],
   "source": [
    "pandigitals = [\"\".join(x) for x in permutations(\"1234567890\") if not x[0] == \"0\"]"
   ]
  },
  {
   "cell_type": "code",
   "execution_count": null,
   "id": "bd2d3182-aec9-450b-99c2-1cda12fe4af6",
   "metadata": {},
   "outputs": [],
   "source": [
    "%%time\n",
    "\n",
    "#A list to gather qualifying pandigitals\n",
    "divisible_pandigitals = []\n",
    "#loop over all pandigitals\n",
    "for pandigital in pandigitals:\n",
    "    #divide the pandigital into substrings\n",
    "    divided = np.array([int(pandigital[i:i+3]) for i in range(1,len(pandigital)-2)])\n",
    "    #check if the substrings are divisible in the way described in the problem\n",
    "    #if there are no residuals the pandigital qualifies\n",
    "    if np.sum(divided % np.array([2,3,5,7,11,13,17])) == 0:\n",
    "        divisible_pandigitals.append(int(pandigital))\n",
    "\n",
    "#print the answer\n",
    "print(sum(divisible_pandigitals))\n",
    "        "
   ]
  },
  {
   "cell_type": "code",
   "execution_count": null,
   "id": "56521c30-4178-47aa-a59d-0c9feb7d8f1d",
   "metadata": {},
   "outputs": [],
   "source": []
  }
 ],
 "metadata": {
  "kernelspec": {
   "display_name": "Python 3 (ipykernel)",
   "language": "python",
   "name": "python3"
  },
  "language_info": {
   "codemirror_mode": {
    "name": "ipython",
    "version": 3
   },
   "file_extension": ".py",
   "mimetype": "text/x-python",
   "name": "python",
   "nbconvert_exporter": "python",
   "pygments_lexer": "ipython3",
   "version": "3.10.12"
  }
 },
 "nbformat": 4,
 "nbformat_minor": 5
}
