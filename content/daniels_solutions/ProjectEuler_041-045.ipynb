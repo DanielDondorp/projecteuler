{
 "cells": [
  {
   "cell_type": "markdown",
   "id": "d8a16a59-b029-4376-9e04-02504fbb5a5c",
   "metadata": {},
   "source": [
    "## Problem 41 - pandigital primes\n",
    "\n",
    "<p>We shall say that an $n$-digit number is pandigital if it makes use of all the digits $1$ to $n$ exactly once. For example, $2143$ is a $4$-digit pandigital and is also prime.</p>\n",
    "<p>What is the largest $n$-digit pandigital prime that exists?</p>\n"
   ]
  },
  {
   "cell_type": "code",
   "execution_count": 1,
   "id": "e56da700-4839-4935-aeee-5c2d11185fb8",
   "metadata": {},
   "outputs": [],
   "source": [
    "import numpy as np\n",
    "from sympy import isprime"
   ]
  },
  {
   "cell_type": "code",
   "execution_count": 3,
   "id": "b3084eb9-8775-4f21-931a-31f2bf9dac37",
   "metadata": {
    "scrolled": true
   },
   "outputs": [
    {
     "name": "stdout",
     "output_type": "stream",
     "text": [
      "7652413\n",
      "CPU times: user 12min 46s, sys: 1.16 s, total: 12min 47s\n",
      "Wall time: 12min 47s\n"
     ]
    }
   ],
   "source": [
    "%%time\n",
    "#THIS ENTIRE SOLUTION IS TOO SLOW!\n",
    "def is_pandigital(x: int) -> bool:\n",
    "    x = str(x)\n",
    "    if \"0\" in x:\n",
    "        return False\n",
    "    if sorted(x) == [str(n+1) for n in range(len(x))]:\n",
    "        return True\n",
    "    return False\n",
    "\n",
    "#max to check is a nine digit prime, so we have to make all primes up to 987654321\n",
    "primes_to_check = [x for x in np.arange(2,987654321,1) if is_pandigital(x)]\n",
    "\n",
    "len(primes_to_check)\n",
    "\n",
    "ps = [p for p in primes_to_check if isprime(p)]\n",
    "\n",
    "print(max(ps))"
   ]
  },
  {
   "cell_type": "markdown",
   "id": "46d6690a-fc6a-4e72-8ab1-e5f529c310a3",
   "metadata": {},
   "source": [
    "## Problem 42 - Coded Triangle Numbers:\n",
    "\n",
    "<p>The $n$<sup>th</sup> term of the sequence of triangle numbers is given by, $t_n = \\frac12n(n+1)$; so the first ten triangle numbers are:\n",
    "$$1, 3, 6, 10, 15, 21, 28, 36, 45, 55, \\dots$$</p>\n",
    "<p>By converting each letter in a word to a number corresponding to its alphabetical position and adding these values we form a word value. For example, the word value for SKY is $19 + 11 + 25 = 55 = t_{10}$. If the word value is a triangle number then we shall call the word a triangle word.</p>\n",
    "\n",
    "Using [words.txt](https://www.projecteuler.net/resources/documents/0042_words.txt), a 16K text file containing nearly two-thousand common English words, how many are triangle words?</p>"
   ]
  },
  {
   "cell_type": "code",
   "execution_count": null,
   "id": "297f7c14-5d90-4ceb-91a8-350f2760a996",
   "metadata": {},
   "outputs": [],
   "source": [
    "import urllib\n",
    "import numpy as np"
   ]
  },
  {
   "cell_type": "code",
   "execution_count": null,
   "id": "0f727859-ba02-452f-9274-195140d406e2",
   "metadata": {},
   "outputs": [],
   "source": [
    "with urllib.request.urlopen(\"http://www.projecteuler.net/resources/documents/0042_words.txt\") as f:\n",
    "    text = f.read()\n",
    "text = text.decode()"
   ]
  },
  {
   "cell_type": "code",
   "execution_count": null,
   "id": "c046f531-7203-4812-81b2-e56126630eff",
   "metadata": {},
   "outputs": [],
   "source": [
    "text = text.replace('\"', '')"
   ]
  },
  {
   "cell_type": "code",
   "execution_count": null,
   "id": "fa06fc54-a188-4928-8d83-f9d07f49006e",
   "metadata": {},
   "outputs": [],
   "source": [
    "text = text.split(\",\")"
   ]
  },
  {
   "cell_type": "code",
   "execution_count": null,
   "id": "51e45a20-6390-4dfc-9cef-e04f75e9597b",
   "metadata": {
    "scrolled": true
   },
   "outputs": [],
   "source": [
    "letter_scores = {letter: c+1 for c, letter in enumerate(\"ABCDEFGHIJKLMNOPQRSTUVWXYZ\")}"
   ]
  },
  {
   "cell_type": "code",
   "execution_count": null,
   "id": "ea3823d2-187f-4f22-aa7a-fb8a06b189ab",
   "metadata": {},
   "outputs": [],
   "source": [
    "def sum_word(word):\n",
    "    return(sum([letter_scores[letter] for letter in word]))"
   ]
  },
  {
   "cell_type": "code",
   "execution_count": null,
   "id": "cf758345-783d-4e28-ac52-834ad21fd948",
   "metadata": {},
   "outputs": [],
   "source": [
    "triangle_numbers = np.cumsum(np.arange(100)) #gives us triangle numbers up to 210, which is 1 triangle number over max word score"
   ]
  },
  {
   "cell_type": "code",
   "execution_count": null,
   "id": "ee2b3a33-23e4-43e3-ae1b-0e15a93e35a3",
   "metadata": {},
   "outputs": [],
   "source": [
    "triangle_words = [word for word in text if sum_word(word) in triangle_numbers]"
   ]
  },
  {
   "cell_type": "code",
   "execution_count": null,
   "id": "066c635c-911a-4c69-b7eb-e8d613414f6f",
   "metadata": {},
   "outputs": [],
   "source": [
    "len(triangle_words)"
   ]
  },
  {
   "cell_type": "code",
   "execution_count": null,
   "id": "f7b336cb-a7b5-4da8-8962-27057114d2bb",
   "metadata": {},
   "outputs": [],
   "source": []
  }
 ],
 "metadata": {
  "kernelspec": {
   "display_name": "Python 3 (ipykernel)",
   "language": "python",
   "name": "python3"
  },
  "language_info": {
   "codemirror_mode": {
    "name": "ipython",
    "version": 3
   },
   "file_extension": ".py",
   "mimetype": "text/x-python",
   "name": "python",
   "nbconvert_exporter": "python",
   "pygments_lexer": "ipython3",
   "version": "3.10.12"
  }
 },
 "nbformat": 4,
 "nbformat_minor": 5
}
